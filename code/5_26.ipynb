{
  "nbformat": 4,
  "nbformat_minor": 0,
  "metadata": {
    "colab": {
      "name": "5_26.ipynb",
      "version": "0.3.2",
      "provenance": []
    },
    "kernelspec": {
      "name": "python3",
      "display_name": "Python 3"
    }
  },
  "cells": [
    {
      "cell_type": "code",
      "metadata": {
        "id": "p1MqiGtNQGC_",
        "colab_type": "code",
        "colab": {
          "base_uri": "https://localhost:8080/",
          "height": 89
        },
        "outputId": "b7895228-1fe7-4092-b234-f6c0034ac6e6"
      },
      "source": [
        "import pandas as pd\n",
        "import numpy as np\n",
        "import random\n",
        "import math\n",
        "import csv\n",
        "#from compiler.ast import flatten\n",
        "import matplotlib.pyplot as plt\n",
        "from matplotlib import patches\n",
        "from mpl_toolkits.mplot3d import Axes3D\n",
        "import seaborn as sns\n",
        "import math\n",
        "import csv\n",
        "import random\n",
        "import string\n",
        "from numpy import array, cov, corrcoef\n",
        "import stats as sts\n",
        "import matplotlib.pyplot as plt\n",
        "import pandas as pd\n",
        "from scipy import optimize\n",
        "from sklearn import preprocessing\n",
        "import pandas as pd\n",
        "import numpy as np\n",
        "import os\n",
        "import tarfile\n",
        "from keras.optimizers import adam, rmsprop, adadelta\n",
        "from keras.models import Sequential\n",
        "from keras.layers import Dense,Dropout\n",
        "import matplotlib.pyplot as plt\n",
        "from keras.callbacks import EarlyStopping\n",
        "import random\n",
        "from sklearn.model_selection import train_test_split\n",
        "from sklearn.linear_model import LinearRegression\n",
        "from sklearn.ensemble import RandomForestClassifier\n",
        "from sklearn.datasets import make_classification\n",
        "from sklearn import preprocessing\n",
        "from sklearn.tree import  DecisionTreeRegressor\n",
        "import tensorflow as tf\n",
        "from sklearn.metrics import roc_auc_score\n",
        "from keras import backend as K\n",
        "from keras import optimizers\n",
        "from keras.layers import *\n",
        "from keras.initializers import *\n",
        "from keras.models import *\n",
        "import seaborn as sns\n",
        "import seaborn as sns\n",
        "import matplotlib.pyplot as plt\n",
        "import pandas as pd\n",
        "import numpy as np\n",
        "from sklearn.model_selection import cross_val_score\n",
        "from sklearn import linear_model\n",
        "from sklearn import metrics\n",
        "import csv\n",
        "import warnings\n",
        "from sklearn.base import BaseEstimator, TransformerMixin, RegressorMixin, clone\n",
        "from sklearn.preprocessing import LabelEncoder\n",
        "from sklearn.preprocessing import RobustScaler, StandardScaler\n",
        "from sklearn.metrics import mean_squared_error\n",
        "from sklearn.pipeline import Pipeline, make_pipeline\n",
        "from scipy.stats import skew\n",
        "from sklearn.decomposition import PCA, KernelPCA\n",
        "from sklearn.preprocessing import Imputer\n",
        "from sklearn.model_selection import cross_val_score, GridSearchCV, KFold\n",
        "from sklearn.linear_model import LinearRegression\n",
        "from sklearn.linear_model import Ridge\n",
        "from sklearn.linear_model import Lasso\n",
        "from sklearn.ensemble import RandomForestRegressor, GradientBoostingRegressor, ExtraTreesRegressor\n",
        "from sklearn.svm import SVR, LinearSVR\n",
        "from sklearn.linear_model import ElasticNet, SGDRegressor, BayesianRidge\n",
        "from sklearn.kernel_ridge import KernelRidge\n",
        "from xgboost import XGBRegressor\n",
        "from sklearn.model_selection import train_test_split"
      ],
      "execution_count": 1,
      "outputs": [
        {
          "output_type": "stream",
          "text": [
            "D:\\Anaconda3\\lib\\site-packages\\h5py\\__init__.py:36: FutureWarning: Conversion of the second argument of issubdtype from `float` to `np.floating` is deprecated. In future, it will be treated as `np.float64 == np.dtype(float).type`.\n",
            "  from ._conv import register_converters as _register_converters\n",
            "Using TensorFlow backend.\n"
          ],
          "name": "stderr"
        }
      ]
    },
    {
      "cell_type": "code",
      "metadata": {
        "id": "ddPqWmAVQ1D5",
        "colab_type": "code",
        "colab": {}
      },
      "source": [
        "data = pd.read_csv(\"D:/train_data.csv\")"
      ],
      "execution_count": 0,
      "outputs": []
    },
    {
      "cell_type": "code",
      "metadata": {
        "id": "9okcPj5tROW_",
        "colab_type": "code",
        "colab": {
          "base_uri": "https://localhost:8080/",
          "height": 308
        },
        "outputId": "d7a021ba-1403-4ba5-c05a-aa82b7be7218"
      },
      "source": [
        "data.describe()"
      ],
      "execution_count": 3,
      "outputs": [
        {
          "output_type": "execute_result",
          "data": {
            "text/plain": [
              "              label  Upper_quartile  Lower_Quantile  quartile_deviation  \\\n",
              "count  10000.000000    10000.000000    10000.000000        10000.000000   \n",
              "mean       0.074208       12.892600       35.710800           22.818200   \n",
              "std        0.062775        2.193164        2.281568            2.866820   \n",
              "min       -0.000011        4.000000       11.000000            2.666667   \n",
              "25%        0.008453       12.000000       35.333333           22.333333   \n",
              "50%        0.067164       12.333333       36.333333           23.666667   \n",
              "75%        0.133491       13.333333       36.666667           24.333333   \n",
              "max        0.189822       36.333333       46.666667           34.000000   \n",
              "\n",
              "             Median  average_value  standard_deviation  \\\n",
              "count  10000.000000   10000.000000        10000.000000   \n",
              "mean      24.289333      24.311514           13.482760   \n",
              "std        2.115211       1.611091            1.378311   \n",
              "min        8.000000       8.337657            1.593529   \n",
              "25%       23.666667      23.810860           13.442471   \n",
              "50%       24.333333      24.367030           13.841308   \n",
              "75%       25.000000      24.825732           14.070108   \n",
              "max       41.833333      39.742037           16.608982   \n",
              "\n",
              "       Dispersion_coefficient      skewness      kurtosis    mean_width  \\\n",
              "count            10000.000000  10000.000000  10000.000000  10000.000000   \n",
              "mean                 0.556307      0.005909     -1.087423      6.338912   \n",
              "std                  0.060848      0.118519      0.171528      3.079520   \n",
              "min                  0.085237     -0.824105     -1.810909      1.719803   \n",
              "25%                  0.549257     -0.037888     -1.173414      4.150245   \n",
              "50%                  0.569862      0.004599     -1.138531      5.458451   \n",
              "75%                  0.582108      0.050779     -1.064627      7.914005   \n",
              "max                  0.811502      1.148918      1.708877     19.457059   \n",
              "\n",
              "            surface        volume  \n",
              "count   10000.00000   10000.00000  \n",
              "mean    62864.83810   67405.41150  \n",
              "std     25332.27436   34339.67523  \n",
              "min       257.00000     164.00000  \n",
              "25%     49030.50000   38198.75000  \n",
              "50%     64870.50000   73193.50000  \n",
              "75%     79393.25000   98232.75000  \n",
              "max    129205.00000  119324.00000  "
            ],
            "text/html": [
              "<div>\n",
              "<style scoped>\n",
              "    .dataframe tbody tr th:only-of-type {\n",
              "        vertical-align: middle;\n",
              "    }\n",
              "\n",
              "    .dataframe tbody tr th {\n",
              "        vertical-align: top;\n",
              "    }\n",
              "\n",
              "    .dataframe thead th {\n",
              "        text-align: right;\n",
              "    }\n",
              "</style>\n",
              "<table border=\"1\" class=\"dataframe\">\n",
              "  <thead>\n",
              "    <tr style=\"text-align: right;\">\n",
              "      <th></th>\n",
              "      <th>label</th>\n",
              "      <th>Upper_quartile</th>\n",
              "      <th>Lower_Quantile</th>\n",
              "      <th>quartile_deviation</th>\n",
              "      <th>Median</th>\n",
              "      <th>average_value</th>\n",
              "      <th>standard_deviation</th>\n",
              "      <th>Dispersion_coefficient</th>\n",
              "      <th>skewness</th>\n",
              "      <th>kurtosis</th>\n",
              "      <th>mean_width</th>\n",
              "      <th>surface</th>\n",
              "      <th>volume</th>\n",
              "    </tr>\n",
              "  </thead>\n",
              "  <tbody>\n",
              "    <tr>\n",
              "      <th>count</th>\n",
              "      <td>10000.000000</td>\n",
              "      <td>10000.000000</td>\n",
              "      <td>10000.000000</td>\n",
              "      <td>10000.000000</td>\n",
              "      <td>10000.000000</td>\n",
              "      <td>10000.000000</td>\n",
              "      <td>10000.000000</td>\n",
              "      <td>10000.000000</td>\n",
              "      <td>10000.000000</td>\n",
              "      <td>10000.000000</td>\n",
              "      <td>10000.000000</td>\n",
              "      <td>10000.00000</td>\n",
              "      <td>10000.00000</td>\n",
              "    </tr>\n",
              "    <tr>\n",
              "      <th>mean</th>\n",
              "      <td>0.074208</td>\n",
              "      <td>12.892600</td>\n",
              "      <td>35.710800</td>\n",
              "      <td>22.818200</td>\n",
              "      <td>24.289333</td>\n",
              "      <td>24.311514</td>\n",
              "      <td>13.482760</td>\n",
              "      <td>0.556307</td>\n",
              "      <td>0.005909</td>\n",
              "      <td>-1.087423</td>\n",
              "      <td>6.338912</td>\n",
              "      <td>62864.83810</td>\n",
              "      <td>67405.41150</td>\n",
              "    </tr>\n",
              "    <tr>\n",
              "      <th>std</th>\n",
              "      <td>0.062775</td>\n",
              "      <td>2.193164</td>\n",
              "      <td>2.281568</td>\n",
              "      <td>2.866820</td>\n",
              "      <td>2.115211</td>\n",
              "      <td>1.611091</td>\n",
              "      <td>1.378311</td>\n",
              "      <td>0.060848</td>\n",
              "      <td>0.118519</td>\n",
              "      <td>0.171528</td>\n",
              "      <td>3.079520</td>\n",
              "      <td>25332.27436</td>\n",
              "      <td>34339.67523</td>\n",
              "    </tr>\n",
              "    <tr>\n",
              "      <th>min</th>\n",
              "      <td>-0.000011</td>\n",
              "      <td>4.000000</td>\n",
              "      <td>11.000000</td>\n",
              "      <td>2.666667</td>\n",
              "      <td>8.000000</td>\n",
              "      <td>8.337657</td>\n",
              "      <td>1.593529</td>\n",
              "      <td>0.085237</td>\n",
              "      <td>-0.824105</td>\n",
              "      <td>-1.810909</td>\n",
              "      <td>1.719803</td>\n",
              "      <td>257.00000</td>\n",
              "      <td>164.00000</td>\n",
              "    </tr>\n",
              "    <tr>\n",
              "      <th>25%</th>\n",
              "      <td>0.008453</td>\n",
              "      <td>12.000000</td>\n",
              "      <td>35.333333</td>\n",
              "      <td>22.333333</td>\n",
              "      <td>23.666667</td>\n",
              "      <td>23.810860</td>\n",
              "      <td>13.442471</td>\n",
              "      <td>0.549257</td>\n",
              "      <td>-0.037888</td>\n",
              "      <td>-1.173414</td>\n",
              "      <td>4.150245</td>\n",
              "      <td>49030.50000</td>\n",
              "      <td>38198.75000</td>\n",
              "    </tr>\n",
              "    <tr>\n",
              "      <th>50%</th>\n",
              "      <td>0.067164</td>\n",
              "      <td>12.333333</td>\n",
              "      <td>36.333333</td>\n",
              "      <td>23.666667</td>\n",
              "      <td>24.333333</td>\n",
              "      <td>24.367030</td>\n",
              "      <td>13.841308</td>\n",
              "      <td>0.569862</td>\n",
              "      <td>0.004599</td>\n",
              "      <td>-1.138531</td>\n",
              "      <td>5.458451</td>\n",
              "      <td>64870.50000</td>\n",
              "      <td>73193.50000</td>\n",
              "    </tr>\n",
              "    <tr>\n",
              "      <th>75%</th>\n",
              "      <td>0.133491</td>\n",
              "      <td>13.333333</td>\n",
              "      <td>36.666667</td>\n",
              "      <td>24.333333</td>\n",
              "      <td>25.000000</td>\n",
              "      <td>24.825732</td>\n",
              "      <td>14.070108</td>\n",
              "      <td>0.582108</td>\n",
              "      <td>0.050779</td>\n",
              "      <td>-1.064627</td>\n",
              "      <td>7.914005</td>\n",
              "      <td>79393.25000</td>\n",
              "      <td>98232.75000</td>\n",
              "    </tr>\n",
              "    <tr>\n",
              "      <th>max</th>\n",
              "      <td>0.189822</td>\n",
              "      <td>36.333333</td>\n",
              "      <td>46.666667</td>\n",
              "      <td>34.000000</td>\n",
              "      <td>41.833333</td>\n",
              "      <td>39.742037</td>\n",
              "      <td>16.608982</td>\n",
              "      <td>0.811502</td>\n",
              "      <td>1.148918</td>\n",
              "      <td>1.708877</td>\n",
              "      <td>19.457059</td>\n",
              "      <td>129205.00000</td>\n",
              "      <td>119324.00000</td>\n",
              "    </tr>\n",
              "  </tbody>\n",
              "</table>\n",
              "</div>"
            ]
          },
          "metadata": {
            "tags": []
          },
          "execution_count": 3
        }
      ]
    },
    {
      "cell_type": "code",
      "metadata": {
        "id": "DMZUGxunRROf",
        "colab_type": "code",
        "colab": {
          "base_uri": "https://localhost:8080/",
          "height": 218
        },
        "outputId": "9289be93-4ade-424d-eaac-4756c90263b4"
      },
      "source": [
        "data.head()"
      ],
      "execution_count": 4,
      "outputs": [
        {
          "output_type": "execute_result",
          "data": {
            "text/plain": [
              "      label  Upper_quartile  Lower_Quantile  quartile_deviation     Median  \\\n",
              "0  0.139707       12.333333       36.333333           24.000000  24.333333   \n",
              "1  0.106818       12.000000       36.333333           24.333333  24.333333   \n",
              "2  0.097962       13.333333       36.666667           23.333333  25.666667   \n",
              "3  0.127619       11.666667       36.333333           24.666667  23.666667   \n",
              "4  0.000684        7.666667       36.000000           28.333333  18.000000   \n",
              "\n",
              "   average_value  standard_deviation  Dispersion_coefficient  skewness  \\\n",
              "0      24.381301           14.065408                0.576893  0.031724   \n",
              "1      24.390834           14.148785                0.580086  0.008994   \n",
              "2      25.000768           13.792478                0.551682 -0.085055   \n",
              "3      23.950023           14.104867                0.588929  0.033662   \n",
              "4      21.512252           15.391541                0.715478  0.263196   \n",
              "\n",
              "   kurtosis  mean_width  surface   volume  \n",
              "0 -1.159762    8.153378  71569.0  99088.0  \n",
              "1 -1.196956    8.071872  66831.0  91831.0  \n",
              "2 -1.135637    7.054699  71318.0  84607.0  \n",
              "3 -1.161501    7.868250  73734.0  98938.0  \n",
              "4 -1.335490    2.278612  41056.0  15888.0  "
            ],
            "text/html": [
              "<div>\n",
              "<style scoped>\n",
              "    .dataframe tbody tr th:only-of-type {\n",
              "        vertical-align: middle;\n",
              "    }\n",
              "\n",
              "    .dataframe tbody tr th {\n",
              "        vertical-align: top;\n",
              "    }\n",
              "\n",
              "    .dataframe thead th {\n",
              "        text-align: right;\n",
              "    }\n",
              "</style>\n",
              "<table border=\"1\" class=\"dataframe\">\n",
              "  <thead>\n",
              "    <tr style=\"text-align: right;\">\n",
              "      <th></th>\n",
              "      <th>label</th>\n",
              "      <th>Upper_quartile</th>\n",
              "      <th>Lower_Quantile</th>\n",
              "      <th>quartile_deviation</th>\n",
              "      <th>Median</th>\n",
              "      <th>average_value</th>\n",
              "      <th>standard_deviation</th>\n",
              "      <th>Dispersion_coefficient</th>\n",
              "      <th>skewness</th>\n",
              "      <th>kurtosis</th>\n",
              "      <th>mean_width</th>\n",
              "      <th>surface</th>\n",
              "      <th>volume</th>\n",
              "    </tr>\n",
              "  </thead>\n",
              "  <tbody>\n",
              "    <tr>\n",
              "      <th>0</th>\n",
              "      <td>0.139707</td>\n",
              "      <td>12.333333</td>\n",
              "      <td>36.333333</td>\n",
              "      <td>24.000000</td>\n",
              "      <td>24.333333</td>\n",
              "      <td>24.381301</td>\n",
              "      <td>14.065408</td>\n",
              "      <td>0.576893</td>\n",
              "      <td>0.031724</td>\n",
              "      <td>-1.159762</td>\n",
              "      <td>8.153378</td>\n",
              "      <td>71569.0</td>\n",
              "      <td>99088.0</td>\n",
              "    </tr>\n",
              "    <tr>\n",
              "      <th>1</th>\n",
              "      <td>0.106818</td>\n",
              "      <td>12.000000</td>\n",
              "      <td>36.333333</td>\n",
              "      <td>24.333333</td>\n",
              "      <td>24.333333</td>\n",
              "      <td>24.390834</td>\n",
              "      <td>14.148785</td>\n",
              "      <td>0.580086</td>\n",
              "      <td>0.008994</td>\n",
              "      <td>-1.196956</td>\n",
              "      <td>8.071872</td>\n",
              "      <td>66831.0</td>\n",
              "      <td>91831.0</td>\n",
              "    </tr>\n",
              "    <tr>\n",
              "      <th>2</th>\n",
              "      <td>0.097962</td>\n",
              "      <td>13.333333</td>\n",
              "      <td>36.666667</td>\n",
              "      <td>23.333333</td>\n",
              "      <td>25.666667</td>\n",
              "      <td>25.000768</td>\n",
              "      <td>13.792478</td>\n",
              "      <td>0.551682</td>\n",
              "      <td>-0.085055</td>\n",
              "      <td>-1.135637</td>\n",
              "      <td>7.054699</td>\n",
              "      <td>71318.0</td>\n",
              "      <td>84607.0</td>\n",
              "    </tr>\n",
              "    <tr>\n",
              "      <th>3</th>\n",
              "      <td>0.127619</td>\n",
              "      <td>11.666667</td>\n",
              "      <td>36.333333</td>\n",
              "      <td>24.666667</td>\n",
              "      <td>23.666667</td>\n",
              "      <td>23.950023</td>\n",
              "      <td>14.104867</td>\n",
              "      <td>0.588929</td>\n",
              "      <td>0.033662</td>\n",
              "      <td>-1.161501</td>\n",
              "      <td>7.868250</td>\n",
              "      <td>73734.0</td>\n",
              "      <td>98938.0</td>\n",
              "    </tr>\n",
              "    <tr>\n",
              "      <th>4</th>\n",
              "      <td>0.000684</td>\n",
              "      <td>7.666667</td>\n",
              "      <td>36.000000</td>\n",
              "      <td>28.333333</td>\n",
              "      <td>18.000000</td>\n",
              "      <td>21.512252</td>\n",
              "      <td>15.391541</td>\n",
              "      <td>0.715478</td>\n",
              "      <td>0.263196</td>\n",
              "      <td>-1.335490</td>\n",
              "      <td>2.278612</td>\n",
              "      <td>41056.0</td>\n",
              "      <td>15888.0</td>\n",
              "    </tr>\n",
              "  </tbody>\n",
              "</table>\n",
              "</div>"
            ]
          },
          "metadata": {
            "tags": []
          },
          "execution_count": 4
        }
      ]
    },
    {
      "cell_type": "code",
      "metadata": {
        "id": "Pnxcu43CRUzH",
        "colab_type": "code",
        "colab": {
          "base_uri": "https://localhost:8080/",
          "height": 318
        },
        "outputId": "d5ceb383-7e25-4e8b-c112-39536a63d30a"
      },
      "source": [
        "sns.distplot(data['label'])  \n",
        "plt.show()"
      ],
      "execution_count": 5,
      "outputs": [
        {
          "output_type": "stream",
          "text": [
            "D:\\Anaconda3\\lib\\site-packages\\matplotlib\\axes\\_axes.py:6462: UserWarning: The 'normed' kwarg is deprecated, and has been replaced by the 'density' kwarg.\n",
            "  warnings.warn(\"The 'normed' kwarg is deprecated, and has been \"\n"
          ],
          "name": "stderr"
        },
        {
          "output_type": "display_data",
          "data": {
            "text/plain": [
              "<Figure size 432x288 with 1 Axes>"
            ],
            "image/png": "[encoded data removed]"
          },
          "metadata": {
            "tags": []
          }
        }
      ]
    },
    {
      "cell_type": "code",
      "metadata": {
        "id": "OSjCogUVRY-n",
        "colab_type": "code",
        "colab": {
          "base_uri": "https://localhost:8080/",
          "height": 318
        },
        "outputId": "1817c649-2c8a-45bd-c477-abdca44a5452"
      },
      "source": [
        "sns.distplot(data['volume'])  \n",
        "plt.show()"
      ],
      "execution_count": 6,
      "outputs": [
        {
          "output_type": "stream",
          "text": [
            "D:\\Anaconda3\\lib\\site-packages\\matplotlib\\axes\\_axes.py:6462: UserWarning: The 'normed' kwarg is deprecated, and has been replaced by the 'density' kwarg.\n",
            "  warnings.warn(\"The 'normed' kwarg is deprecated, and has been \"\n"
          ],
          "name": "stderr"
        },
        {
          "output_type": "display_data",
          "data": {
            "text/plain": [
              "<Figure size 432x288 with 1 Axes>"
            ],
            "image/png": "[encoded data removed]"
          },
          "metadata": {
            "tags": []
          }
        }
      ]
    },
    {
      "cell_type": "code",
      "metadata": {
        "id": "VPfWJNarReAQ",
        "colab_type": "code",
        "colab": {
          "base_uri": "https://localhost:8080/",
          "height": 631
        },
        "outputId": "c2c4b642-2ee7-4db2-af76-65f0f7ac20ba"
      },
      "source": [
        "corrmat = data.corr()\n",
        "plt.figure(figsize=(10,10))\n",
        "k = 13 \n",
        "cols = corrmat.nlargest(k, 'label')['label'].index\n",
        "cm = np.corrcoef(data[cols].values.T)\n",
        "sns.set(font_scale=1)\n",
        "hm = sns.heatmap(cm, cbar=True, annot=True, square=True, fmt='.2f', annot_kws={'size': 10}, yticklabels=cols.values, xticklabels=cols.values)\n",
        "plt.show()"
      ],
      "execution_count": 7,
      "outputs": [
        {
          "output_type": "display_data",
          "data": {
            "text/plain": [
              "<Figure size 720x720 with 2 Axes>"
            ],
            "image/png": "[encoded data removed]"
          },
          "metadata": {
            "tags": []
          }
        }
      ]
    },
    {
      "cell_type": "code",
      "metadata": {
        "id": "kG2vvjfjRp_I",
        "colab_type": "code",
        "colab": {}
      },
      "source": [
        "X=data[['Upper_quartile','Lower_Quantile','quartile_deviation','Median','average_value','standard_deviation','Dispersion_coefficient','skewness','kurtosis','mean_width','surface','volume']]\n",
        "Y=data[['label']]"
      ],
      "execution_count": 0,
      "outputs": []
    },
    {
      "cell_type": "code",
      "metadata": {
        "id": "-aGq643lSI4u",
        "colab_type": "code",
        "colab": {
          "base_uri": "https://localhost:8080/",
          "height": 218
        },
        "outputId": "3b2dd492-d664-438a-d68a-1d7a232ad1c6"
      },
      "source": [
        "X.head()"
      ],
      "execution_count": 10,
      "outputs": [
        {
          "output_type": "execute_result",
          "data": {
            "text/plain": [
              "   Upper_quartile  Lower_Quantile  quartile_deviation     Median  \\\n",
              "0       12.333333       36.333333           24.000000  24.333333   \n",
              "1       12.000000       36.333333           24.333333  24.333333   \n",
              "2       13.333333       36.666667           23.333333  25.666667   \n",
              "3       11.666667       36.333333           24.666667  23.666667   \n",
              "4        7.666667       36.000000           28.333333  18.000000   \n",
              "\n",
              "   average_value  standard_deviation  Dispersion_coefficient  skewness  \\\n",
              "0      24.381301           14.065408                0.576893  0.031724   \n",
              "1      24.390834           14.148785                0.580086  0.008994   \n",
              "2      25.000768           13.792478                0.551682 -0.085055   \n",
              "3      23.950023           14.104867                0.588929  0.033662   \n",
              "4      21.512252           15.391541                0.715478  0.263196   \n",
              "\n",
              "   kurtosis  mean_width  surface   volume  \n",
              "0 -1.159762    8.153378  71569.0  99088.0  \n",
              "1 -1.196956    8.071872  66831.0  91831.0  \n",
              "2 -1.135637    7.054699  71318.0  84607.0  \n",
              "3 -1.161501    7.868250  73734.0  98938.0  \n",
              "4 -1.335490    2.278612  41056.0  15888.0  "
            ],
            "text/html": [
              "<div>\n",
              "<style scoped>\n",
              "    .dataframe tbody tr th:only-of-type {\n",
              "        vertical-align: middle;\n",
              "    }\n",
              "\n",
              "    .dataframe tbody tr th {\n",
              "        vertical-align: top;\n",
              "    }\n",
              "\n",
              "    .dataframe thead th {\n",
              "        text-align: right;\n",
              "    }\n",
              "</style>\n",
              "<table border=\"1\" class=\"dataframe\">\n",
              "  <thead>\n",
              "    <tr style=\"text-align: right;\">\n",
              "      <th></th>\n",
              "      <th>Upper_quartile</th>\n",
              "      <th>Lower_Quantile</th>\n",
              "      <th>quartile_deviation</th>\n",
              "      <th>Median</th>\n",
              "      <th>average_value</th>\n",
              "      <th>standard_deviation</th>\n",
              "      <th>Dispersion_coefficient</th>\n",
              "      <th>skewness</th>\n",
              "      <th>kurtosis</th>\n",
              "      <th>mean_width</th>\n",
              "      <th>surface</th>\n",
              "      <th>volume</th>\n",
              "    </tr>\n",
              "  </thead>\n",
              "  <tbody>\n",
              "    <tr>\n",
              "      <th>0</th>\n",
              "      <td>12.333333</td>\n",
              "      <td>36.333333</td>\n",
              "      <td>24.000000</td>\n",
              "      <td>24.333333</td>\n",
              "      <td>24.381301</td>\n",
              "      <td>14.065408</td>\n",
              "      <td>0.576893</td>\n",
              "      <td>0.031724</td>\n",
              "      <td>-1.159762</td>\n",
              "      <td>8.153378</td>\n",
              "      <td>71569.0</td>\n",
              "      <td>99088.0</td>\n",
              "    </tr>\n",
              "    <tr>\n",
              "      <th>1</th>\n",
              "      <td>12.000000</td>\n",
              "      <td>36.333333</td>\n",
              "      <td>24.333333</td>\n",
              "      <td>24.333333</td>\n",
              "      <td>24.390834</td>\n",
              "      <td>14.148785</td>\n",
              "      <td>0.580086</td>\n",
              "      <td>0.008994</td>\n",
              "      <td>-1.196956</td>\n",
              "      <td>8.071872</td>\n",
              "      <td>66831.0</td>\n",
              "      <td>91831.0</td>\n",
              "    </tr>\n",
              "    <tr>\n",
              "      <th>2</th>\n",
              "      <td>13.333333</td>\n",
              "      <td>36.666667</td>\n",
              "      <td>23.333333</td>\n",
              "      <td>25.666667</td>\n",
              "      <td>25.000768</td>\n",
              "      <td>13.792478</td>\n",
              "      <td>0.551682</td>\n",
              "      <td>-0.085055</td>\n",
              "      <td>-1.135637</td>\n",
              "      <td>7.054699</td>\n",
              "      <td>71318.0</td>\n",
              "      <td>84607.0</td>\n",
              "    </tr>\n",
              "    <tr>\n",
              "      <th>3</th>\n",
              "      <td>11.666667</td>\n",
              "      <td>36.333333</td>\n",
              "      <td>24.666667</td>\n",
              "      <td>23.666667</td>\n",
              "      <td>23.950023</td>\n",
              "      <td>14.104867</td>\n",
              "      <td>0.588929</td>\n",
              "      <td>0.033662</td>\n",
              "      <td>-1.161501</td>\n",
              "      <td>7.868250</td>\n",
              "      <td>73734.0</td>\n",
              "      <td>98938.0</td>\n",
              "    </tr>\n",
              "    <tr>\n",
              "      <th>4</th>\n",
              "      <td>7.666667</td>\n",
              "      <td>36.000000</td>\n",
              "      <td>28.333333</td>\n",
              "      <td>18.000000</td>\n",
              "      <td>21.512252</td>\n",
              "      <td>15.391541</td>\n",
              "      <td>0.715478</td>\n",
              "      <td>0.263196</td>\n",
              "      <td>-1.335490</td>\n",
              "      <td>2.278612</td>\n",
              "      <td>41056.0</td>\n",
              "      <td>15888.0</td>\n",
              "    </tr>\n",
              "  </tbody>\n",
              "</table>\n",
              "</div>"
            ]
          },
          "metadata": {
            "tags": []
          },
          "execution_count": 10
        }
      ]
    },
    {
      "cell_type": "code",
      "metadata": {
        "id": "qszm8tb0SSTH",
        "colab_type": "code",
        "colab": {
          "base_uri": "https://localhost:8080/",
          "height": 198
        },
        "outputId": "40a7e538-f438-4b58-a954-b2bebaed321f"
      },
      "source": [
        "Y.head()"
      ],
      "execution_count": 11,
      "outputs": [
        {
          "output_type": "execute_result",
          "data": {
            "text/plain": [
              "      label\n",
              "0  0.139707\n",
              "1  0.106818\n",
              "2  0.097962\n",
              "3  0.127619\n",
              "4  0.000684"
            ],
            "text/html": [
              "<div>\n",
              "<style scoped>\n",
              "    .dataframe tbody tr th:only-of-type {\n",
              "        vertical-align: middle;\n",
              "    }\n",
              "\n",
              "    .dataframe tbody tr th {\n",
              "        vertical-align: top;\n",
              "    }\n",
              "\n",
              "    .dataframe thead th {\n",
              "        text-align: right;\n",
              "    }\n",
              "</style>\n",
              "<table border=\"1\" class=\"dataframe\">\n",
              "  <thead>\n",
              "    <tr style=\"text-align: right;\">\n",
              "      <th></th>\n",
              "      <th>label</th>\n",
              "    </tr>\n",
              "  </thead>\n",
              "  <tbody>\n",
              "    <tr>\n",
              "      <th>0</th>\n",
              "      <td>0.139707</td>\n",
              "    </tr>\n",
              "    <tr>\n",
              "      <th>1</th>\n",
              "      <td>0.106818</td>\n",
              "    </tr>\n",
              "    <tr>\n",
              "      <th>2</th>\n",
              "      <td>0.097962</td>\n",
              "    </tr>\n",
              "    <tr>\n",
              "      <th>3</th>\n",
              "      <td>0.127619</td>\n",
              "    </tr>\n",
              "    <tr>\n",
              "      <th>4</th>\n",
              "      <td>0.000684</td>\n",
              "    </tr>\n",
              "  </tbody>\n",
              "</table>\n",
              "</div>"
            ]
          },
          "metadata": {
            "tags": []
          },
          "execution_count": 11
        }
      ]
    },
    {
      "cell_type": "code",
      "metadata": {
        "id": "u_bfHlrOSUMm",
        "colab_type": "code",
        "colab": {}
      },
      "source": [
        "#Normalization\n",
        "max_min_scaler = lambda x :(x-np.min(x))/(np.max(x)-np.min(x))\n",
        "N_X=X[:].apply(max_min_scaler)"
      ],
      "execution_count": 0,
      "outputs": []
    },
    {
      "cell_type": "code",
      "metadata": {
        "id": "XVIII5EzUBe-",
        "colab_type": "code",
        "colab": {
          "base_uri": "https://localhost:8080/",
          "height": 218
        },
        "outputId": "effce103-0c1a-44a6-a959-516df0809808"
      },
      "source": [
        "N_X.head()"
      ],
      "execution_count": 24,
      "outputs": [
        {
          "output_type": "execute_result",
          "data": {
            "text/plain": [
              "   Upper_quartile  Lower_Quantile  quartile_deviation    Median  \\\n",
              "0        0.257732        0.710280            0.680851  0.482759   \n",
              "1        0.247423        0.710280            0.691489  0.482759   \n",
              "2        0.288660        0.719626            0.659574  0.522167   \n",
              "3        0.237113        0.710280            0.702128  0.463054   \n",
              "4        0.113402        0.700935            0.819149  0.295567   \n",
              "\n",
              "   average_value  standard_deviation  Dispersion_coefficient  skewness  \\\n",
              "0       0.510873            0.830603                0.676965  0.433766   \n",
              "1       0.511176            0.836156                0.681361  0.422245   \n",
              "2       0.530598            0.812426                0.642252  0.374578   \n",
              "3       0.497140            0.833231                0.693537  0.434748   \n",
              "4       0.419515            0.918921                0.867783  0.551084   \n",
              "\n",
              "   kurtosis  mean_width   surface    volume  \n",
              "0  0.184996    0.362715  0.553029  0.830178  \n",
              "1  0.174429    0.358120  0.516286  0.769277  \n",
              "2  0.191850    0.300773  0.551083  0.708652  \n",
              "3  0.184502    0.346640  0.569819  0.828919  \n",
              "4  0.135071    0.031505  0.316399  0.131957  "
            ],
            "text/html": [
              "<div>\n",
              "<style scoped>\n",
              "    .dataframe tbody tr th:only-of-type {\n",
              "        vertical-align: middle;\n",
              "    }\n",
              "\n",
              "    .dataframe tbody tr th {\n",
              "        vertical-align: top;\n",
              "    }\n",
              "\n",
              "    .dataframe thead th {\n",
              "        text-align: right;\n",
              "    }\n",
              "</style>\n",
              "<table border=\"1\" class=\"dataframe\">\n",
              "  <thead>\n",
              "    <tr style=\"text-align: right;\">\n",
              "      <th></th>\n",
              "      <th>Upper_quartile</th>\n",
              "      <th>Lower_Quantile</th>\n",
              "      <th>quartile_deviation</th>\n",
              "      <th>Median</th>\n",
              "      <th>average_value</th>\n",
              "      <th>standard_deviation</th>\n",
              "      <th>Dispersion_coefficient</th>\n",
              "      <th>skewness</th>\n",
              "      <th>kurtosis</th>\n",
              "      <th>mean_width</th>\n",
              "      <th>surface</th>\n",
              "      <th>volume</th>\n",
              "    </tr>\n",
              "  </thead>\n",
              "  <tbody>\n",
              "    <tr>\n",
              "      <th>0</th>\n",
              "      <td>0.257732</td>\n",
              "      <td>0.710280</td>\n",
              "      <td>0.680851</td>\n",
              "      <td>0.482759</td>\n",
              "      <td>0.510873</td>\n",
              "      <td>0.830603</td>\n",
              "      <td>0.676965</td>\n",
              "      <td>0.433766</td>\n",
              "      <td>0.184996</td>\n",
              "      <td>0.362715</td>\n",
              "      <td>0.553029</td>\n",
              "      <td>0.830178</td>\n",
              "    </tr>\n",
              "    <tr>\n",
              "      <th>1</th>\n",
              "      <td>0.247423</td>\n",
              "      <td>0.710280</td>\n",
              "      <td>0.691489</td>\n",
              "      <td>0.482759</td>\n",
              "      <td>0.511176</td>\n",
              "      <td>0.836156</td>\n",
              "      <td>0.681361</td>\n",
              "      <td>0.422245</td>\n",
              "      <td>0.174429</td>\n",
              "      <td>0.358120</td>\n",
              "      <td>0.516286</td>\n",
              "      <td>0.769277</td>\n",
              "    </tr>\n",
              "    <tr>\n",
              "      <th>2</th>\n",
              "      <td>0.288660</td>\n",
              "      <td>0.719626</td>\n",
              "      <td>0.659574</td>\n",
              "      <td>0.522167</td>\n",
              "      <td>0.530598</td>\n",
              "      <td>0.812426</td>\n",
              "      <td>0.642252</td>\n",
              "      <td>0.374578</td>\n",
              "      <td>0.191850</td>\n",
              "      <td>0.300773</td>\n",
              "      <td>0.551083</td>\n",
              "      <td>0.708652</td>\n",
              "    </tr>\n",
              "    <tr>\n",
              "      <th>3</th>\n",
              "      <td>0.237113</td>\n",
              "      <td>0.710280</td>\n",
              "      <td>0.702128</td>\n",
              "      <td>0.463054</td>\n",
              "      <td>0.497140</td>\n",
              "      <td>0.833231</td>\n",
              "      <td>0.693537</td>\n",
              "      <td>0.434748</td>\n",
              "      <td>0.184502</td>\n",
              "      <td>0.346640</td>\n",
              "      <td>0.569819</td>\n",
              "      <td>0.828919</td>\n",
              "    </tr>\n",
              "    <tr>\n",
              "      <th>4</th>\n",
              "      <td>0.113402</td>\n",
              "      <td>0.700935</td>\n",
              "      <td>0.819149</td>\n",
              "      <td>0.295567</td>\n",
              "      <td>0.419515</td>\n",
              "      <td>0.918921</td>\n",
              "      <td>0.867783</td>\n",
              "      <td>0.551084</td>\n",
              "      <td>0.135071</td>\n",
              "      <td>0.031505</td>\n",
              "      <td>0.316399</td>\n",
              "      <td>0.131957</td>\n",
              "    </tr>\n",
              "  </tbody>\n",
              "</table>\n",
              "</div>"
            ]
          },
          "metadata": {
            "tags": []
          },
          "execution_count": 24
        }
      ]
    },
    {
      "cell_type": "code",
      "metadata": {
        "id": "tesP5-98UU-V",
        "colab_type": "code",
        "colab": {}
      },
      "source": [
        "X_train, X_test, y_train, y_test = train_test_split(N_X,Y, test_size=0.2, random_state=0)"
      ],
      "execution_count": 0,
      "outputs": []
    },
    {
      "cell_type": "code",
      "metadata": {
        "id": "UpZEOt2-VEDN",
        "colab_type": "code",
        "colab": {}
      },
      "source": [
        "models = [LinearRegression(),Ridge(),Lasso(alpha=0.01,max_iter=10000),RandomForestRegressor(),GradientBoostingRegressor(),SVR(),LinearSVR(),\n",
        "          ElasticNet(alpha=0.001,max_iter=10000),SGDRegressor(max_iter=1000,tol=1e-3),BayesianRidge(),KernelRidge(alpha=0.6, kernel='polynomial', degree=2, coef0=2.5),\n",
        "          ExtraTreesRegressor(),XGBRegressor()]"
      ],
      "execution_count": 0,
      "outputs": []
    },
    {
      "cell_type": "code",
      "metadata": {
        "id": "1pUeh8O_Va2o",
        "colab_type": "code",
        "colab": {}
      },
      "source": [
        "def rmse_cv(model,X,y):\n",
        "    rmse = np.sqrt(-cross_val_score(model, X, y, scoring=\"neg_mean_squared_error\", cv=5))\n",
        "    return rmse"
      ],
      "execution_count": 0,
      "outputs": []
    },
    {
      "cell_type": "code",
      "metadata": {
        "id": "xT9c4qRKVPMl",
        "colab_type": "code",
        "colab": {
          "base_uri": "https://localhost:8080/",
          "height": 1471
        },
        "outputId": "3ce3997a-96ff-454d-8504-3c30696d7524"
      },
      "source": [
        "names = [\"LR\", \"Ridge\", \"Lasso\", \"RF\", \"GBR\", \"SVR\", \"LinSVR\", \"Ela\",\"SGD\",\"Bay\",\"Ker\",\"Extra\",\"Xgb\"]\n",
        "for name, model in zip(names, models):\n",
        "    score = rmse_cv(model, X_train, y_train)\n",
        "    print(\"{}: {:.6f}, {:.4f}\".format(name,score.mean(),score.std()))"
      ],
      "execution_count": 29,
      "outputs": [
        {
          "output_type": "stream",
          "text": [
            "LR: 0.013803, 0.0003\n",
            "Ridge: 0.013858, 0.0003\n",
            "Lasso: 0.039335, 0.0003\n"
          ],
          "name": "stdout"
        },
        {
          "output_type": "stream",
          "text": [
            "D:\\Anaconda3\\lib\\site-packages\\sklearn\\model_selection\\_validation.py:458: DataConversionWarning: A column-vector y was passed when a 1d array was expected. Please change the shape of y to (n_samples,), for example using ravel().\n",
            "  estimator.fit(X_train, y_train, **fit_params)\n",
            "D:\\Anaconda3\\lib\\site-packages\\sklearn\\model_selection\\_validation.py:458: DataConversionWarning: A column-vector y was passed when a 1d array was expected. Please change the shape of y to (n_samples,), for example using ravel().\n",
            "  estimator.fit(X_train, y_train, **fit_params)\n",
            "D:\\Anaconda3\\lib\\site-packages\\sklearn\\model_selection\\_validation.py:458: DataConversionWarning: A column-vector y was passed when a 1d array was expected. Please change the shape of y to (n_samples,), for example using ravel().\n",
            "  estimator.fit(X_train, y_train, **fit_params)\n",
            "D:\\Anaconda3\\lib\\site-packages\\sklearn\\model_selection\\_validation.py:458: DataConversionWarning: A column-vector y was passed when a 1d array was expected. Please change the shape of y to (n_samples,), for example using ravel().\n",
            "  estimator.fit(X_train, y_train, **fit_params)\n",
            "D:\\Anaconda3\\lib\\site-packages\\sklearn\\model_selection\\_validation.py:458: DataConversionWarning: A column-vector y was passed when a 1d array was expected. Please change the shape of y to (n_samples,), for example using ravel().\n",
            "  estimator.fit(X_train, y_train, **fit_params)\n"
          ],
          "name": "stderr"
        },
        {
          "output_type": "stream",
          "text": [
            "RF: 0.007837, 0.0004\n"
          ],
          "name": "stdout"
        },
        {
          "output_type": "stream",
          "text": [
            "D:\\Anaconda3\\lib\\site-packages\\sklearn\\utils\\validation.py:578: DataConversionWarning: A column-vector y was passed when a 1d array was expected. Please change the shape of y to (n_samples, ), for example using ravel().\n",
            "  y = column_or_1d(y, warn=True)\n",
            "D:\\Anaconda3\\lib\\site-packages\\sklearn\\utils\\validation.py:578: DataConversionWarning: A column-vector y was passed when a 1d array was expected. Please change the shape of y to (n_samples, ), for example using ravel().\n",
            "  y = column_or_1d(y, warn=True)\n",
            "D:\\Anaconda3\\lib\\site-packages\\sklearn\\utils\\validation.py:578: DataConversionWarning: A column-vector y was passed when a 1d array was expected. Please change the shape of y to (n_samples, ), for example using ravel().\n",
            "  y = column_or_1d(y, warn=True)\n",
            "D:\\Anaconda3\\lib\\site-packages\\sklearn\\utils\\validation.py:578: DataConversionWarning: A column-vector y was passed when a 1d array was expected. Please change the shape of y to (n_samples, ), for example using ravel().\n",
            "  y = column_or_1d(y, warn=True)\n",
            "D:\\Anaconda3\\lib\\site-packages\\sklearn\\utils\\validation.py:578: DataConversionWarning: A column-vector y was passed when a 1d array was expected. Please change the shape of y to (n_samples, ), for example using ravel().\n",
            "  y = column_or_1d(y, warn=True)\n"
          ],
          "name": "stderr"
        },
        {
          "output_type": "stream",
          "text": [
            "GBR: 0.007294, 0.0003\n",
            "SVR: 0.066082, 0.0002\n"
          ],
          "name": "stdout"
        },
        {
          "output_type": "stream",
          "text": [
            "D:\\Anaconda3\\lib\\site-packages\\sklearn\\utils\\validation.py:578: DataConversionWarning: A column-vector y was passed when a 1d array was expected. Please change the shape of y to (n_samples, ), for example using ravel().\n",
            "  y = column_or_1d(y, warn=True)\n",
            "D:\\Anaconda3\\lib\\site-packages\\sklearn\\utils\\validation.py:578: DataConversionWarning: A column-vector y was passed when a 1d array was expected. Please change the shape of y to (n_samples, ), for example using ravel().\n",
            "  y = column_or_1d(y, warn=True)\n",
            "D:\\Anaconda3\\lib\\site-packages\\sklearn\\utils\\validation.py:578: DataConversionWarning: A column-vector y was passed when a 1d array was expected. Please change the shape of y to (n_samples, ), for example using ravel().\n",
            "  y = column_or_1d(y, warn=True)\n",
            "D:\\Anaconda3\\lib\\site-packages\\sklearn\\utils\\validation.py:578: DataConversionWarning: A column-vector y was passed when a 1d array was expected. Please change the shape of y to (n_samples, ), for example using ravel().\n",
            "  y = column_or_1d(y, warn=True)\n",
            "D:\\Anaconda3\\lib\\site-packages\\sklearn\\utils\\validation.py:578: DataConversionWarning: A column-vector y was passed when a 1d array was expected. Please change the shape of y to (n_samples, ), for example using ravel().\n",
            "  y = column_or_1d(y, warn=True)\n",
            "D:\\Anaconda3\\lib\\site-packages\\sklearn\\utils\\validation.py:578: DataConversionWarning: A column-vector y was passed when a 1d array was expected. Please change the shape of y to (n_samples, ), for example using ravel().\n",
            "  y = column_or_1d(y, warn=True)\n",
            "D:\\Anaconda3\\lib\\site-packages\\sklearn\\utils\\validation.py:578: DataConversionWarning: A column-vector y was passed when a 1d array was expected. Please change the shape of y to (n_samples, ), for example using ravel().\n",
            "  y = column_or_1d(y, warn=True)\n",
            "D:\\Anaconda3\\lib\\site-packages\\sklearn\\utils\\validation.py:578: DataConversionWarning: A column-vector y was passed when a 1d array was expected. Please change the shape of y to (n_samples, ), for example using ravel().\n",
            "  y = column_or_1d(y, warn=True)\n",
            "D:\\Anaconda3\\lib\\site-packages\\sklearn\\utils\\validation.py:578: DataConversionWarning: A column-vector y was passed when a 1d array was expected. Please change the shape of y to (n_samples, ), for example using ravel().\n",
            "  y = column_or_1d(y, warn=True)\n",
            "D:\\Anaconda3\\lib\\site-packages\\sklearn\\utils\\validation.py:578: DataConversionWarning: A column-vector y was passed when a 1d array was expected. Please change the shape of y to (n_samples, ), for example using ravel().\n",
            "  y = column_or_1d(y, warn=True)\n"
          ],
          "name": "stderr"
        },
        {
          "output_type": "stream",
          "text": [
            "LinSVR: 0.014032, 0.0004\n",
            "Ela: 0.015606, 0.0003\n",
            "SGD: 0.021082, 0.0003\n",
            "Bay: 0.013804, 0.0003\n"
          ],
          "name": "stdout"
        },
        {
          "output_type": "stream",
          "text": [
            "D:\\Anaconda3\\lib\\site-packages\\sklearn\\utils\\validation.py:578: DataConversionWarning: A column-vector y was passed when a 1d array was expected. Please change the shape of y to (n_samples, ), for example using ravel().\n",
            "  y = column_or_1d(y, warn=True)\n",
            "D:\\Anaconda3\\lib\\site-packages\\sklearn\\utils\\validation.py:578: DataConversionWarning: A column-vector y was passed when a 1d array was expected. Please change the shape of y to (n_samples, ), for example using ravel().\n",
            "  y = column_or_1d(y, warn=True)\n",
            "D:\\Anaconda3\\lib\\site-packages\\sklearn\\utils\\validation.py:578: DataConversionWarning: A column-vector y was passed when a 1d array was expected. Please change the shape of y to (n_samples, ), for example using ravel().\n",
            "  y = column_or_1d(y, warn=True)\n",
            "D:\\Anaconda3\\lib\\site-packages\\sklearn\\utils\\validation.py:578: DataConversionWarning: A column-vector y was passed when a 1d array was expected. Please change the shape of y to (n_samples, ), for example using ravel().\n",
            "  y = column_or_1d(y, warn=True)\n",
            "D:\\Anaconda3\\lib\\site-packages\\sklearn\\utils\\validation.py:578: DataConversionWarning: A column-vector y was passed when a 1d array was expected. Please change the shape of y to (n_samples, ), for example using ravel().\n",
            "  y = column_or_1d(y, warn=True)\n",
            "D:\\Anaconda3\\lib\\site-packages\\sklearn\\utils\\validation.py:578: DataConversionWarning: A column-vector y was passed when a 1d array was expected. Please change the shape of y to (n_samples, ), for example using ravel().\n",
            "  y = column_or_1d(y, warn=True)\n",
            "D:\\Anaconda3\\lib\\site-packages\\sklearn\\utils\\validation.py:578: DataConversionWarning: A column-vector y was passed when a 1d array was expected. Please change the shape of y to (n_samples, ), for example using ravel().\n",
            "  y = column_or_1d(y, warn=True)\n",
            "D:\\Anaconda3\\lib\\site-packages\\sklearn\\utils\\validation.py:578: DataConversionWarning: A column-vector y was passed when a 1d array was expected. Please change the shape of y to (n_samples, ), for example using ravel().\n",
            "  y = column_or_1d(y, warn=True)\n",
            "D:\\Anaconda3\\lib\\site-packages\\sklearn\\utils\\validation.py:578: DataConversionWarning: A column-vector y was passed when a 1d array was expected. Please change the shape of y to (n_samples, ), for example using ravel().\n",
            "  y = column_or_1d(y, warn=True)\n",
            "D:\\Anaconda3\\lib\\site-packages\\sklearn\\utils\\validation.py:578: DataConversionWarning: A column-vector y was passed when a 1d array was expected. Please change the shape of y to (n_samples, ), for example using ravel().\n",
            "  y = column_or_1d(y, warn=True)\n"
          ],
          "name": "stderr"
        },
        {
          "output_type": "stream",
          "text": [
            "Ker: 0.011607, 0.0003\n"
          ],
          "name": "stdout"
        },
        {
          "output_type": "stream",
          "text": [
            "D:\\Anaconda3\\lib\\site-packages\\sklearn\\model_selection\\_validation.py:458: DataConversionWarning: A column-vector y was passed when a 1d array was expected. Please change the shape of y to (n_samples,), for example using ravel().\n",
            "  estimator.fit(X_train, y_train, **fit_params)\n",
            "D:\\Anaconda3\\lib\\site-packages\\sklearn\\model_selection\\_validation.py:458: DataConversionWarning: A column-vector y was passed when a 1d array was expected. Please change the shape of y to (n_samples,), for example using ravel().\n",
            "  estimator.fit(X_train, y_train, **fit_params)\n",
            "D:\\Anaconda3\\lib\\site-packages\\sklearn\\model_selection\\_validation.py:458: DataConversionWarning: A column-vector y was passed when a 1d array was expected. Please change the shape of y to (n_samples,), for example using ravel().\n",
            "  estimator.fit(X_train, y_train, **fit_params)\n",
            "D:\\Anaconda3\\lib\\site-packages\\sklearn\\model_selection\\_validation.py:458: DataConversionWarning: A column-vector y was passed when a 1d array was expected. Please change the shape of y to (n_samples,), for example using ravel().\n",
            "  estimator.fit(X_train, y_train, **fit_params)\n",
            "D:\\Anaconda3\\lib\\site-packages\\sklearn\\model_selection\\_validation.py:458: DataConversionWarning: A column-vector y was passed when a 1d array was expected. Please change the shape of y to (n_samples,), for example using ravel().\n",
            "  estimator.fit(X_train, y_train, **fit_params)\n"
          ],
          "name": "stderr"
        },
        {
          "output_type": "stream",
          "text": [
            "Extra: 0.007919, 0.0003\n",
            "Xgb: 0.007281, 0.0003\n"
          ],
          "name": "stdout"
        }
      ]
    },
    {
      "cell_type": "code",
      "metadata": {
        "id": "yBl75kicVTmd",
        "colab_type": "code",
        "colab": {}
      },
      "source": [
        "#GBR: 0.007294, 0.0003\n",
        "#Extra: 0.007919, 0.0003\n",
        "#Xgb: 0.007281, 0.0003"
      ],
      "execution_count": 0,
      "outputs": []
    },
    {
      "cell_type": "code",
      "metadata": {
        "id": "3Xw5kgIsV_R8",
        "colab_type": "code",
        "colab": {}
      },
      "source": [
        "class grid():\n",
        "    def __init__(self,model):\n",
        "        self.model = model\n",
        "    \n",
        "    def grid_get(self,X,y,param_grid):\n",
        "        grid_search = GridSearchCV(self.model,param_grid,cv=5, scoring=\"neg_mean_squared_error\")\n",
        "        grid_search.fit(X,y)\n",
        "        print(grid_search.best_params_, np.sqrt(-grid_search.best_score_))\n",
        "        grid_search.cv_results_['mean_test_score'] = np.sqrt(-grid_search.cv_results_['mean_test_score'])\n",
        "        print(pd.DataFrame(grid_search.cv_results_)[['params','mean_test_score','std_test_score']])"
      ],
      "execution_count": 0,
      "outputs": []
    },
    {
      "cell_type": "code",
      "metadata": {
        "id": "viCitH56WXYE",
        "colab_type": "code",
        "colab": {
          "base_uri": "https://localhost:8080/",
          "height": 918
        },
        "outputId": "61c0beea-b18f-4e3b-b8bf-6fc098d1b42c"
      },
      "source": [
        "#GradientBoostingRegressor()\n",
        "grid(GradientBoostingRegressor()).grid_get(X_train,y_train,{'n_estimators':[50,100,150]})"
      ],
      "execution_count": 33,
      "outputs": [
        {
          "output_type": "stream",
          "text": [
            "D:\\Anaconda3\\lib\\site-packages\\sklearn\\utils\\validation.py:578: DataConversionWarning: A column-vector y was passed when a 1d array was expected. Please change the shape of y to (n_samples, ), for example using ravel().\n",
            "  y = column_or_1d(y, warn=True)\n",
            "D:\\Anaconda3\\lib\\site-packages\\sklearn\\utils\\validation.py:578: DataConversionWarning: A column-vector y was passed when a 1d array was expected. Please change the shape of y to (n_samples, ), for example using ravel().\n",
            "  y = column_or_1d(y, warn=True)\n",
            "D:\\Anaconda3\\lib\\site-packages\\sklearn\\utils\\validation.py:578: DataConversionWarning: A column-vector y was passed when a 1d array was expected. Please change the shape of y to (n_samples, ), for example using ravel().\n",
            "  y = column_or_1d(y, warn=True)\n",
            "D:\\Anaconda3\\lib\\site-packages\\sklearn\\utils\\validation.py:578: DataConversionWarning: A column-vector y was passed when a 1d array was expected. Please change the shape of y to (n_samples, ), for example using ravel().\n",
            "  y = column_or_1d(y, warn=True)\n",
            "D:\\Anaconda3\\lib\\site-packages\\sklearn\\utils\\validation.py:578: DataConversionWarning: A column-vector y was passed when a 1d array was expected. Please change the shape of y to (n_samples, ), for example using ravel().\n",
            "  y = column_or_1d(y, warn=True)\n",
            "D:\\Anaconda3\\lib\\site-packages\\sklearn\\utils\\validation.py:578: DataConversionWarning: A column-vector y was passed when a 1d array was expected. Please change the shape of y to (n_samples, ), for example using ravel().\n",
            "  y = column_or_1d(y, warn=True)\n",
            "D:\\Anaconda3\\lib\\site-packages\\sklearn\\utils\\validation.py:578: DataConversionWarning: A column-vector y was passed when a 1d array was expected. Please change the shape of y to (n_samples, ), for example using ravel().\n",
            "  y = column_or_1d(y, warn=True)\n",
            "D:\\Anaconda3\\lib\\site-packages\\sklearn\\utils\\validation.py:578: DataConversionWarning: A column-vector y was passed when a 1d array was expected. Please change the shape of y to (n_samples, ), for example using ravel().\n",
            "  y = column_or_1d(y, warn=True)\n",
            "D:\\Anaconda3\\lib\\site-packages\\sklearn\\utils\\validation.py:578: DataConversionWarning: A column-vector y was passed when a 1d array was expected. Please change the shape of y to (n_samples, ), for example using ravel().\n",
            "  y = column_or_1d(y, warn=True)\n",
            "D:\\Anaconda3\\lib\\site-packages\\sklearn\\utils\\validation.py:578: DataConversionWarning: A column-vector y was passed when a 1d array was expected. Please change the shape of y to (n_samples, ), for example using ravel().\n",
            "  y = column_or_1d(y, warn=True)\n",
            "D:\\Anaconda3\\lib\\site-packages\\sklearn\\utils\\validation.py:578: DataConversionWarning: A column-vector y was passed when a 1d array was expected. Please change the shape of y to (n_samples, ), for example using ravel().\n",
            "  y = column_or_1d(y, warn=True)\n",
            "D:\\Anaconda3\\lib\\site-packages\\sklearn\\utils\\validation.py:578: DataConversionWarning: A column-vector y was passed when a 1d array was expected. Please change the shape of y to (n_samples, ), for example using ravel().\n",
            "  y = column_or_1d(y, warn=True)\n",
            "D:\\Anaconda3\\lib\\site-packages\\sklearn\\utils\\validation.py:578: DataConversionWarning: A column-vector y was passed when a 1d array was expected. Please change the shape of y to (n_samples, ), for example using ravel().\n",
            "  y = column_or_1d(y, warn=True)\n",
            "D:\\Anaconda3\\lib\\site-packages\\sklearn\\utils\\validation.py:578: DataConversionWarning: A column-vector y was passed when a 1d array was expected. Please change the shape of y to (n_samples, ), for example using ravel().\n",
            "  y = column_or_1d(y, warn=True)\n",
            "D:\\Anaconda3\\lib\\site-packages\\sklearn\\utils\\validation.py:578: DataConversionWarning: A column-vector y was passed when a 1d array was expected. Please change the shape of y to (n_samples, ), for example using ravel().\n",
            "  y = column_or_1d(y, warn=True)\n",
            "D:\\Anaconda3\\lib\\site-packages\\sklearn\\utils\\validation.py:578: DataConversionWarning: A column-vector y was passed when a 1d array was expected. Please change the shape of y to (n_samples, ), for example using ravel().\n",
            "  y = column_or_1d(y, warn=True)\n"
          ],
          "name": "stderr"
        },
        {
          "output_type": "stream",
          "text": [
            "{'n_estimators': 100} 0.0073008889795589775\n",
            "                  params  mean_test_score  std_test_score\n",
            "0   {'n_estimators': 50}         0.007370        0.000004\n",
            "1  {'n_estimators': 100}         0.007301        0.000004\n",
            "2  {'n_estimators': 150}         0.007316        0.000005\n"
          ],
          "name": "stdout"
        },
        {
          "output_type": "stream",
          "text": [
            "D:\\Anaconda3\\lib\\site-packages\\sklearn\\utils\\deprecation.py:122: FutureWarning: You are accessing a training score ('split0_train_score'), which will not be available by default any more in 0.21. If you need training scores, please set return_train_score=True\n",
            "  warnings.warn(*warn_args, **warn_kwargs)\n",
            "D:\\Anaconda3\\lib\\site-packages\\sklearn\\utils\\deprecation.py:122: FutureWarning: You are accessing a training score ('split1_train_score'), which will not be available by default any more in 0.21. If you need training scores, please set return_train_score=True\n",
            "  warnings.warn(*warn_args, **warn_kwargs)\n",
            "D:\\Anaconda3\\lib\\site-packages\\sklearn\\utils\\deprecation.py:122: FutureWarning: You are accessing a training score ('split2_train_score'), which will not be available by default any more in 0.21. If you need training scores, please set return_train_score=True\n",
            "  warnings.warn(*warn_args, **warn_kwargs)\n",
            "D:\\Anaconda3\\lib\\site-packages\\sklearn\\utils\\deprecation.py:122: FutureWarning: You are accessing a training score ('split3_train_score'), which will not be available by default any more in 0.21. If you need training scores, please set return_train_score=True\n",
            "  warnings.warn(*warn_args, **warn_kwargs)\n",
            "D:\\Anaconda3\\lib\\site-packages\\sklearn\\utils\\deprecation.py:122: FutureWarning: You are accessing a training score ('split4_train_score'), which will not be available by default any more in 0.21. If you need training scores, please set return_train_score=True\n",
            "  warnings.warn(*warn_args, **warn_kwargs)\n",
            "D:\\Anaconda3\\lib\\site-packages\\sklearn\\utils\\deprecation.py:122: FutureWarning: You are accessing a training score ('mean_train_score'), which will not be available by default any more in 0.21. If you need training scores, please set return_train_score=True\n",
            "  warnings.warn(*warn_args, **warn_kwargs)\n",
            "D:\\Anaconda3\\lib\\site-packages\\sklearn\\utils\\deprecation.py:122: FutureWarning: You are accessing a training score ('std_train_score'), which will not be available by default any more in 0.21. If you need training scores, please set return_train_score=True\n",
            "  warnings.warn(*warn_args, **warn_kwargs)\n"
          ],
          "name": "stderr"
        }
      ]
    },
    {
      "cell_type": "code",
      "metadata": {
        "id": "47hQNM7IWcKM",
        "colab_type": "code",
        "colab": {
          "base_uri": "https://localhost:8080/",
          "height": 193
        },
        "outputId": "7f6f613b-c808-4d9f-9574-c8525aabbb79"
      },
      "source": [
        "GBR=GradientBoostingRegressor(n_estimators=100)\n",
        "GBR.fit(X_train,y_train)"
      ],
      "execution_count": 34,
      "outputs": [
        {
          "output_type": "stream",
          "text": [
            "D:\\Anaconda3\\lib\\site-packages\\sklearn\\utils\\validation.py:578: DataConversionWarning: A column-vector y was passed when a 1d array was expected. Please change the shape of y to (n_samples, ), for example using ravel().\n",
            "  y = column_or_1d(y, warn=True)\n"
          ],
          "name": "stderr"
        },
        {
          "output_type": "execute_result",
          "data": {
            "text/plain": [
              "GradientBoostingRegressor(alpha=0.9, criterion='friedman_mse', init=None,\n",
              "             learning_rate=0.1, loss='ls', max_depth=3, max_features=None,\n",
              "             max_leaf_nodes=None, min_impurity_decrease=0.0,\n",
              "             min_impurity_split=None, min_samples_leaf=1,\n",
              "             min_samples_split=2, min_weight_fraction_leaf=0.0,\n",
              "             n_estimators=100, presort='auto', random_state=None,\n",
              "             subsample=1.0, verbose=0, warm_start=False)"
            ]
          },
          "metadata": {
            "tags": []
          },
          "execution_count": 34
        }
      ]
    },
    {
      "cell_type": "code",
      "metadata": {
        "id": "5-0_mMznWw2b",
        "colab_type": "code",
        "colab": {
          "base_uri": "https://localhost:8080/",
          "height": 918
        },
        "outputId": "85e9ddfd-2dba-49ed-8417-1ddddceca417"
      },
      "source": [
        "#ExtraTreesRegressor()\n",
        "grid(ExtraTreesRegressor()).grid_get(X_train,y_train,{'n_estimators':[100],'max_features':[1,2,3]})"
      ],
      "execution_count": 35,
      "outputs": [
        {
          "output_type": "stream",
          "text": [
            "D:\\Anaconda3\\lib\\site-packages\\sklearn\\model_selection\\_validation.py:458: DataConversionWarning: A column-vector y was passed when a 1d array was expected. Please change the shape of y to (n_samples,), for example using ravel().\n",
            "  estimator.fit(X_train, y_train, **fit_params)\n",
            "D:\\Anaconda3\\lib\\site-packages\\sklearn\\model_selection\\_validation.py:458: DataConversionWarning: A column-vector y was passed when a 1d array was expected. Please change the shape of y to (n_samples,), for example using ravel().\n",
            "  estimator.fit(X_train, y_train, **fit_params)\n",
            "D:\\Anaconda3\\lib\\site-packages\\sklearn\\model_selection\\_validation.py:458: DataConversionWarning: A column-vector y was passed when a 1d array was expected. Please change the shape of y to (n_samples,), for example using ravel().\n",
            "  estimator.fit(X_train, y_train, **fit_params)\n",
            "D:\\Anaconda3\\lib\\site-packages\\sklearn\\model_selection\\_validation.py:458: DataConversionWarning: A column-vector y was passed when a 1d array was expected. Please change the shape of y to (n_samples,), for example using ravel().\n",
            "  estimator.fit(X_train, y_train, **fit_params)\n",
            "D:\\Anaconda3\\lib\\site-packages\\sklearn\\model_selection\\_validation.py:458: DataConversionWarning: A column-vector y was passed when a 1d array was expected. Please change the shape of y to (n_samples,), for example using ravel().\n",
            "  estimator.fit(X_train, y_train, **fit_params)\n",
            "D:\\Anaconda3\\lib\\site-packages\\sklearn\\model_selection\\_validation.py:458: DataConversionWarning: A column-vector y was passed when a 1d array was expected. Please change the shape of y to (n_samples,), for example using ravel().\n",
            "  estimator.fit(X_train, y_train, **fit_params)\n",
            "D:\\Anaconda3\\lib\\site-packages\\sklearn\\model_selection\\_validation.py:458: DataConversionWarning: A column-vector y was passed when a 1d array was expected. Please change the shape of y to (n_samples,), for example using ravel().\n",
            "  estimator.fit(X_train, y_train, **fit_params)\n",
            "D:\\Anaconda3\\lib\\site-packages\\sklearn\\model_selection\\_validation.py:458: DataConversionWarning: A column-vector y was passed when a 1d array was expected. Please change the shape of y to (n_samples,), for example using ravel().\n",
            "  estimator.fit(X_train, y_train, **fit_params)\n",
            "D:\\Anaconda3\\lib\\site-packages\\sklearn\\model_selection\\_validation.py:458: DataConversionWarning: A column-vector y was passed when a 1d array was expected. Please change the shape of y to (n_samples,), for example using ravel().\n",
            "  estimator.fit(X_train, y_train, **fit_params)\n",
            "D:\\Anaconda3\\lib\\site-packages\\sklearn\\model_selection\\_validation.py:458: DataConversionWarning: A column-vector y was passed when a 1d array was expected. Please change the shape of y to (n_samples,), for example using ravel().\n",
            "  estimator.fit(X_train, y_train, **fit_params)\n",
            "D:\\Anaconda3\\lib\\site-packages\\sklearn\\model_selection\\_validation.py:458: DataConversionWarning: A column-vector y was passed when a 1d array was expected. Please change the shape of y to (n_samples,), for example using ravel().\n",
            "  estimator.fit(X_train, y_train, **fit_params)\n",
            "D:\\Anaconda3\\lib\\site-packages\\sklearn\\model_selection\\_validation.py:458: DataConversionWarning: A column-vector y was passed when a 1d array was expected. Please change the shape of y to (n_samples,), for example using ravel().\n",
            "  estimator.fit(X_train, y_train, **fit_params)\n",
            "D:\\Anaconda3\\lib\\site-packages\\sklearn\\model_selection\\_validation.py:458: DataConversionWarning: A column-vector y was passed when a 1d array was expected. Please change the shape of y to (n_samples,), for example using ravel().\n",
            "  estimator.fit(X_train, y_train, **fit_params)\n",
            "D:\\Anaconda3\\lib\\site-packages\\sklearn\\model_selection\\_validation.py:458: DataConversionWarning: A column-vector y was passed when a 1d array was expected. Please change the shape of y to (n_samples,), for example using ravel().\n",
            "  estimator.fit(X_train, y_train, **fit_params)\n",
            "D:\\Anaconda3\\lib\\site-packages\\sklearn\\model_selection\\_validation.py:458: DataConversionWarning: A column-vector y was passed when a 1d array was expected. Please change the shape of y to (n_samples,), for example using ravel().\n",
            "  estimator.fit(X_train, y_train, **fit_params)\n",
            "D:\\Anaconda3\\lib\\site-packages\\sklearn\\model_selection\\_search.py:739: DataConversionWarning: A column-vector y was passed when a 1d array was expected. Please change the shape of y to (n_samples,), for example using ravel().\n",
            "  self.best_estimator_.fit(X, y, **fit_params)\n"
          ],
          "name": "stderr"
        },
        {
          "output_type": "stream",
          "text": [
            "{'max_features': 3, 'n_estimators': 100} 0.00766277079405002\n",
            "                                     params  mean_test_score  std_test_score\n",
            "0  {'max_features': 1, 'n_estimators': 100}         0.010307        0.000004\n",
            "1  {'max_features': 2, 'n_estimators': 100}         0.008274        0.000003\n",
            "2  {'max_features': 3, 'n_estimators': 100}         0.007663        0.000004\n"
          ],
          "name": "stdout"
        },
        {
          "output_type": "stream",
          "text": [
            "D:\\Anaconda3\\lib\\site-packages\\sklearn\\utils\\deprecation.py:122: FutureWarning: You are accessing a training score ('split0_train_score'), which will not be available by default any more in 0.21. If you need training scores, please set return_train_score=True\n",
            "  warnings.warn(*warn_args, **warn_kwargs)\n",
            "D:\\Anaconda3\\lib\\site-packages\\sklearn\\utils\\deprecation.py:122: FutureWarning: You are accessing a training score ('split1_train_score'), which will not be available by default any more in 0.21. If you need training scores, please set return_train_score=True\n",
            "  warnings.warn(*warn_args, **warn_kwargs)\n",
            "D:\\Anaconda3\\lib\\site-packages\\sklearn\\utils\\deprecation.py:122: FutureWarning: You are accessing a training score ('split2_train_score'), which will not be available by default any more in 0.21. If you need training scores, please set return_train_score=True\n",
            "  warnings.warn(*warn_args, **warn_kwargs)\n",
            "D:\\Anaconda3\\lib\\site-packages\\sklearn\\utils\\deprecation.py:122: FutureWarning: You are accessing a training score ('split3_train_score'), which will not be available by default any more in 0.21. If you need training scores, please set return_train_score=True\n",
            "  warnings.warn(*warn_args, **warn_kwargs)\n",
            "D:\\Anaconda3\\lib\\site-packages\\sklearn\\utils\\deprecation.py:122: FutureWarning: You are accessing a training score ('split4_train_score'), which will not be available by default any more in 0.21. If you need training scores, please set return_train_score=True\n",
            "  warnings.warn(*warn_args, **warn_kwargs)\n",
            "D:\\Anaconda3\\lib\\site-packages\\sklearn\\utils\\deprecation.py:122: FutureWarning: You are accessing a training score ('mean_train_score'), which will not be available by default any more in 0.21. If you need training scores, please set return_train_score=True\n",
            "  warnings.warn(*warn_args, **warn_kwargs)\n",
            "D:\\Anaconda3\\lib\\site-packages\\sklearn\\utils\\deprecation.py:122: FutureWarning: You are accessing a training score ('std_train_score'), which will not be available by default any more in 0.21. If you need training scores, please set return_train_score=True\n",
            "  warnings.warn(*warn_args, **warn_kwargs)\n"
          ],
          "name": "stderr"
        }
      ]
    },
    {
      "cell_type": "code",
      "metadata": {
        "id": "xmgG9mS9W2Rc",
        "colab_type": "code",
        "colab": {
          "base_uri": "https://localhost:8080/",
          "height": 158
        },
        "outputId": "7bd17310-109e-4a47-93c6-5929e4e15e20"
      },
      "source": [
        "ETR=ExtraTreesRegressor(n_estimators=100,max_features=3)\n",
        "ETR.fit(X_train,y_train)"
      ],
      "execution_count": 36,
      "outputs": [
        {
          "output_type": "stream",
          "text": [
            "D:\\Anaconda3\\lib\\site-packages\\ipykernel_launcher.py:2: DataConversionWarning: A column-vector y was passed when a 1d array was expected. Please change the shape of y to (n_samples,), for example using ravel().\n",
            "  \n"
          ],
          "name": "stderr"
        },
        {
          "output_type": "execute_result",
          "data": {
            "text/plain": [
              "ExtraTreesRegressor(bootstrap=False, criterion='mse', max_depth=None,\n",
              "          max_features=3, max_leaf_nodes=None, min_impurity_decrease=0.0,\n",
              "          min_impurity_split=None, min_samples_leaf=1, min_samples_split=2,\n",
              "          min_weight_fraction_leaf=0.0, n_estimators=100, n_jobs=1,\n",
              "          oob_score=False, random_state=None, verbose=0, warm_start=False)"
            ]
          },
          "metadata": {
            "tags": []
          },
          "execution_count": 36
        }
      ]
    },
    {
      "cell_type": "code",
      "metadata": {
        "id": "khJq_hFhW-pD",
        "colab_type": "code",
        "colab": {
          "base_uri": "https://localhost:8080/",
          "height": 745
        },
        "outputId": "53b514f7-e63b-43b5-ff84-5a94a7be2ea3"
      },
      "source": [
        "#XGBRegressor()\n",
        "grid(XGBRegressor()).grid_get(X_train,y_train,{'n_estimators':[80,85,90,95,100],'gamma':[0.0001,0.001,0.01,0.1,0.00000000001]})"
      ],
      "execution_count": 37,
      "outputs": [
        {
          "output_type": "stream",
          "text": [
            "{'gamma': 1e-11, 'n_estimators': 100} 0.007286751495073704\n",
            "                                    params  mean_test_score  std_test_score\n",
            "0    {'gamma': 0.0001, 'n_estimators': 80}         0.007300        0.000004\n",
            "1    {'gamma': 0.0001, 'n_estimators': 85}         0.007294        0.000004\n",
            "2    {'gamma': 0.0001, 'n_estimators': 90}         0.007292        0.000004\n",
            "3    {'gamma': 0.0001, 'n_estimators': 95}         0.007289        0.000004\n",
            "4   {'gamma': 0.0001, 'n_estimators': 100}         0.007288        0.000004\n",
            "5     {'gamma': 0.001, 'n_estimators': 80}         0.007373        0.000004\n",
            "6     {'gamma': 0.001, 'n_estimators': 85}         0.007372        0.000004\n",
            "7     {'gamma': 0.001, 'n_estimators': 90}         0.007372        0.000004\n",
            "8     {'gamma': 0.001, 'n_estimators': 95}         0.007372        0.000004\n",
            "9    {'gamma': 0.001, 'n_estimators': 100}         0.007372        0.000004\n",
            "10     {'gamma': 0.01, 'n_estimators': 80}         0.007723        0.000004\n",
            "11     {'gamma': 0.01, 'n_estimators': 85}         0.007722        0.000004\n",
            "12     {'gamma': 0.01, 'n_estimators': 90}         0.007722        0.000004\n",
            "13     {'gamma': 0.01, 'n_estimators': 95}         0.007722        0.000004\n",
            "14    {'gamma': 0.01, 'n_estimators': 100}         0.007722        0.000004\n",
            "15      {'gamma': 0.1, 'n_estimators': 80}         0.009509        0.000003\n",
            "16      {'gamma': 0.1, 'n_estimators': 85}         0.009508        0.000003\n",
            "17      {'gamma': 0.1, 'n_estimators': 90}         0.009508        0.000003\n",
            "18      {'gamma': 0.1, 'n_estimators': 95}         0.009508        0.000003\n",
            "19     {'gamma': 0.1, 'n_estimators': 100}         0.009508        0.000003\n",
            "20    {'gamma': 1e-11, 'n_estimators': 80}         0.007294        0.000004\n",
            "21    {'gamma': 1e-11, 'n_estimators': 85}         0.007293        0.000004\n",
            "22    {'gamma': 1e-11, 'n_estimators': 90}         0.007287        0.000004\n",
            "23    {'gamma': 1e-11, 'n_estimators': 95}         0.007288        0.000004\n",
            "24   {'gamma': 1e-11, 'n_estimators': 100}         0.007287        0.000004\n"
          ],
          "name": "stdout"
        },
        {
          "output_type": "stream",
          "text": [
            "D:\\Anaconda3\\lib\\site-packages\\sklearn\\utils\\deprecation.py:122: FutureWarning: You are accessing a training score ('split0_train_score'), which will not be available by default any more in 0.21. If you need training scores, please set return_train_score=True\n",
            "  warnings.warn(*warn_args, **warn_kwargs)\n",
            "D:\\Anaconda3\\lib\\site-packages\\sklearn\\utils\\deprecation.py:122: FutureWarning: You are accessing a training score ('split1_train_score'), which will not be available by default any more in 0.21. If you need training scores, please set return_train_score=True\n",
            "  warnings.warn(*warn_args, **warn_kwargs)\n",
            "D:\\Anaconda3\\lib\\site-packages\\sklearn\\utils\\deprecation.py:122: FutureWarning: You are accessing a training score ('split2_train_score'), which will not be available by default any more in 0.21. If you need training scores, please set return_train_score=True\n",
            "  warnings.warn(*warn_args, **warn_kwargs)\n",
            "D:\\Anaconda3\\lib\\site-packages\\sklearn\\utils\\deprecation.py:122: FutureWarning: You are accessing a training score ('split3_train_score'), which will not be available by default any more in 0.21. If you need training scores, please set return_train_score=True\n",
            "  warnings.warn(*warn_args, **warn_kwargs)\n",
            "D:\\Anaconda3\\lib\\site-packages\\sklearn\\utils\\deprecation.py:122: FutureWarning: You are accessing a training score ('split4_train_score'), which will not be available by default any more in 0.21. If you need training scores, please set return_train_score=True\n",
            "  warnings.warn(*warn_args, **warn_kwargs)\n",
            "D:\\Anaconda3\\lib\\site-packages\\sklearn\\utils\\deprecation.py:122: FutureWarning: You are accessing a training score ('mean_train_score'), which will not be available by default any more in 0.21. If you need training scores, please set return_train_score=True\n",
            "  warnings.warn(*warn_args, **warn_kwargs)\n",
            "D:\\Anaconda3\\lib\\site-packages\\sklearn\\utils\\deprecation.py:122: FutureWarning: You are accessing a training score ('std_train_score'), which will not be available by default any more in 0.21. If you need training scores, please set return_train_score=True\n",
            "  warnings.warn(*warn_args, **warn_kwargs)\n"
          ],
          "name": "stderr"
        }
      ]
    },
    {
      "cell_type": "code",
      "metadata": {
        "id": "a8rR6BFeXM5s",
        "colab_type": "code",
        "colab": {
          "base_uri": "https://localhost:8080/",
          "height": 138
        },
        "outputId": "cb720930-bed5-4f47-e7fe-82fe894981be"
      },
      "source": [
        "XGBR=XGBRegressor(gamma=1e-11, n_estimators=100)\n",
        "XGBR.fit(X_train,y_train)"
      ],
      "execution_count": 38,
      "outputs": [
        {
          "output_type": "execute_result",
          "data": {
            "text/plain": [
              "XGBRegressor(base_score=0.5, booster='gbtree', colsample_bylevel=1,\n",
              "       colsample_bytree=1, gamma=1e-11, importance_type='gain',\n",
              "       learning_rate=0.1, max_delta_step=0, max_depth=3,\n",
              "       min_child_weight=1, missing=None, n_estimators=100, n_jobs=1,\n",
              "       nthread=None, objective='reg:linear', random_state=0, reg_alpha=0,\n",
              "       reg_lambda=1, scale_pos_weight=1, seed=None, silent=True,\n",
              "       subsample=1)"
            ]
          },
          "metadata": {
            "tags": []
          },
          "execution_count": 38
        }
      ]
    },
    {
      "cell_type": "code",
      "metadata": {
        "id": "YK4FKm4lXiki",
        "colab_type": "code",
        "colab": {}
      },
      "source": [
        "class AverageWeight(BaseEstimator, RegressorMixin):\n",
        "    def __init__(self,mod,weight):\n",
        "        self.mod = mod\n",
        "        self.weight = weight\n",
        "        \n",
        "    def fit(self,X,y):\n",
        "        self.models_ = [clone(x) for x in self.mod]\n",
        "        for model in self.models_:\n",
        "            model.fit(X,y)\n",
        "        return self\n",
        "    \n",
        "    def predict(self,X):\n",
        "        w = list()\n",
        "        pred = np.array([model.predict(X) for model in self.models_])\n",
        "        # for every data point, single model prediction times weight, then add them together\n",
        "        for data in range(pred.shape[1]):\n",
        "            single = [pred[model,data]*weight for model,weight in zip(range(pred.shape[0]),self.weight)]\n",
        "            w.append(np.sum(single))\n",
        "        return w"
      ],
      "execution_count": 0,
      "outputs": []
    },
    {
      "cell_type": "code",
      "metadata": {
        "id": "GyYkCZ4sXod7",
        "colab_type": "code",
        "colab": {
          "base_uri": "https://localhost:8080/",
          "height": 400
        },
        "outputId": "e3a97cb2-76b4-4147-f977-dedf668a9be7"
      },
      "source": [
        "w1 = 0.4\n",
        "w2 = 0.2\n",
        "w3 = 0.4\n",
        "weight_avg = AverageWeight(mod =[GBR,ETR,XGBR],weight=[w1,w2,w3])\n",
        "score = rmse_cv(weight_avg,X_train,y_train)\n",
        "print(score.mean())"
      ],
      "execution_count": 40,
      "outputs": [
        {
          "output_type": "stream",
          "text": [
            "D:\\Anaconda3\\lib\\site-packages\\sklearn\\utils\\validation.py:578: DataConversionWarning: A column-vector y was passed when a 1d array was expected. Please change the shape of y to (n_samples, ), for example using ravel().\n",
            "  y = column_or_1d(y, warn=True)\n",
            "D:\\Anaconda3\\lib\\site-packages\\ipykernel_launcher.py:9: DataConversionWarning: A column-vector y was passed when a 1d array was expected. Please change the shape of y to (n_samples,), for example using ravel().\n",
            "  if __name__ == '__main__':\n",
            "D:\\Anaconda3\\lib\\site-packages\\sklearn\\utils\\validation.py:578: DataConversionWarning: A column-vector y was passed when a 1d array was expected. Please change the shape of y to (n_samples, ), for example using ravel().\n",
            "  y = column_or_1d(y, warn=True)\n",
            "D:\\Anaconda3\\lib\\site-packages\\ipykernel_launcher.py:9: DataConversionWarning: A column-vector y was passed when a 1d array was expected. Please change the shape of y to (n_samples,), for example using ravel().\n",
            "  if __name__ == '__main__':\n",
            "D:\\Anaconda3\\lib\\site-packages\\sklearn\\utils\\validation.py:578: DataConversionWarning: A column-vector y was passed when a 1d array was expected. Please change the shape of y to (n_samples, ), for example using ravel().\n",
            "  y = column_or_1d(y, warn=True)\n",
            "D:\\Anaconda3\\lib\\site-packages\\ipykernel_launcher.py:9: DataConversionWarning: A column-vector y was passed when a 1d array was expected. Please change the shape of y to (n_samples,), for example using ravel().\n",
            "  if __name__ == '__main__':\n",
            "D:\\Anaconda3\\lib\\site-packages\\sklearn\\utils\\validation.py:578: DataConversionWarning: A column-vector y was passed when a 1d array was expected. Please change the shape of y to (n_samples, ), for example using ravel().\n",
            "  y = column_or_1d(y, warn=True)\n",
            "D:\\Anaconda3\\lib\\site-packages\\ipykernel_launcher.py:9: DataConversionWarning: A column-vector y was passed when a 1d array was expected. Please change the shape of y to (n_samples,), for example using ravel().\n",
            "  if __name__ == '__main__':\n",
            "D:\\Anaconda3\\lib\\site-packages\\sklearn\\utils\\validation.py:578: DataConversionWarning: A column-vector y was passed when a 1d array was expected. Please change the shape of y to (n_samples, ), for example using ravel().\n",
            "  y = column_or_1d(y, warn=True)\n",
            "D:\\Anaconda3\\lib\\site-packages\\ipykernel_launcher.py:9: DataConversionWarning: A column-vector y was passed when a 1d array was expected. Please change the shape of y to (n_samples,), for example using ravel().\n",
            "  if __name__ == '__main__':\n"
          ],
          "name": "stderr"
        },
        {
          "output_type": "stream",
          "text": [
            "0.007269581174482891\n"
          ],
          "name": "stdout"
        }
      ]
    },
    {
      "cell_type": "code",
      "metadata": {
        "id": "R93YDk5CX7I7",
        "colab_type": "code",
        "colab": {
          "base_uri": "https://localhost:8080/",
          "height": 245
        },
        "outputId": "e12d6cd7-a3fc-4611-85fc-b0a3ad31e23c"
      },
      "source": [
        "weight_avg.fit(X_train,y_train)"
      ],
      "execution_count": 54,
      "outputs": [
        {
          "output_type": "stream",
          "text": [
            "D:\\Anaconda3\\lib\\site-packages\\sklearn\\utils\\validation.py:578: DataConversionWarning: A column-vector y was passed when a 1d array was expected. Please change the shape of y to (n_samples, ), for example using ravel().\n",
            "  y = column_or_1d(y, warn=True)\n",
            "D:\\Anaconda3\\lib\\site-packages\\ipykernel_launcher.py:9: DataConversionWarning: A column-vector y was passed when a 1d array was expected. Please change the shape of y to (n_samples,), for example using ravel().\n",
            "  if __name__ == '__main__':\n"
          ],
          "name": "stderr"
        },
        {
          "output_type": "execute_result",
          "data": {
            "text/plain": [
              "AverageWeight(mod=[GradientBoostingRegressor(alpha=0.9, criterion='friedman_mse', init=None,\n",
              "             learning_rate=0.1, loss='ls', max_depth=3, max_features=None,\n",
              "             max_leaf_nodes=None, min_impurity_decrease=0.0,\n",
              "             min_impurity_split=None, min_samples_leaf=1,\n",
              "             min_samples_sp..., reg_alpha=0,\n",
              "       reg_lambda=1, scale_pos_weight=1, seed=None, silent=True,\n",
              "       subsample=1)],\n",
              "       weight=[0.4, 0.2, 0.4])"
            ]
          },
          "metadata": {
            "tags": []
          },
          "execution_count": 54
        }
      ]
    },
    {
      "cell_type": "code",
      "metadata": {
        "id": "8nwr50tqYETa",
        "colab_type": "code",
        "colab": {}
      },
      "source": [
        "def compute_rmse(y1, y2):\n",
        "    return np.mean((y1 - y2) ** 2) ** 0.5"
      ],
      "execution_count": 0,
      "outputs": []
    },
    {
      "cell_type": "code",
      "metadata": {
        "id": "Je6iCIPSYMDj",
        "colab_type": "code",
        "colab": {
          "base_uri": "https://localhost:8080/",
          "height": 35
        },
        "outputId": "3181c36c-b239-4be0-f923-c0a542da0494"
      },
      "source": [
        "compute_rmse(np.array(weight_avg.predict(X_test)),np.array(y_test))"
      ],
      "execution_count": 55,
      "outputs": [
        {
          "output_type": "execute_result",
          "data": {
            "text/plain": [
              "0.08844368977051961"
            ]
          },
          "metadata": {
            "tags": []
          },
          "execution_count": 55
        }
      ]
    },
    {
      "cell_type": "code",
      "metadata": {
        "id": "Jp18TNuMYT8S",
        "colab_type": "code",
        "colab": {
          "base_uri": "https://localhost:8080/",
          "height": 298
        },
        "outputId": "bfc9c70f-15f5-48e4-c230-be0c8e2fe27c"
      },
      "source": [
        "plt.figure()\n",
        "plt.rcParams['font.sans-serif']=['SimHei'] #用来正常显示中文标签\n",
        "plt.rcParams['axes.unicode_minus']=False #用来正常显示负号\n",
        "x = np.linspace(0,1,20)\n",
        "plt.plot(x,np.array(weight_avg.predict(X_test[0:20])),'r.',x,np.array(y_test[0:20]),'b.')"
      ],
      "execution_count": 56,
      "outputs": [
        {
          "output_type": "execute_result",
          "data": {
            "text/plain": [
              "[<matplotlib.lines.Line2D at 0x2098bf4e390>,\n",
              " <matplotlib.lines.Line2D at 0x2098bf4e550>]"
            ]
          },
          "metadata": {
            "tags": []
          },
          "execution_count": 56
        },
        {
          "output_type": "display_data",
          "data": {
            "text/plain": [
              "<Figure size 432x288 with 1 Axes>"
            ],
            "image/png": "[encoded data removed]"
          },
          "metadata": {
            "tags": []
          }
        }
      ]
    },
    {
      "cell_type": "code",
      "metadata": {
        "id": "BFhNwa8qYwha",
        "colab_type": "code",
        "colab": {}
      },
      "source": [
        "GBR=GradientBoostingRegressor(n_estimators=100)\n",
        "ETR=ExtraTreesRegressor(n_estimators=100,max_features=3)\n",
        "XGBR=XGBRegressor(gamma=1e-11, n_estimators=100)"
      ],
      "execution_count": 0,
      "outputs": []
    },
    {
      "cell_type": "code",
      "metadata": {
        "id": "74QUkRVgamF4",
        "colab_type": "code",
        "colab": {}
      },
      "source": [
        "import numpy as np\n",
        "from sklearn.model_selection import KFold"
      ],
      "execution_count": 0,
      "outputs": []
    },
    {
      "cell_type": "code",
      "metadata": {
        "id": "VXERO8wGamvB",
        "colab_type": "code",
        "colab": {}
      },
      "source": [
        "class stacking(BaseEstimator, RegressorMixin, TransformerMixin):\n",
        "    def __init__(self,mod,meta_model):\n",
        "        self.mod = mod\n",
        "        self.meta_model = meta_model\n",
        "        self.kf = KFold(n_splits=5, random_state=42, shuffle=True)\n",
        "\n",
        "    def fit(self,X,y):\n",
        "        self.saved_model = [list() for i in self.mod]\n",
        "        oof_train = np.zeros((X.shape[0], len(self.mod)))\n",
        "\n",
        "        for i,model in enumerate(self.mod):\n",
        "            for train_index, val_index in self.kf.split(X,y):\n",
        "                renew_model = clone(model)\n",
        "                renew_model.fit(X[train_index], y[train_index])\n",
        "                self.saved_model[i].append(renew_model)\n",
        "                oof_train[val_index,i] = renew_model.predict(X[val_index])\n",
        "\n",
        "        self.meta_model.fit(oof_train,y)\n",
        "        return self\n",
        "\n",
        "    def predict(self,X):\n",
        "        whole_test = np.column_stack([np.column_stack(model.predict(X) for model in single_model).mean(axis=1) \n",
        "                                      for single_model in self.saved_model]) \n",
        "        return self.meta_model.predict(whole_test)\n",
        "\n",
        "    def get_oof(self,X,y,test_X):\n",
        "        oof = np.zeros((X.shape[0],len(self.mod)))\n",
        "        test_single = np.zeros((test_X.shape[0],5))\n",
        "        test_mean = np.zeros((test_X.shape[0],len(self.mod)))\n",
        "        for i,model in enumerate(self.mod):\n",
        "            for j, (train_index,val_index) in enumerate(self.kf.split(X,y)):\n",
        "                clone_model = clone(model)\n",
        "                clone_model.fit(X[train_index],y[train_index])\n",
        "                oof[val_index,i] = clone_model.predict(X[val_index])\n",
        "                test_single[:,j] = clone_model.predict(test_X)\n",
        "            test_mean[:,i] = test_single.mean(axis=1)\n",
        "        return oof, test_mean"
      ],
      "execution_count": 0,
      "outputs": []
    },
    {
      "cell_type": "code",
      "metadata": {
        "id": "4Jt44Ji8ao-h",
        "colab_type": "code",
        "colab": {}
      },
      "source": [
        "a = Imputer().fit_transform(X_train)\n",
        "b = Imputer().fit_transform(y_train.values.reshape(-1,1)).ravel()"
      ],
      "execution_count": 0,
      "outputs": []
    },
    {
      "cell_type": "code",
      "metadata": {
        "id": "EgbIiihXarP5",
        "colab_type": "code",
        "colab": {}
      },
      "source": [
        "stack_model = stacking(mod=[GBR,ETR,XGBR],meta_model=GBR)"
      ],
      "execution_count": 0,
      "outputs": []
    },
    {
      "cell_type": "code",
      "metadata": {
        "id": "0qVFoRmVaxvq",
        "colab_type": "code",
        "colab": {
          "base_uri": "https://localhost:8080/",
          "height": 35
        },
        "outputId": "ca85f33c-7991-4385-b5e0-d96499b71c37"
      },
      "source": [
        "score = rmse_cv(stack_model,a,b)\n",
        "print(score.mean())"
      ],
      "execution_count": 62,
      "outputs": [
        {
          "output_type": "stream",
          "text": [
            "0.007322363231011163\n"
          ],
          "name": "stdout"
        }
      ]
    },
    {
      "cell_type": "code",
      "metadata": {
        "id": "-VSaMfQJa0uq",
        "colab_type": "code",
        "colab": {
          "base_uri": "https://localhost:8080/",
          "height": 259
        },
        "outputId": "8aaacbc4-7523-477a-e59f-060a84c02367"
      },
      "source": [
        "stack_model.fit(a,b)"
      ],
      "execution_count": 63,
      "outputs": [
        {
          "output_type": "execute_result",
          "data": {
            "text/plain": [
              "stacking(meta_model=GradientBoostingRegressor(alpha=0.9, criterion='friedman_mse', init=None,\n",
              "             learning_rate=0.1, loss='ls', max_depth=3, max_features=None,\n",
              "             max_leaf_nodes=None, min_impurity_decrease=0.0,\n",
              "             min_impurity_split=None, min_samples_leaf=1,\n",
              "             min_samples_split=2, min_weight_fraction_leaf=0.0,\n",
              "             n_estimators=100, presort='auto', random_state=None,\n",
              "             subsample=1.0, verbose=0, warm_start=False),\n",
              "     mod=[GradientBoostingRegressor(alpha=0.9, criterion='friedman_mse', init=None,\n",
              "             learning_rate=0.1, loss='ls', max_depth=3, max_features=None,\n",
              "             max_leaf_nodes=None, min_impurity_decrease=0.0,\n",
              "             min_impurity_split=None, min_samples_leaf=1,\n",
              "             min_samples_sp..., reg_alpha=0,\n",
              "       reg_lambda=1, scale_pos_weight=1, seed=None, silent=True,\n",
              "       subsample=1)])"
            ]
          },
          "metadata": {
            "tags": []
          },
          "execution_count": 63
        }
      ]
    },
    {
      "cell_type": "code",
      "metadata": {
        "id": "ZB8Mj8Q9a_q5",
        "colab_type": "code",
        "colab": {
          "base_uri": "https://localhost:8080/",
          "height": 69
        },
        "outputId": "caf73144-3d83-4a72-99d7-475ae200daef"
      },
      "source": [
        "compute_rmse(np.array(stack_model.predict(pd.DataFrame.as_matrix(X_test))),np.array(y_test))"
      ],
      "execution_count": 65,
      "outputs": [
        {
          "output_type": "stream",
          "text": [
            "D:\\Anaconda3\\lib\\site-packages\\ipykernel_launcher.py:1: FutureWarning: Method .as_matrix will be removed in a future version. Use .values instead.\n",
            "  \"\"\"Entry point for launching an IPython kernel.\n"
          ],
          "name": "stderr"
        },
        {
          "output_type": "execute_result",
          "data": {
            "text/plain": [
              "0.0885651250270044"
            ]
          },
          "metadata": {
            "tags": []
          },
          "execution_count": 65
        }
      ]
    },
    {
      "cell_type": "code",
      "metadata": {
        "id": "yT8Nz21wbK3p",
        "colab_type": "code",
        "colab": {
          "base_uri": "https://localhost:8080/",
          "height": 334
        },
        "outputId": "12524b2e-cfda-45dd-b887-db944cce1f58"
      },
      "source": [
        "plt.figure()\n",
        "plt.rcParams['font.sans-serif']=['SimHei'] #用来正常显示中文标签\n",
        "plt.rcParams['axes.unicode_minus']=False #用来正常显示负号\n",
        "x = np.linspace(0,1,20)\n",
        "plt.plot(x,np.exp(stack_model.predict(pd.DataFrame.as_matrix(X_test[0:20]))),'r.',x,np.exp(y_test[0:20]),'b.')"
      ],
      "execution_count": 66,
      "outputs": [
        {
          "output_type": "stream",
          "text": [
            "D:\\Anaconda3\\lib\\site-packages\\ipykernel_launcher.py:5: FutureWarning: Method .as_matrix will be removed in a future version. Use .values instead.\n",
            "  \"\"\"\n"
          ],
          "name": "stderr"
        },
        {
          "output_type": "execute_result",
          "data": {
            "text/plain": [
              "[<matplotlib.lines.Line2D at 0x209a2c3def0>,\n",
              " <matplotlib.lines.Line2D at 0x209a2c45198>]"
            ]
          },
          "metadata": {
            "tags": []
          },
          "execution_count": 66
        },
        {
          "output_type": "display_data",
          "data": {
            "text/plain": [
              "<Figure size 432x288 with 1 Axes>"
            ],
            "image/png": "[encoded data removed]"
          },
          "metadata": {
            "tags": []
          }
        }
      ]
    },
    {
      "cell_type": "code",
      "metadata": {
        "id": "gy0TUk3bbYKA",
        "colab_type": "code",
        "colab": {}
      },
      "source": [
        ""
      ],
      "execution_count": 0,
      "outputs": []
    }
  ]
}