{
  "nbformat": 4,
  "nbformat_minor": 0,
  "metadata": {
    "colab": {
      "name": "new_5_26.ipynb",
      "version": "0.3.2",
      "provenance": []
    },
    "kernelspec": {
      "name": "python3",
      "display_name": "Python 3"
    }
  },
  "cells": [
    {
      "cell_type": "code",
      "metadata": {
        "id": "p1MqiGtNQGC_",
        "colab_type": "code",
        "colab": {}
      },
      "source": [
        "import pandas as pd\n",
        "import numpy as np\n",
        "import random\n",
        "import math\n",
        "import csv\n",
        "#from compiler.ast import flatten\n",
        "import matplotlib.pyplot as plt\n",
        "from matplotlib import patches\n",
        "from mpl_toolkits.mplot3d import Axes3D\n",
        "import seaborn as sns\n",
        "import math\n",
        "import csv\n",
        "import random\n",
        "import string\n",
        "from numpy import array, cov, corrcoef\n",
        "import stats as sts\n",
        "import matplotlib.pyplot as plt\n",
        "import pandas as pd\n",
        "from scipy import optimize\n",
        "from sklearn import preprocessing\n",
        "import pandas as pd\n",
        "import numpy as np\n",
        "import os\n",
        "import tarfile\n",
        "from keras.optimizers import adam, rmsprop, adadelta\n",
        "from keras.models import Sequential\n",
        "from keras.layers import Dense,Dropout\n",
        "import matplotlib.pyplot as plt\n",
        "from keras.callbacks import EarlyStopping\n",
        "import random\n",
        "from sklearn.model_selection import train_test_split\n",
        "from sklearn.linear_model import LinearRegression\n",
        "from sklearn.ensemble import RandomForestClassifier\n",
        "from sklearn.datasets import make_classification\n",
        "from sklearn import preprocessing\n",
        "from sklearn.tree import  DecisionTreeRegressor\n",
        "import tensorflow as tf\n",
        "from sklearn.metrics import roc_auc_score\n",
        "from keras import backend as K\n",
        "from keras import optimizers\n",
        "from keras.layers import *\n",
        "from keras.initializers import *\n",
        "from keras.models import *\n",
        "import seaborn as sns\n",
        "import seaborn as sns\n",
        "import matplotlib.pyplot as plt\n",
        "import pandas as pd\n",
        "import numpy as np\n",
        "from sklearn.model_selection import cross_val_score\n",
        "from sklearn import linear_model\n",
        "from sklearn import metrics\n",
        "import csv\n",
        "import warnings\n",
        "from sklearn.base import BaseEstimator, TransformerMixin, RegressorMixin, clone\n",
        "from sklearn.preprocessing import LabelEncoder\n",
        "from sklearn.preprocessing import RobustScaler, StandardScaler\n",
        "from sklearn.metrics import mean_squared_error\n",
        "from sklearn.pipeline import Pipeline, make_pipeline\n",
        "from scipy.stats import skew\n",
        "from sklearn.decomposition import PCA, KernelPCA\n",
        "from sklearn.preprocessing import Imputer\n",
        "from sklearn.model_selection import cross_val_score, GridSearchCV, KFold\n",
        "from sklearn.linear_model import LinearRegression\n",
        "from sklearn.linear_model import Ridge\n",
        "from sklearn.linear_model import Lasso\n",
        "from sklearn.ensemble import RandomForestRegressor, GradientBoostingRegressor, ExtraTreesRegressor\n",
        "from sklearn.svm import SVR, LinearSVR\n",
        "from sklearn.linear_model import ElasticNet, SGDRegressor, BayesianRidge\n",
        "from sklearn.kernel_ridge import KernelRidge\n",
        "from xgboost import XGBRegressor\n",
        "from sklearn.model_selection import train_test_split"
      ],
      "execution_count": 0,
      "outputs": []
    },
    {
      "cell_type": "code",
      "metadata": {
        "id": "ddPqWmAVQ1D5",
        "colab_type": "code",
        "colab": {}
      },
      "source": [
        "data = pd.read_csv(\"D:/train_data.csv\")"
      ],
      "execution_count": 0,
      "outputs": []
    },
    {
      "cell_type": "code",
      "metadata": {
        "id": "9okcPj5tROW_",
        "colab_type": "code",
        "colab": {
          "base_uri": "https://localhost:8080/",
          "height": 308
        },
        "outputId": "3ec42780-32b9-4d8c-9d81-b215e25a519d"
      },
      "source": [
        "data.describe()"
      ],
      "execution_count": 69,
      "outputs": [
        {
          "output_type": "execute_result",
          "data": {
            "text/plain": [
              "              label  Upper_quartile  Lower_Quantile  quartile_deviation  \\\n",
              "count  10000.000000    10000.000000    10000.000000        10000.000000   \n",
              "mean       0.074208       12.892600       35.710800           22.818200   \n",
              "std        0.062775        2.193164        2.281568            2.866820   \n",
              "min       -0.000011        4.000000       11.000000            2.666667   \n",
              "25%        0.008453       12.000000       35.333333           22.333333   \n",
              "50%        0.067164       12.333333       36.333333           23.666667   \n",
              "75%        0.133491       13.333333       36.666667           24.333333   \n",
              "max        0.189822       36.333333       46.666667           34.000000   \n",
              "\n",
              "             Median  average_value  standard_deviation  \\\n",
              "count  10000.000000   10000.000000        10000.000000   \n",
              "mean      24.289333      24.311514           13.482760   \n",
              "std        2.115211       1.611091            1.378311   \n",
              "min        8.000000       8.337657            1.593529   \n",
              "25%       23.666667      23.810860           13.442471   \n",
              "50%       24.333333      24.367030           13.841308   \n",
              "75%       25.000000      24.825732           14.070108   \n",
              "max       41.833333      39.742037           16.608982   \n",
              "\n",
              "       Dispersion_coefficient      skewness      kurtosis    mean_width  \\\n",
              "count            10000.000000  10000.000000  10000.000000  10000.000000   \n",
              "mean                 0.556307      0.005909     -1.087423      6.338912   \n",
              "std                  0.060848      0.118519      0.171528      3.079520   \n",
              "min                  0.085237     -0.824105     -1.810909      1.719803   \n",
              "25%                  0.549257     -0.037888     -1.173414      4.150245   \n",
              "50%                  0.569862      0.004599     -1.138531      5.458451   \n",
              "75%                  0.582108      0.050779     -1.064627      7.914005   \n",
              "max                  0.811502      1.148918      1.708877     19.457059   \n",
              "\n",
              "            surface        volume  \n",
              "count   10000.00000   10000.00000  \n",
              "mean    62864.83810   67405.41150  \n",
              "std     25332.27436   34339.67523  \n",
              "min       257.00000     164.00000  \n",
              "25%     49030.50000   38198.75000  \n",
              "50%     64870.50000   73193.50000  \n",
              "75%     79393.25000   98232.75000  \n",
              "max    129205.00000  119324.00000  "
            ],
            "text/html": [
              "<div>\n",
              "<style scoped>\n",
              "    .dataframe tbody tr th:only-of-type {\n",
              "        vertical-align: middle;\n",
              "    }\n",
              "\n",
              "    .dataframe tbody tr th {\n",
              "        vertical-align: top;\n",
              "    }\n",
              "\n",
              "    .dataframe thead th {\n",
              "        text-align: right;\n",
              "    }\n",
              "</style>\n",
              "<table border=\"1\" class=\"dataframe\">\n",
              "  <thead>\n",
              "    <tr style=\"text-align: right;\">\n",
              "      <th></th>\n",
              "      <th>label</th>\n",
              "      <th>Upper_quartile</th>\n",
              "      <th>Lower_Quantile</th>\n",
              "      <th>quartile_deviation</th>\n",
              "      <th>Median</th>\n",
              "      <th>average_value</th>\n",
              "      <th>standard_deviation</th>\n",
              "      <th>Dispersion_coefficient</th>\n",
              "      <th>skewness</th>\n",
              "      <th>kurtosis</th>\n",
              "      <th>mean_width</th>\n",
              "      <th>surface</th>\n",
              "      <th>volume</th>\n",
              "    </tr>\n",
              "  </thead>\n",
              "  <tbody>\n",
              "    <tr>\n",
              "      <th>count</th>\n",
              "      <td>10000.000000</td>\n",
              "      <td>10000.000000</td>\n",
              "      <td>10000.000000</td>\n",
              "      <td>10000.000000</td>\n",
              "      <td>10000.000000</td>\n",
              "      <td>10000.000000</td>\n",
              "      <td>10000.000000</td>\n",
              "      <td>10000.000000</td>\n",
              "      <td>10000.000000</td>\n",
              "      <td>10000.000000</td>\n",
              "      <td>10000.000000</td>\n",
              "      <td>10000.00000</td>\n",
              "      <td>10000.00000</td>\n",
              "    </tr>\n",
              "    <tr>\n",
              "      <th>mean</th>\n",
              "      <td>0.074208</td>\n",
              "      <td>12.892600</td>\n",
              "      <td>35.710800</td>\n",
              "      <td>22.818200</td>\n",
              "      <td>24.289333</td>\n",
              "      <td>24.311514</td>\n",
              "      <td>13.482760</td>\n",
              "      <td>0.556307</td>\n",
              "      <td>0.005909</td>\n",
              "      <td>-1.087423</td>\n",
              "      <td>6.338912</td>\n",
              "      <td>62864.83810</td>\n",
              "      <td>67405.41150</td>\n",
              "    </tr>\n",
              "    <tr>\n",
              "      <th>std</th>\n",
              "      <td>0.062775</td>\n",
              "      <td>2.193164</td>\n",
              "      <td>2.281568</td>\n",
              "      <td>2.866820</td>\n",
              "      <td>2.115211</td>\n",
              "      <td>1.611091</td>\n",
              "      <td>1.378311</td>\n",
              "      <td>0.060848</td>\n",
              "      <td>0.118519</td>\n",
              "      <td>0.171528</td>\n",
              "      <td>3.079520</td>\n",
              "      <td>25332.27436</td>\n",
              "      <td>34339.67523</td>\n",
              "    </tr>\n",
              "    <tr>\n",
              "      <th>min</th>\n",
              "      <td>-0.000011</td>\n",
              "      <td>4.000000</td>\n",
              "      <td>11.000000</td>\n",
              "      <td>2.666667</td>\n",
              "      <td>8.000000</td>\n",
              "      <td>8.337657</td>\n",
              "      <td>1.593529</td>\n",
              "      <td>0.085237</td>\n",
              "      <td>-0.824105</td>\n",
              "      <td>-1.810909</td>\n",
              "      <td>1.719803</td>\n",
              "      <td>257.00000</td>\n",
              "      <td>164.00000</td>\n",
              "    </tr>\n",
              "    <tr>\n",
              "      <th>25%</th>\n",
              "      <td>0.008453</td>\n",
              "      <td>12.000000</td>\n",
              "      <td>35.333333</td>\n",
              "      <td>22.333333</td>\n",
              "      <td>23.666667</td>\n",
              "      <td>23.810860</td>\n",
              "      <td>13.442471</td>\n",
              "      <td>0.549257</td>\n",
              "      <td>-0.037888</td>\n",
              "      <td>-1.173414</td>\n",
              "      <td>4.150245</td>\n",
              "      <td>49030.50000</td>\n",
              "      <td>38198.75000</td>\n",
              "    </tr>\n",
              "    <tr>\n",
              "      <th>50%</th>\n",
              "      <td>0.067164</td>\n",
              "      <td>12.333333</td>\n",
              "      <td>36.333333</td>\n",
              "      <td>23.666667</td>\n",
              "      <td>24.333333</td>\n",
              "      <td>24.367030</td>\n",
              "      <td>13.841308</td>\n",
              "      <td>0.569862</td>\n",
              "      <td>0.004599</td>\n",
              "      <td>-1.138531</td>\n",
              "      <td>5.458451</td>\n",
              "      <td>64870.50000</td>\n",
              "      <td>73193.50000</td>\n",
              "    </tr>\n",
              "    <tr>\n",
              "      <th>75%</th>\n",
              "      <td>0.133491</td>\n",
              "      <td>13.333333</td>\n",
              "      <td>36.666667</td>\n",
              "      <td>24.333333</td>\n",
              "      <td>25.000000</td>\n",
              "      <td>24.825732</td>\n",
              "      <td>14.070108</td>\n",
              "      <td>0.582108</td>\n",
              "      <td>0.050779</td>\n",
              "      <td>-1.064627</td>\n",
              "      <td>7.914005</td>\n",
              "      <td>79393.25000</td>\n",
              "      <td>98232.75000</td>\n",
              "    </tr>\n",
              "    <tr>\n",
              "      <th>max</th>\n",
              "      <td>0.189822</td>\n",
              "      <td>36.333333</td>\n",
              "      <td>46.666667</td>\n",
              "      <td>34.000000</td>\n",
              "      <td>41.833333</td>\n",
              "      <td>39.742037</td>\n",
              "      <td>16.608982</td>\n",
              "      <td>0.811502</td>\n",
              "      <td>1.148918</td>\n",
              "      <td>1.708877</td>\n",
              "      <td>19.457059</td>\n",
              "      <td>129205.00000</td>\n",
              "      <td>119324.00000</td>\n",
              "    </tr>\n",
              "  </tbody>\n",
              "</table>\n",
              "</div>"
            ]
          },
          "metadata": {
            "tags": []
          },
          "execution_count": 69
        }
      ]
    },
    {
      "cell_type": "code",
      "metadata": {
        "id": "DMZUGxunRROf",
        "colab_type": "code",
        "colab": {
          "base_uri": "https://localhost:8080/",
          "height": 218
        },
        "outputId": "85e8523a-e0e4-4593-edd5-277534d72af6"
      },
      "source": [
        "data.head()"
      ],
      "execution_count": 70,
      "outputs": [
        {
          "output_type": "execute_result",
          "data": {
            "text/plain": [
              "      label  Upper_quartile  Lower_Quantile  quartile_deviation     Median  \\\n",
              "0  0.139707       12.333333       36.333333           24.000000  24.333333   \n",
              "1  0.106818       12.000000       36.333333           24.333333  24.333333   \n",
              "2  0.097962       13.333333       36.666667           23.333333  25.666667   \n",
              "3  0.127619       11.666667       36.333333           24.666667  23.666667   \n",
              "4  0.000684        7.666667       36.000000           28.333333  18.000000   \n",
              "\n",
              "   average_value  standard_deviation  Dispersion_coefficient  skewness  \\\n",
              "0      24.381301           14.065408                0.576893  0.031724   \n",
              "1      24.390834           14.148785                0.580086  0.008994   \n",
              "2      25.000768           13.792478                0.551682 -0.085055   \n",
              "3      23.950023           14.104867                0.588929  0.033662   \n",
              "4      21.512252           15.391541                0.715478  0.263196   \n",
              "\n",
              "   kurtosis  mean_width  surface   volume  \n",
              "0 -1.159762    8.153378  71569.0  99088.0  \n",
              "1 -1.196956    8.071872  66831.0  91831.0  \n",
              "2 -1.135637    7.054699  71318.0  84607.0  \n",
              "3 -1.161501    7.868250  73734.0  98938.0  \n",
              "4 -1.335490    2.278612  41056.0  15888.0  "
            ],
            "text/html": [
              "<div>\n",
              "<style scoped>\n",
              "    .dataframe tbody tr th:only-of-type {\n",
              "        vertical-align: middle;\n",
              "    }\n",
              "\n",
              "    .dataframe tbody tr th {\n",
              "        vertical-align: top;\n",
              "    }\n",
              "\n",
              "    .dataframe thead th {\n",
              "        text-align: right;\n",
              "    }\n",
              "</style>\n",
              "<table border=\"1\" class=\"dataframe\">\n",
              "  <thead>\n",
              "    <tr style=\"text-align: right;\">\n",
              "      <th></th>\n",
              "      <th>label</th>\n",
              "      <th>Upper_quartile</th>\n",
              "      <th>Lower_Quantile</th>\n",
              "      <th>quartile_deviation</th>\n",
              "      <th>Median</th>\n",
              "      <th>average_value</th>\n",
              "      <th>standard_deviation</th>\n",
              "      <th>Dispersion_coefficient</th>\n",
              "      <th>skewness</th>\n",
              "      <th>kurtosis</th>\n",
              "      <th>mean_width</th>\n",
              "      <th>surface</th>\n",
              "      <th>volume</th>\n",
              "    </tr>\n",
              "  </thead>\n",
              "  <tbody>\n",
              "    <tr>\n",
              "      <th>0</th>\n",
              "      <td>0.139707</td>\n",
              "      <td>12.333333</td>\n",
              "      <td>36.333333</td>\n",
              "      <td>24.000000</td>\n",
              "      <td>24.333333</td>\n",
              "      <td>24.381301</td>\n",
              "      <td>14.065408</td>\n",
              "      <td>0.576893</td>\n",
              "      <td>0.031724</td>\n",
              "      <td>-1.159762</td>\n",
              "      <td>8.153378</td>\n",
              "      <td>71569.0</td>\n",
              "      <td>99088.0</td>\n",
              "    </tr>\n",
              "    <tr>\n",
              "      <th>1</th>\n",
              "      <td>0.106818</td>\n",
              "      <td>12.000000</td>\n",
              "      <td>36.333333</td>\n",
              "      <td>24.333333</td>\n",
              "      <td>24.333333</td>\n",
              "      <td>24.390834</td>\n",
              "      <td>14.148785</td>\n",
              "      <td>0.580086</td>\n",
              "      <td>0.008994</td>\n",
              "      <td>-1.196956</td>\n",
              "      <td>8.071872</td>\n",
              "      <td>66831.0</td>\n",
              "      <td>91831.0</td>\n",
              "    </tr>\n",
              "    <tr>\n",
              "      <th>2</th>\n",
              "      <td>0.097962</td>\n",
              "      <td>13.333333</td>\n",
              "      <td>36.666667</td>\n",
              "      <td>23.333333</td>\n",
              "      <td>25.666667</td>\n",
              "      <td>25.000768</td>\n",
              "      <td>13.792478</td>\n",
              "      <td>0.551682</td>\n",
              "      <td>-0.085055</td>\n",
              "      <td>-1.135637</td>\n",
              "      <td>7.054699</td>\n",
              "      <td>71318.0</td>\n",
              "      <td>84607.0</td>\n",
              "    </tr>\n",
              "    <tr>\n",
              "      <th>3</th>\n",
              "      <td>0.127619</td>\n",
              "      <td>11.666667</td>\n",
              "      <td>36.333333</td>\n",
              "      <td>24.666667</td>\n",
              "      <td>23.666667</td>\n",
              "      <td>23.950023</td>\n",
              "      <td>14.104867</td>\n",
              "      <td>0.588929</td>\n",
              "      <td>0.033662</td>\n",
              "      <td>-1.161501</td>\n",
              "      <td>7.868250</td>\n",
              "      <td>73734.0</td>\n",
              "      <td>98938.0</td>\n",
              "    </tr>\n",
              "    <tr>\n",
              "      <th>4</th>\n",
              "      <td>0.000684</td>\n",
              "      <td>7.666667</td>\n",
              "      <td>36.000000</td>\n",
              "      <td>28.333333</td>\n",
              "      <td>18.000000</td>\n",
              "      <td>21.512252</td>\n",
              "      <td>15.391541</td>\n",
              "      <td>0.715478</td>\n",
              "      <td>0.263196</td>\n",
              "      <td>-1.335490</td>\n",
              "      <td>2.278612</td>\n",
              "      <td>41056.0</td>\n",
              "      <td>15888.0</td>\n",
              "    </tr>\n",
              "  </tbody>\n",
              "</table>\n",
              "</div>"
            ]
          },
          "metadata": {
            "tags": []
          },
          "execution_count": 70
        }
      ]
    },
    {
      "cell_type": "code",
      "metadata": {
        "id": "Pnxcu43CRUzH",
        "colab_type": "code",
        "colab": {
          "base_uri": "https://localhost:8080/",
          "height": 313
        },
        "outputId": "fb0e6baf-7cea-4517-867b-1185e50fc684"
      },
      "source": [
        "sns.distplot(data['label'])  \n",
        "plt.show()"
      ],
      "execution_count": 71,
      "outputs": [
        {
          "output_type": "stream",
          "text": [
            "D:\\Anaconda3\\lib\\site-packages\\matplotlib\\axes\\_axes.py:6462: UserWarning: The 'normed' kwarg is deprecated, and has been replaced by the 'density' kwarg.\n",
            "  warnings.warn(\"The 'normed' kwarg is deprecated, and has been \"\n"
          ],
          "name": "stderr"
        },
        {
          "output_type": "display_data",
          "data": {
            "text/plain": [
              "<Figure size 432x288 with 1 Axes>"
            ],
            "image/png": "[encoded data removed]"
          },
          "metadata": {
            "tags": []
          }
        }
      ]
    },
    {
      "cell_type": "code",
      "metadata": {
        "id": "OSjCogUVRY-n",
        "colab_type": "code",
        "colab": {
          "base_uri": "https://localhost:8080/",
          "height": 310
        },
        "outputId": "2dfddb22-edbb-42b6-df9f-8b0d0c6ef2f6"
      },
      "source": [
        "sns.distplot(data['volume'])  \n",
        "plt.show()"
      ],
      "execution_count": 72,
      "outputs": [
        {
          "output_type": "stream",
          "text": [
            "D:\\Anaconda3\\lib\\site-packages\\matplotlib\\axes\\_axes.py:6462: UserWarning: The 'normed' kwarg is deprecated, and has been replaced by the 'density' kwarg.\n",
            "  warnings.warn(\"The 'normed' kwarg is deprecated, and has been \"\n"
          ],
          "name": "stderr"
        },
        {
          "output_type": "display_data",
          "data": {
            "text/plain": [
              "<Figure size 432x288 with 1 Axes>"
            ],
            "image/png": "[encoded data removed]"
          },
          "metadata": {
            "tags": []
          }
        }
      ]
    },
    {
      "cell_type": "code",
      "metadata": {
        "id": "VPfWJNarReAQ",
        "colab_type": "code",
        "colab": {
          "base_uri": "https://localhost:8080/",
          "height": 631
        },
        "outputId": "e457657d-0da3-4e65-ccdb-c95458923099"
      },
      "source": [
        "corrmat = data.corr()\n",
        "plt.figure(figsize=(10,10))\n",
        "k = 13 \n",
        "cols = corrmat.nlargest(k, 'label')['label'].index\n",
        "cm = np.corrcoef(data[cols].values.T)\n",
        "sns.set(font_scale=1)\n",
        "hm = sns.heatmap(cm, cbar=True, annot=True, square=True, fmt='.2f', annot_kws={'size': 10}, yticklabels=cols.values, xticklabels=cols.values)\n",
        "plt.show()"
      ],
      "execution_count": 73,
      "outputs": [
        {
          "output_type": "display_data",
          "data": {
            "text/plain": [
              "<Figure size 720x720 with 2 Axes>"
            ],
            "image/png": "[encoded data removed]"
          },
          "metadata": {
            "tags": []
          }
        }
      ]
    },
    {
      "cell_type": "code",
      "metadata": {
        "id": "kG2vvjfjRp_I",
        "colab_type": "code",
        "colab": {}
      },
      "source": [
        "X=data[['mean_width', 'surface', 'volume']]\n",
        "Y=data[['label']]"
      ],
      "execution_count": 0,
      "outputs": []
    },
    {
      "cell_type": "code",
      "metadata": {
        "id": "-aGq643lSI4u",
        "colab_type": "code",
        "colab": {
          "base_uri": "https://localhost:8080/",
          "height": 198
        },
        "outputId": "bb218e22-0808-42b0-a976-8807814d344b"
      },
      "source": [
        "X.head()"
      ],
      "execution_count": 75,
      "outputs": [
        {
          "output_type": "execute_result",
          "data": {
            "text/plain": [
              "   mean_width  surface   volume\n",
              "0    8.153378  71569.0  99088.0\n",
              "1    8.071872  66831.0  91831.0\n",
              "2    7.054699  71318.0  84607.0\n",
              "3    7.868250  73734.0  98938.0\n",
              "4    2.278612  41056.0  15888.0"
            ],
            "text/html": [
              "<div>\n",
              "<style scoped>\n",
              "    .dataframe tbody tr th:only-of-type {\n",
              "        vertical-align: middle;\n",
              "    }\n",
              "\n",
              "    .dataframe tbody tr th {\n",
              "        vertical-align: top;\n",
              "    }\n",
              "\n",
              "    .dataframe thead th {\n",
              "        text-align: right;\n",
              "    }\n",
              "</style>\n",
              "<table border=\"1\" class=\"dataframe\">\n",
              "  <thead>\n",
              "    <tr style=\"text-align: right;\">\n",
              "      <th></th>\n",
              "      <th>mean_width</th>\n",
              "      <th>surface</th>\n",
              "      <th>volume</th>\n",
              "    </tr>\n",
              "  </thead>\n",
              "  <tbody>\n",
              "    <tr>\n",
              "      <th>0</th>\n",
              "      <td>8.153378</td>\n",
              "      <td>71569.0</td>\n",
              "      <td>99088.0</td>\n",
              "    </tr>\n",
              "    <tr>\n",
              "      <th>1</th>\n",
              "      <td>8.071872</td>\n",
              "      <td>66831.0</td>\n",
              "      <td>91831.0</td>\n",
              "    </tr>\n",
              "    <tr>\n",
              "      <th>2</th>\n",
              "      <td>7.054699</td>\n",
              "      <td>71318.0</td>\n",
              "      <td>84607.0</td>\n",
              "    </tr>\n",
              "    <tr>\n",
              "      <th>3</th>\n",
              "      <td>7.868250</td>\n",
              "      <td>73734.0</td>\n",
              "      <td>98938.0</td>\n",
              "    </tr>\n",
              "    <tr>\n",
              "      <th>4</th>\n",
              "      <td>2.278612</td>\n",
              "      <td>41056.0</td>\n",
              "      <td>15888.0</td>\n",
              "    </tr>\n",
              "  </tbody>\n",
              "</table>\n",
              "</div>"
            ]
          },
          "metadata": {
            "tags": []
          },
          "execution_count": 75
        }
      ]
    },
    {
      "cell_type": "code",
      "metadata": {
        "id": "qszm8tb0SSTH",
        "colab_type": "code",
        "colab": {
          "base_uri": "https://localhost:8080/",
          "height": 198
        },
        "outputId": "8572bf8b-e319-4920-eeca-1da9cddc709f"
      },
      "source": [
        "Y.head()"
      ],
      "execution_count": 76,
      "outputs": [
        {
          "output_type": "execute_result",
          "data": {
            "text/plain": [
              "      label\n",
              "0  0.139707\n",
              "1  0.106818\n",
              "2  0.097962\n",
              "3  0.127619\n",
              "4  0.000684"
            ],
            "text/html": [
              "<div>\n",
              "<style scoped>\n",
              "    .dataframe tbody tr th:only-of-type {\n",
              "        vertical-align: middle;\n",
              "    }\n",
              "\n",
              "    .dataframe tbody tr th {\n",
              "        vertical-align: top;\n",
              "    }\n",
              "\n",
              "    .dataframe thead th {\n",
              "        text-align: right;\n",
              "    }\n",
              "</style>\n",
              "<table border=\"1\" class=\"dataframe\">\n",
              "  <thead>\n",
              "    <tr style=\"text-align: right;\">\n",
              "      <th></th>\n",
              "      <th>label</th>\n",
              "    </tr>\n",
              "  </thead>\n",
              "  <tbody>\n",
              "    <tr>\n",
              "      <th>0</th>\n",
              "      <td>0.139707</td>\n",
              "    </tr>\n",
              "    <tr>\n",
              "      <th>1</th>\n",
              "      <td>0.106818</td>\n",
              "    </tr>\n",
              "    <tr>\n",
              "      <th>2</th>\n",
              "      <td>0.097962</td>\n",
              "    </tr>\n",
              "    <tr>\n",
              "      <th>3</th>\n",
              "      <td>0.127619</td>\n",
              "    </tr>\n",
              "    <tr>\n",
              "      <th>4</th>\n",
              "      <td>0.000684</td>\n",
              "    </tr>\n",
              "  </tbody>\n",
              "</table>\n",
              "</div>"
            ]
          },
          "metadata": {
            "tags": []
          },
          "execution_count": 76
        }
      ]
    },
    {
      "cell_type": "code",
      "metadata": {
        "id": "u_bfHlrOSUMm",
        "colab_type": "code",
        "colab": {}
      },
      "source": [
        "#Normalization\n",
        "max_min_scaler = lambda x :(x-np.min(x))/(np.max(x)-np.min(x))\n",
        "N_X=X[:].apply(max_min_scaler)"
      ],
      "execution_count": 0,
      "outputs": []
    },
    {
      "cell_type": "code",
      "metadata": {
        "id": "XVIII5EzUBe-",
        "colab_type": "code",
        "colab": {
          "base_uri": "https://localhost:8080/",
          "height": 198
        },
        "outputId": "00471e6d-fce1-45de-9d7f-edc1b3926905"
      },
      "source": [
        "N_X.head()"
      ],
      "execution_count": 78,
      "outputs": [
        {
          "output_type": "execute_result",
          "data": {
            "text/plain": [
              "   mean_width   surface    volume\n",
              "0    0.362715  0.553029  0.830178\n",
              "1    0.358120  0.516286  0.769277\n",
              "2    0.300773  0.551083  0.708652\n",
              "3    0.346640  0.569819  0.828919\n",
              "4    0.031505  0.316399  0.131957"
            ],
            "text/html": [
              "<div>\n",
              "<style scoped>\n",
              "    .dataframe tbody tr th:only-of-type {\n",
              "        vertical-align: middle;\n",
              "    }\n",
              "\n",
              "    .dataframe tbody tr th {\n",
              "        vertical-align: top;\n",
              "    }\n",
              "\n",
              "    .dataframe thead th {\n",
              "        text-align: right;\n",
              "    }\n",
              "</style>\n",
              "<table border=\"1\" class=\"dataframe\">\n",
              "  <thead>\n",
              "    <tr style=\"text-align: right;\">\n",
              "      <th></th>\n",
              "      <th>mean_width</th>\n",
              "      <th>surface</th>\n",
              "      <th>volume</th>\n",
              "    </tr>\n",
              "  </thead>\n",
              "  <tbody>\n",
              "    <tr>\n",
              "      <th>0</th>\n",
              "      <td>0.362715</td>\n",
              "      <td>0.553029</td>\n",
              "      <td>0.830178</td>\n",
              "    </tr>\n",
              "    <tr>\n",
              "      <th>1</th>\n",
              "      <td>0.358120</td>\n",
              "      <td>0.516286</td>\n",
              "      <td>0.769277</td>\n",
              "    </tr>\n",
              "    <tr>\n",
              "      <th>2</th>\n",
              "      <td>0.300773</td>\n",
              "      <td>0.551083</td>\n",
              "      <td>0.708652</td>\n",
              "    </tr>\n",
              "    <tr>\n",
              "      <th>3</th>\n",
              "      <td>0.346640</td>\n",
              "      <td>0.569819</td>\n",
              "      <td>0.828919</td>\n",
              "    </tr>\n",
              "    <tr>\n",
              "      <th>4</th>\n",
              "      <td>0.031505</td>\n",
              "      <td>0.316399</td>\n",
              "      <td>0.131957</td>\n",
              "    </tr>\n",
              "  </tbody>\n",
              "</table>\n",
              "</div>"
            ]
          },
          "metadata": {
            "tags": []
          },
          "execution_count": 78
        }
      ]
    },
    {
      "cell_type": "code",
      "metadata": {
        "id": "tesP5-98UU-V",
        "colab_type": "code",
        "colab": {}
      },
      "source": [
        "X_train, X_test, y_train, y_test = train_test_split(N_X,Y, test_size=0.2, random_state=0)"
      ],
      "execution_count": 0,
      "outputs": []
    },
    {
      "cell_type": "code",
      "metadata": {
        "id": "UpZEOt2-VEDN",
        "colab_type": "code",
        "colab": {}
      },
      "source": [
        "models = [LinearRegression(),Ridge(),Lasso(alpha=0.01,max_iter=10000),RandomForestRegressor(),GradientBoostingRegressor(),SVR(),LinearSVR(),\n",
        "          ElasticNet(alpha=0.001,max_iter=10000),SGDRegressor(max_iter=1000,tol=1e-3),BayesianRidge(),KernelRidge(alpha=0.6, kernel='polynomial', degree=2, coef0=2.5),\n",
        "          ExtraTreesRegressor(),XGBRegressor()]"
      ],
      "execution_count": 0,
      "outputs": []
    },
    {
      "cell_type": "code",
      "metadata": {
        "id": "1pUeh8O_Va2o",
        "colab_type": "code",
        "colab": {}
      },
      "source": [
        "def rmse_cv(model,X,y):\n",
        "    rmse = np.sqrt(-cross_val_score(model, X, y, scoring=\"neg_mean_squared_error\", cv=5))\n",
        "    return rmse"
      ],
      "execution_count": 0,
      "outputs": []
    },
    {
      "cell_type": "code",
      "metadata": {
        "id": "xT9c4qRKVPMl",
        "colab_type": "code",
        "colab": {
          "base_uri": "https://localhost:8080/",
          "height": 1471
        },
        "outputId": "a3dbe418-6391-441b-9600-aa70aa5f3d6a"
      },
      "source": [
        "names = [\"LR\", \"Ridge\", \"Lasso\", \"RF\", \"GBR\", \"SVR\", \"LinSVR\", \"Ela\",\"SGD\",\"Bay\",\"Ker\",\"Extra\",\"Xgb\"]\n",
        "for name, model in zip(names, models):\n",
        "    score = rmse_cv(model, X_train, y_train)\n",
        "    print(\"{}: {:.6f}, {:.4f}\".format(name,score.mean(),score.std()))"
      ],
      "execution_count": 98,
      "outputs": [
        {
          "output_type": "stream",
          "text": [
            "LR: 0.014330, 0.0003\n",
            "Ridge: 0.014358, 0.0003\n",
            "Lasso: 0.039335, 0.0003\n"
          ],
          "name": "stdout"
        },
        {
          "output_type": "stream",
          "text": [
            "D:\\Anaconda3\\lib\\site-packages\\sklearn\\model_selection\\_validation.py:458: DataConversionWarning: A column-vector y was passed when a 1d array was expected. Please change the shape of y to (n_samples,), for example using ravel().\n",
            "  estimator.fit(X_train, y_train, **fit_params)\n",
            "D:\\Anaconda3\\lib\\site-packages\\sklearn\\model_selection\\_validation.py:458: DataConversionWarning: A column-vector y was passed when a 1d array was expected. Please change the shape of y to (n_samples,), for example using ravel().\n",
            "  estimator.fit(X_train, y_train, **fit_params)\n",
            "D:\\Anaconda3\\lib\\site-packages\\sklearn\\model_selection\\_validation.py:458: DataConversionWarning: A column-vector y was passed when a 1d array was expected. Please change the shape of y to (n_samples,), for example using ravel().\n",
            "  estimator.fit(X_train, y_train, **fit_params)\n",
            "D:\\Anaconda3\\lib\\site-packages\\sklearn\\model_selection\\_validation.py:458: DataConversionWarning: A column-vector y was passed when a 1d array was expected. Please change the shape of y to (n_samples,), for example using ravel().\n",
            "  estimator.fit(X_train, y_train, **fit_params)\n",
            "D:\\Anaconda3\\lib\\site-packages\\sklearn\\model_selection\\_validation.py:458: DataConversionWarning: A column-vector y was passed when a 1d array was expected. Please change the shape of y to (n_samples,), for example using ravel().\n",
            "  estimator.fit(X_train, y_train, **fit_params)\n",
            "D:\\Anaconda3\\lib\\site-packages\\sklearn\\utils\\validation.py:578: DataConversionWarning: A column-vector y was passed when a 1d array was expected. Please change the shape of y to (n_samples, ), for example using ravel().\n",
            "  y = column_or_1d(y, warn=True)\n"
          ],
          "name": "stderr"
        },
        {
          "output_type": "stream",
          "text": [
            "RF: 0.008135, 0.0004\n"
          ],
          "name": "stdout"
        },
        {
          "output_type": "stream",
          "text": [
            "D:\\Anaconda3\\lib\\site-packages\\sklearn\\utils\\validation.py:578: DataConversionWarning: A column-vector y was passed when a 1d array was expected. Please change the shape of y to (n_samples, ), for example using ravel().\n",
            "  y = column_or_1d(y, warn=True)\n",
            "D:\\Anaconda3\\lib\\site-packages\\sklearn\\utils\\validation.py:578: DataConversionWarning: A column-vector y was passed when a 1d array was expected. Please change the shape of y to (n_samples, ), for example using ravel().\n",
            "  y = column_or_1d(y, warn=True)\n",
            "D:\\Anaconda3\\lib\\site-packages\\sklearn\\utils\\validation.py:578: DataConversionWarning: A column-vector y was passed when a 1d array was expected. Please change the shape of y to (n_samples, ), for example using ravel().\n",
            "  y = column_or_1d(y, warn=True)\n",
            "D:\\Anaconda3\\lib\\site-packages\\sklearn\\utils\\validation.py:578: DataConversionWarning: A column-vector y was passed when a 1d array was expected. Please change the shape of y to (n_samples, ), for example using ravel().\n",
            "  y = column_or_1d(y, warn=True)\n",
            "D:\\Anaconda3\\lib\\site-packages\\sklearn\\utils\\validation.py:578: DataConversionWarning: A column-vector y was passed when a 1d array was expected. Please change the shape of y to (n_samples, ), for example using ravel().\n",
            "  y = column_or_1d(y, warn=True)\n",
            "D:\\Anaconda3\\lib\\site-packages\\sklearn\\utils\\validation.py:578: DataConversionWarning: A column-vector y was passed when a 1d array was expected. Please change the shape of y to (n_samples, ), for example using ravel().\n",
            "  y = column_or_1d(y, warn=True)\n"
          ],
          "name": "stderr"
        },
        {
          "output_type": "stream",
          "text": [
            "GBR: 0.007344, 0.0003\n",
            "SVR: 0.066082, 0.0002\n"
          ],
          "name": "stdout"
        },
        {
          "output_type": "stream",
          "text": [
            "D:\\Anaconda3\\lib\\site-packages\\sklearn\\utils\\validation.py:578: DataConversionWarning: A column-vector y was passed when a 1d array was expected. Please change the shape of y to (n_samples, ), for example using ravel().\n",
            "  y = column_or_1d(y, warn=True)\n",
            "D:\\Anaconda3\\lib\\site-packages\\sklearn\\utils\\validation.py:578: DataConversionWarning: A column-vector y was passed when a 1d array was expected. Please change the shape of y to (n_samples, ), for example using ravel().\n",
            "  y = column_or_1d(y, warn=True)\n",
            "D:\\Anaconda3\\lib\\site-packages\\sklearn\\utils\\validation.py:578: DataConversionWarning: A column-vector y was passed when a 1d array was expected. Please change the shape of y to (n_samples, ), for example using ravel().\n",
            "  y = column_or_1d(y, warn=True)\n",
            "D:\\Anaconda3\\lib\\site-packages\\sklearn\\utils\\validation.py:578: DataConversionWarning: A column-vector y was passed when a 1d array was expected. Please change the shape of y to (n_samples, ), for example using ravel().\n",
            "  y = column_or_1d(y, warn=True)\n",
            "D:\\Anaconda3\\lib\\site-packages\\sklearn\\utils\\validation.py:578: DataConversionWarning: A column-vector y was passed when a 1d array was expected. Please change the shape of y to (n_samples, ), for example using ravel().\n",
            "  y = column_or_1d(y, warn=True)\n",
            "D:\\Anaconda3\\lib\\site-packages\\sklearn\\utils\\validation.py:578: DataConversionWarning: A column-vector y was passed when a 1d array was expected. Please change the shape of y to (n_samples, ), for example using ravel().\n",
            "  y = column_or_1d(y, warn=True)\n",
            "D:\\Anaconda3\\lib\\site-packages\\sklearn\\utils\\validation.py:578: DataConversionWarning: A column-vector y was passed when a 1d array was expected. Please change the shape of y to (n_samples, ), for example using ravel().\n",
            "  y = column_or_1d(y, warn=True)\n",
            "D:\\Anaconda3\\lib\\site-packages\\sklearn\\utils\\validation.py:578: DataConversionWarning: A column-vector y was passed when a 1d array was expected. Please change the shape of y to (n_samples, ), for example using ravel().\n",
            "  y = column_or_1d(y, warn=True)\n",
            "D:\\Anaconda3\\lib\\site-packages\\sklearn\\utils\\validation.py:578: DataConversionWarning: A column-vector y was passed when a 1d array was expected. Please change the shape of y to (n_samples, ), for example using ravel().\n",
            "  y = column_or_1d(y, warn=True)\n",
            "D:\\Anaconda3\\lib\\site-packages\\sklearn\\utils\\validation.py:578: DataConversionWarning: A column-vector y was passed when a 1d array was expected. Please change the shape of y to (n_samples, ), for example using ravel().\n",
            "  y = column_or_1d(y, warn=True)\n",
            "D:\\Anaconda3\\lib\\site-packages\\sklearn\\utils\\validation.py:578: DataConversionWarning: A column-vector y was passed when a 1d array was expected. Please change the shape of y to (n_samples, ), for example using ravel().\n",
            "  y = column_or_1d(y, warn=True)\n",
            "D:\\Anaconda3\\lib\\site-packages\\sklearn\\utils\\validation.py:578: DataConversionWarning: A column-vector y was passed when a 1d array was expected. Please change the shape of y to (n_samples, ), for example using ravel().\n",
            "  y = column_or_1d(y, warn=True)\n",
            "D:\\Anaconda3\\lib\\site-packages\\sklearn\\utils\\validation.py:578: DataConversionWarning: A column-vector y was passed when a 1d array was expected. Please change the shape of y to (n_samples, ), for example using ravel().\n",
            "  y = column_or_1d(y, warn=True)\n",
            "D:\\Anaconda3\\lib\\site-packages\\sklearn\\utils\\validation.py:578: DataConversionWarning: A column-vector y was passed when a 1d array was expected. Please change the shape of y to (n_samples, ), for example using ravel().\n",
            "  y = column_or_1d(y, warn=True)\n"
          ],
          "name": "stderr"
        },
        {
          "output_type": "stream",
          "text": [
            "LinSVR: 0.014798, 0.0005\n",
            "Ela: 0.015606, 0.0003\n",
            "SGD: 0.021963, 0.0003\n",
            "Bay: 0.014330, 0.0003\n"
          ],
          "name": "stdout"
        },
        {
          "output_type": "stream",
          "text": [
            "D:\\Anaconda3\\lib\\site-packages\\sklearn\\utils\\validation.py:578: DataConversionWarning: A column-vector y was passed when a 1d array was expected. Please change the shape of y to (n_samples, ), for example using ravel().\n",
            "  y = column_or_1d(y, warn=True)\n",
            "D:\\Anaconda3\\lib\\site-packages\\sklearn\\utils\\validation.py:578: DataConversionWarning: A column-vector y was passed when a 1d array was expected. Please change the shape of y to (n_samples, ), for example using ravel().\n",
            "  y = column_or_1d(y, warn=True)\n",
            "D:\\Anaconda3\\lib\\site-packages\\sklearn\\utils\\validation.py:578: DataConversionWarning: A column-vector y was passed when a 1d array was expected. Please change the shape of y to (n_samples, ), for example using ravel().\n",
            "  y = column_or_1d(y, warn=True)\n",
            "D:\\Anaconda3\\lib\\site-packages\\sklearn\\utils\\validation.py:578: DataConversionWarning: A column-vector y was passed when a 1d array was expected. Please change the shape of y to (n_samples, ), for example using ravel().\n",
            "  y = column_or_1d(y, warn=True)\n"
          ],
          "name": "stderr"
        },
        {
          "output_type": "stream",
          "text": [
            "Ker: 0.007854, 0.0003\n"
          ],
          "name": "stdout"
        },
        {
          "output_type": "stream",
          "text": [
            "D:\\Anaconda3\\lib\\site-packages\\sklearn\\model_selection\\_validation.py:458: DataConversionWarning: A column-vector y was passed when a 1d array was expected. Please change the shape of y to (n_samples,), for example using ravel().\n",
            "  estimator.fit(X_train, y_train, **fit_params)\n",
            "D:\\Anaconda3\\lib\\site-packages\\sklearn\\model_selection\\_validation.py:458: DataConversionWarning: A column-vector y was passed when a 1d array was expected. Please change the shape of y to (n_samples,), for example using ravel().\n",
            "  estimator.fit(X_train, y_train, **fit_params)\n",
            "D:\\Anaconda3\\lib\\site-packages\\sklearn\\model_selection\\_validation.py:458: DataConversionWarning: A column-vector y was passed when a 1d array was expected. Please change the shape of y to (n_samples,), for example using ravel().\n",
            "  estimator.fit(X_train, y_train, **fit_params)\n",
            "D:\\Anaconda3\\lib\\site-packages\\sklearn\\model_selection\\_validation.py:458: DataConversionWarning: A column-vector y was passed when a 1d array was expected. Please change the shape of y to (n_samples,), for example using ravel().\n",
            "  estimator.fit(X_train, y_train, **fit_params)\n",
            "D:\\Anaconda3\\lib\\site-packages\\sklearn\\model_selection\\_validation.py:458: DataConversionWarning: A column-vector y was passed when a 1d array was expected. Please change the shape of y to (n_samples,), for example using ravel().\n",
            "  estimator.fit(X_train, y_train, **fit_params)\n"
          ],
          "name": "stderr"
        },
        {
          "output_type": "stream",
          "text": [
            "Extra: 0.008387, 0.0003\n",
            "Xgb: 0.007349, 0.0003\n"
          ],
          "name": "stdout"
        }
      ]
    },
    {
      "cell_type": "code",
      "metadata": {
        "id": "yBl75kicVTmd",
        "colab_type": "code",
        "colab": {}
      },
      "source": [
        "#GBR: 0.007344, 0.0003\n",
        "#Ker: 0.007854, 0.0003\n",
        "#Extra: 0.008473, 0.0003\n",
        "#Xgb: 0.007349, 0.0003"
      ],
      "execution_count": 0,
      "outputs": []
    },
    {
      "cell_type": "code",
      "metadata": {
        "id": "3Xw5kgIsV_R8",
        "colab_type": "code",
        "colab": {}
      },
      "source": [
        "class grid():\n",
        "    def __init__(self,model):\n",
        "        self.model = model\n",
        "    \n",
        "    def grid_get(self,X,y,param_grid):\n",
        "        grid_search = GridSearchCV(self.model,param_grid,cv=5, scoring=\"neg_mean_squared_error\")\n",
        "        grid_search.fit(X,y)\n",
        "        print(grid_search.best_params_, np.sqrt(-grid_search.best_score_))\n",
        "        grid_search.cv_results_['mean_test_score'] = np.sqrt(-grid_search.cv_results_['mean_test_score'])\n",
        "        print(pd.DataFrame(grid_search.cv_results_)[['params','mean_test_score','std_test_score']])"
      ],
      "execution_count": 0,
      "outputs": []
    },
    {
      "cell_type": "code",
      "metadata": {
        "id": "viCitH56WXYE",
        "colab_type": "code",
        "colab": {
          "base_uri": "https://localhost:8080/",
          "height": 918
        },
        "outputId": "ab108f66-780a-43cd-f639-39e8d71e963f"
      },
      "source": [
        "#GradientBoostingRegressor()\n",
        "grid(GradientBoostingRegressor()).grid_get(X_train,y_train,{'n_estimators':[50,100,150]})"
      ],
      "execution_count": 100,
      "outputs": [
        {
          "output_type": "stream",
          "text": [
            "D:\\Anaconda3\\lib\\site-packages\\sklearn\\utils\\validation.py:578: DataConversionWarning: A column-vector y was passed when a 1d array was expected. Please change the shape of y to (n_samples, ), for example using ravel().\n",
            "  y = column_or_1d(y, warn=True)\n",
            "D:\\Anaconda3\\lib\\site-packages\\sklearn\\utils\\validation.py:578: DataConversionWarning: A column-vector y was passed when a 1d array was expected. Please change the shape of y to (n_samples, ), for example using ravel().\n",
            "  y = column_or_1d(y, warn=True)\n",
            "D:\\Anaconda3\\lib\\site-packages\\sklearn\\utils\\validation.py:578: DataConversionWarning: A column-vector y was passed when a 1d array was expected. Please change the shape of y to (n_samples, ), for example using ravel().\n",
            "  y = column_or_1d(y, warn=True)\n",
            "D:\\Anaconda3\\lib\\site-packages\\sklearn\\utils\\validation.py:578: DataConversionWarning: A column-vector y was passed when a 1d array was expected. Please change the shape of y to (n_samples, ), for example using ravel().\n",
            "  y = column_or_1d(y, warn=True)\n",
            "D:\\Anaconda3\\lib\\site-packages\\sklearn\\utils\\validation.py:578: DataConversionWarning: A column-vector y was passed when a 1d array was expected. Please change the shape of y to (n_samples, ), for example using ravel().\n",
            "  y = column_or_1d(y, warn=True)\n",
            "D:\\Anaconda3\\lib\\site-packages\\sklearn\\utils\\validation.py:578: DataConversionWarning: A column-vector y was passed when a 1d array was expected. Please change the shape of y to (n_samples, ), for example using ravel().\n",
            "  y = column_or_1d(y, warn=True)\n",
            "D:\\Anaconda3\\lib\\site-packages\\sklearn\\utils\\validation.py:578: DataConversionWarning: A column-vector y was passed when a 1d array was expected. Please change the shape of y to (n_samples, ), for example using ravel().\n",
            "  y = column_or_1d(y, warn=True)\n",
            "D:\\Anaconda3\\lib\\site-packages\\sklearn\\utils\\validation.py:578: DataConversionWarning: A column-vector y was passed when a 1d array was expected. Please change the shape of y to (n_samples, ), for example using ravel().\n",
            "  y = column_or_1d(y, warn=True)\n",
            "D:\\Anaconda3\\lib\\site-packages\\sklearn\\utils\\validation.py:578: DataConversionWarning: A column-vector y was passed when a 1d array was expected. Please change the shape of y to (n_samples, ), for example using ravel().\n",
            "  y = column_or_1d(y, warn=True)\n",
            "D:\\Anaconda3\\lib\\site-packages\\sklearn\\utils\\validation.py:578: DataConversionWarning: A column-vector y was passed when a 1d array was expected. Please change the shape of y to (n_samples, ), for example using ravel().\n",
            "  y = column_or_1d(y, warn=True)\n",
            "D:\\Anaconda3\\lib\\site-packages\\sklearn\\utils\\validation.py:578: DataConversionWarning: A column-vector y was passed when a 1d array was expected. Please change the shape of y to (n_samples, ), for example using ravel().\n",
            "  y = column_or_1d(y, warn=True)\n",
            "D:\\Anaconda3\\lib\\site-packages\\sklearn\\utils\\validation.py:578: DataConversionWarning: A column-vector y was passed when a 1d array was expected. Please change the shape of y to (n_samples, ), for example using ravel().\n",
            "  y = column_or_1d(y, warn=True)\n",
            "D:\\Anaconda3\\lib\\site-packages\\sklearn\\utils\\validation.py:578: DataConversionWarning: A column-vector y was passed when a 1d array was expected. Please change the shape of y to (n_samples, ), for example using ravel().\n",
            "  y = column_or_1d(y, warn=True)\n",
            "D:\\Anaconda3\\lib\\site-packages\\sklearn\\utils\\validation.py:578: DataConversionWarning: A column-vector y was passed when a 1d array was expected. Please change the shape of y to (n_samples, ), for example using ravel().\n",
            "  y = column_or_1d(y, warn=True)\n",
            "D:\\Anaconda3\\lib\\site-packages\\sklearn\\utils\\validation.py:578: DataConversionWarning: A column-vector y was passed when a 1d array was expected. Please change the shape of y to (n_samples, ), for example using ravel().\n",
            "  y = column_or_1d(y, warn=True)\n",
            "D:\\Anaconda3\\lib\\site-packages\\sklearn\\utils\\validation.py:578: DataConversionWarning: A column-vector y was passed when a 1d array was expected. Please change the shape of y to (n_samples, ), for example using ravel().\n",
            "  y = column_or_1d(y, warn=True)\n"
          ],
          "name": "stderr"
        },
        {
          "output_type": "stream",
          "text": [
            "{'n_estimators': 100} 0.007350664300005934\n",
            "                  params  mean_test_score  std_test_score\n",
            "0   {'n_estimators': 50}         0.007370        0.000004\n",
            "1  {'n_estimators': 100}         0.007351        0.000005\n",
            "2  {'n_estimators': 150}         0.007371        0.000005\n"
          ],
          "name": "stdout"
        },
        {
          "output_type": "stream",
          "text": [
            "D:\\Anaconda3\\lib\\site-packages\\sklearn\\utils\\deprecation.py:122: FutureWarning: You are accessing a training score ('split0_train_score'), which will not be available by default any more in 0.21. If you need training scores, please set return_train_score=True\n",
            "  warnings.warn(*warn_args, **warn_kwargs)\n",
            "D:\\Anaconda3\\lib\\site-packages\\sklearn\\utils\\deprecation.py:122: FutureWarning: You are accessing a training score ('split1_train_score'), which will not be available by default any more in 0.21. If you need training scores, please set return_train_score=True\n",
            "  warnings.warn(*warn_args, **warn_kwargs)\n",
            "D:\\Anaconda3\\lib\\site-packages\\sklearn\\utils\\deprecation.py:122: FutureWarning: You are accessing a training score ('split2_train_score'), which will not be available by default any more in 0.21. If you need training scores, please set return_train_score=True\n",
            "  warnings.warn(*warn_args, **warn_kwargs)\n",
            "D:\\Anaconda3\\lib\\site-packages\\sklearn\\utils\\deprecation.py:122: FutureWarning: You are accessing a training score ('split3_train_score'), which will not be available by default any more in 0.21. If you need training scores, please set return_train_score=True\n",
            "  warnings.warn(*warn_args, **warn_kwargs)\n",
            "D:\\Anaconda3\\lib\\site-packages\\sklearn\\utils\\deprecation.py:122: FutureWarning: You are accessing a training score ('split4_train_score'), which will not be available by default any more in 0.21. If you need training scores, please set return_train_score=True\n",
            "  warnings.warn(*warn_args, **warn_kwargs)\n",
            "D:\\Anaconda3\\lib\\site-packages\\sklearn\\utils\\deprecation.py:122: FutureWarning: You are accessing a training score ('mean_train_score'), which will not be available by default any more in 0.21. If you need training scores, please set return_train_score=True\n",
            "  warnings.warn(*warn_args, **warn_kwargs)\n",
            "D:\\Anaconda3\\lib\\site-packages\\sklearn\\utils\\deprecation.py:122: FutureWarning: You are accessing a training score ('std_train_score'), which will not be available by default any more in 0.21. If you need training scores, please set return_train_score=True\n",
            "  warnings.warn(*warn_args, **warn_kwargs)\n"
          ],
          "name": "stderr"
        }
      ]
    },
    {
      "cell_type": "code",
      "metadata": {
        "id": "47hQNM7IWcKM",
        "colab_type": "code",
        "colab": {
          "base_uri": "https://localhost:8080/",
          "height": 193
        },
        "outputId": "d4363020-92ed-4bbd-effa-00d04a4a24e7"
      },
      "source": [
        "GBR=GradientBoostingRegressor(n_estimators=100)\n",
        "GBR.fit(X_train,y_train)"
      ],
      "execution_count": 101,
      "outputs": [
        {
          "output_type": "stream",
          "text": [
            "D:\\Anaconda3\\lib\\site-packages\\sklearn\\utils\\validation.py:578: DataConversionWarning: A column-vector y was passed when a 1d array was expected. Please change the shape of y to (n_samples, ), for example using ravel().\n",
            "  y = column_or_1d(y, warn=True)\n"
          ],
          "name": "stderr"
        },
        {
          "output_type": "execute_result",
          "data": {
            "text/plain": [
              "GradientBoostingRegressor(alpha=0.9, criterion='friedman_mse', init=None,\n",
              "             learning_rate=0.1, loss='ls', max_depth=3, max_features=None,\n",
              "             max_leaf_nodes=None, min_impurity_decrease=0.0,\n",
              "             min_impurity_split=None, min_samples_leaf=1,\n",
              "             min_samples_split=2, min_weight_fraction_leaf=0.0,\n",
              "             n_estimators=100, presort='auto', random_state=None,\n",
              "             subsample=1.0, verbose=0, warm_start=False)"
            ]
          },
          "metadata": {
            "tags": []
          },
          "execution_count": 101
        }
      ]
    },
    {
      "cell_type": "code",
      "metadata": {
        "id": "lauTomq_d546",
        "colab_type": "code",
        "colab": {
          "base_uri": "https://localhost:8080/",
          "height": 383
        },
        "outputId": "76468edb-2d29-4aad-a867-51794845e052"
      },
      "source": [
        "#KernelRidge(alpha=0.6, kernel='polynomial', degree=2, coef0=2.5)\n",
        "grid(KernelRidge()).grid_get(X_train,y_train,{'alpha':[1],'degree':[3],'coef0':[1],'kernel':['polynomial']})"
      ],
      "execution_count": 102,
      "outputs": [
        {
          "output_type": "stream",
          "text": [
            "{'alpha': 1, 'coef0': 1, 'degree': 3, 'kernel': 'polynomial'} 0.007419559057798276\n",
            "                                              params  mean_test_score  \\\n",
            "0  {'alpha': 1, 'coef0': 1, 'degree': 3, 'kernel'...          0.00742   \n",
            "\n",
            "   std_test_score  \n",
            "0        0.000004  \n"
          ],
          "name": "stdout"
        },
        {
          "output_type": "stream",
          "text": [
            "D:\\Anaconda3\\lib\\site-packages\\sklearn\\utils\\deprecation.py:122: FutureWarning: You are accessing a training score ('split0_train_score'), which will not be available by default any more in 0.21. If you need training scores, please set return_train_score=True\n",
            "  warnings.warn(*warn_args, **warn_kwargs)\n",
            "D:\\Anaconda3\\lib\\site-packages\\sklearn\\utils\\deprecation.py:122: FutureWarning: You are accessing a training score ('split1_train_score'), which will not be available by default any more in 0.21. If you need training scores, please set return_train_score=True\n",
            "  warnings.warn(*warn_args, **warn_kwargs)\n",
            "D:\\Anaconda3\\lib\\site-packages\\sklearn\\utils\\deprecation.py:122: FutureWarning: You are accessing a training score ('split2_train_score'), which will not be available by default any more in 0.21. If you need training scores, please set return_train_score=True\n",
            "  warnings.warn(*warn_args, **warn_kwargs)\n",
            "D:\\Anaconda3\\lib\\site-packages\\sklearn\\utils\\deprecation.py:122: FutureWarning: You are accessing a training score ('split3_train_score'), which will not be available by default any more in 0.21. If you need training scores, please set return_train_score=True\n",
            "  warnings.warn(*warn_args, **warn_kwargs)\n",
            "D:\\Anaconda3\\lib\\site-packages\\sklearn\\utils\\deprecation.py:122: FutureWarning: You are accessing a training score ('split4_train_score'), which will not be available by default any more in 0.21. If you need training scores, please set return_train_score=True\n",
            "  warnings.warn(*warn_args, **warn_kwargs)\n",
            "D:\\Anaconda3\\lib\\site-packages\\sklearn\\utils\\deprecation.py:122: FutureWarning: You are accessing a training score ('mean_train_score'), which will not be available by default any more in 0.21. If you need training scores, please set return_train_score=True\n",
            "  warnings.warn(*warn_args, **warn_kwargs)\n",
            "D:\\Anaconda3\\lib\\site-packages\\sklearn\\utils\\deprecation.py:122: FutureWarning: You are accessing a training score ('std_train_score'), which will not be available by default any more in 0.21. If you need training scores, please set return_train_score=True\n",
            "  warnings.warn(*warn_args, **warn_kwargs)\n"
          ],
          "name": "stderr"
        }
      ]
    },
    {
      "cell_type": "code",
      "metadata": {
        "id": "QVRPlewyfU4q",
        "colab_type": "code",
        "colab": {
          "base_uri": "https://localhost:8080/",
          "height": 52
        },
        "outputId": "b04c2ec8-2e6f-477d-8a80-005652ed815d"
      },
      "source": [
        "Kr=KernelRidge(alpha=1,kernel='polynomial',degree=3,coef0=1)\n",
        "Kr.fit(X_train,y_train)"
      ],
      "execution_count": 103,
      "outputs": [
        {
          "output_type": "execute_result",
          "data": {
            "text/plain": [
              "KernelRidge(alpha=1, coef0=1, degree=3, gamma=None, kernel='polynomial',\n",
              "      kernel_params=None)"
            ]
          },
          "metadata": {
            "tags": []
          },
          "execution_count": 103
        }
      ]
    },
    {
      "cell_type": "code",
      "metadata": {
        "id": "5-0_mMznWw2b",
        "colab_type": "code",
        "colab": {
          "base_uri": "https://localhost:8080/",
          "height": 918
        },
        "outputId": "e5fa049a-77f4-46b4-d3c0-6d3d38bae387"
      },
      "source": [
        "#ExtraTreesRegressor()\n",
        "grid(ExtraTreesRegressor()).grid_get(X_train,y_train,{'n_estimators':[100],'max_features':[1,2,3]})"
      ],
      "execution_count": 104,
      "outputs": [
        {
          "output_type": "stream",
          "text": [
            "D:\\Anaconda3\\lib\\site-packages\\sklearn\\model_selection\\_validation.py:458: DataConversionWarning: A column-vector y was passed when a 1d array was expected. Please change the shape of y to (n_samples,), for example using ravel().\n",
            "  estimator.fit(X_train, y_train, **fit_params)\n",
            "D:\\Anaconda3\\lib\\site-packages\\sklearn\\model_selection\\_validation.py:458: DataConversionWarning: A column-vector y was passed when a 1d array was expected. Please change the shape of y to (n_samples,), for example using ravel().\n",
            "  estimator.fit(X_train, y_train, **fit_params)\n",
            "D:\\Anaconda3\\lib\\site-packages\\sklearn\\model_selection\\_validation.py:458: DataConversionWarning: A column-vector y was passed when a 1d array was expected. Please change the shape of y to (n_samples,), for example using ravel().\n",
            "  estimator.fit(X_train, y_train, **fit_params)\n",
            "D:\\Anaconda3\\lib\\site-packages\\sklearn\\model_selection\\_validation.py:458: DataConversionWarning: A column-vector y was passed when a 1d array was expected. Please change the shape of y to (n_samples,), for example using ravel().\n",
            "  estimator.fit(X_train, y_train, **fit_params)\n",
            "D:\\Anaconda3\\lib\\site-packages\\sklearn\\model_selection\\_validation.py:458: DataConversionWarning: A column-vector y was passed when a 1d array was expected. Please change the shape of y to (n_samples,), for example using ravel().\n",
            "  estimator.fit(X_train, y_train, **fit_params)\n",
            "D:\\Anaconda3\\lib\\site-packages\\sklearn\\model_selection\\_validation.py:458: DataConversionWarning: A column-vector y was passed when a 1d array was expected. Please change the shape of y to (n_samples,), for example using ravel().\n",
            "  estimator.fit(X_train, y_train, **fit_params)\n",
            "D:\\Anaconda3\\lib\\site-packages\\sklearn\\model_selection\\_validation.py:458: DataConversionWarning: A column-vector y was passed when a 1d array was expected. Please change the shape of y to (n_samples,), for example using ravel().\n",
            "  estimator.fit(X_train, y_train, **fit_params)\n",
            "D:\\Anaconda3\\lib\\site-packages\\sklearn\\model_selection\\_validation.py:458: DataConversionWarning: A column-vector y was passed when a 1d array was expected. Please change the shape of y to (n_samples,), for example using ravel().\n",
            "  estimator.fit(X_train, y_train, **fit_params)\n",
            "D:\\Anaconda3\\lib\\site-packages\\sklearn\\model_selection\\_validation.py:458: DataConversionWarning: A column-vector y was passed when a 1d array was expected. Please change the shape of y to (n_samples,), for example using ravel().\n",
            "  estimator.fit(X_train, y_train, **fit_params)\n",
            "D:\\Anaconda3\\lib\\site-packages\\sklearn\\model_selection\\_validation.py:458: DataConversionWarning: A column-vector y was passed when a 1d array was expected. Please change the shape of y to (n_samples,), for example using ravel().\n",
            "  estimator.fit(X_train, y_train, **fit_params)\n",
            "D:\\Anaconda3\\lib\\site-packages\\sklearn\\model_selection\\_validation.py:458: DataConversionWarning: A column-vector y was passed when a 1d array was expected. Please change the shape of y to (n_samples,), for example using ravel().\n",
            "  estimator.fit(X_train, y_train, **fit_params)\n",
            "D:\\Anaconda3\\lib\\site-packages\\sklearn\\model_selection\\_validation.py:458: DataConversionWarning: A column-vector y was passed when a 1d array was expected. Please change the shape of y to (n_samples,), for example using ravel().\n",
            "  estimator.fit(X_train, y_train, **fit_params)\n",
            "D:\\Anaconda3\\lib\\site-packages\\sklearn\\model_selection\\_validation.py:458: DataConversionWarning: A column-vector y was passed when a 1d array was expected. Please change the shape of y to (n_samples,), for example using ravel().\n",
            "  estimator.fit(X_train, y_train, **fit_params)\n",
            "D:\\Anaconda3\\lib\\site-packages\\sklearn\\model_selection\\_validation.py:458: DataConversionWarning: A column-vector y was passed when a 1d array was expected. Please change the shape of y to (n_samples,), for example using ravel().\n",
            "  estimator.fit(X_train, y_train, **fit_params)\n",
            "D:\\Anaconda3\\lib\\site-packages\\sklearn\\model_selection\\_validation.py:458: DataConversionWarning: A column-vector y was passed when a 1d array was expected. Please change the shape of y to (n_samples,), for example using ravel().\n",
            "  estimator.fit(X_train, y_train, **fit_params)\n",
            "D:\\Anaconda3\\lib\\site-packages\\sklearn\\model_selection\\_search.py:739: DataConversionWarning: A column-vector y was passed when a 1d array was expected. Please change the shape of y to (n_samples,), for example using ravel().\n",
            "  self.best_estimator_.fit(X, y, **fit_params)\n"
          ],
          "name": "stderr"
        },
        {
          "output_type": "stream",
          "text": [
            "{'max_features': 1, 'n_estimators': 100} 0.007918165521698342\n",
            "                                     params  mean_test_score  std_test_score\n",
            "0  {'max_features': 1, 'n_estimators': 100}         0.007918        0.000004\n",
            "1  {'max_features': 2, 'n_estimators': 100}         0.008092        0.000005\n",
            "2  {'max_features': 3, 'n_estimators': 100}         0.008195        0.000005\n"
          ],
          "name": "stdout"
        },
        {
          "output_type": "stream",
          "text": [
            "D:\\Anaconda3\\lib\\site-packages\\sklearn\\utils\\deprecation.py:122: FutureWarning: You are accessing a training score ('split0_train_score'), which will not be available by default any more in 0.21. If you need training scores, please set return_train_score=True\n",
            "  warnings.warn(*warn_args, **warn_kwargs)\n",
            "D:\\Anaconda3\\lib\\site-packages\\sklearn\\utils\\deprecation.py:122: FutureWarning: You are accessing a training score ('split1_train_score'), which will not be available by default any more in 0.21. If you need training scores, please set return_train_score=True\n",
            "  warnings.warn(*warn_args, **warn_kwargs)\n",
            "D:\\Anaconda3\\lib\\site-packages\\sklearn\\utils\\deprecation.py:122: FutureWarning: You are accessing a training score ('split2_train_score'), which will not be available by default any more in 0.21. If you need training scores, please set return_train_score=True\n",
            "  warnings.warn(*warn_args, **warn_kwargs)\n",
            "D:\\Anaconda3\\lib\\site-packages\\sklearn\\utils\\deprecation.py:122: FutureWarning: You are accessing a training score ('split3_train_score'), which will not be available by default any more in 0.21. If you need training scores, please set return_train_score=True\n",
            "  warnings.warn(*warn_args, **warn_kwargs)\n",
            "D:\\Anaconda3\\lib\\site-packages\\sklearn\\utils\\deprecation.py:122: FutureWarning: You are accessing a training score ('split4_train_score'), which will not be available by default any more in 0.21. If you need training scores, please set return_train_score=True\n",
            "  warnings.warn(*warn_args, **warn_kwargs)\n",
            "D:\\Anaconda3\\lib\\site-packages\\sklearn\\utils\\deprecation.py:122: FutureWarning: You are accessing a training score ('mean_train_score'), which will not be available by default any more in 0.21. If you need training scores, please set return_train_score=True\n",
            "  warnings.warn(*warn_args, **warn_kwargs)\n",
            "D:\\Anaconda3\\lib\\site-packages\\sklearn\\utils\\deprecation.py:122: FutureWarning: You are accessing a training score ('std_train_score'), which will not be available by default any more in 0.21. If you need training scores, please set return_train_score=True\n",
            "  warnings.warn(*warn_args, **warn_kwargs)\n"
          ],
          "name": "stderr"
        }
      ]
    },
    {
      "cell_type": "code",
      "metadata": {
        "id": "xmgG9mS9W2Rc",
        "colab_type": "code",
        "colab": {
          "base_uri": "https://localhost:8080/",
          "height": 158
        },
        "outputId": "bfc8025d-dbd9-477c-ce5d-cf82d8302262"
      },
      "source": [
        "ETR=ExtraTreesRegressor(n_estimators=100,max_features=1)\n",
        "ETR.fit(X_train,y_train)"
      ],
      "execution_count": 105,
      "outputs": [
        {
          "output_type": "stream",
          "text": [
            "D:\\Anaconda3\\lib\\site-packages\\ipykernel_launcher.py:2: DataConversionWarning: A column-vector y was passed when a 1d array was expected. Please change the shape of y to (n_samples,), for example using ravel().\n",
            "  \n"
          ],
          "name": "stderr"
        },
        {
          "output_type": "execute_result",
          "data": {
            "text/plain": [
              "ExtraTreesRegressor(bootstrap=False, criterion='mse', max_depth=None,\n",
              "          max_features=1, max_leaf_nodes=None, min_impurity_decrease=0.0,\n",
              "          min_impurity_split=None, min_samples_leaf=1, min_samples_split=2,\n",
              "          min_weight_fraction_leaf=0.0, n_estimators=100, n_jobs=1,\n",
              "          oob_score=False, random_state=None, verbose=0, warm_start=False)"
            ]
          },
          "metadata": {
            "tags": []
          },
          "execution_count": 105
        }
      ]
    },
    {
      "cell_type": "code",
      "metadata": {
        "id": "khJq_hFhW-pD",
        "colab_type": "code",
        "colab": {
          "base_uri": "https://localhost:8080/",
          "height": 745
        },
        "outputId": "027b4635-6671-44df-c4bd-482eea85397e"
      },
      "source": [
        "#XGBRegressor()\n",
        "grid(XGBRegressor()).grid_get(X_train,y_train,{'n_estimators':[80,85,90,95,100],'gamma':[0.0001,0.001,0.01,0.1,0.00000000001]})"
      ],
      "execution_count": 106,
      "outputs": [
        {
          "output_type": "stream",
          "text": [
            "{'gamma': 0.0001, 'n_estimators': 90} 0.007349054594700943\n",
            "                                    params  mean_test_score  std_test_score\n",
            "0    {'gamma': 0.0001, 'n_estimators': 80}         0.007351        0.000005\n",
            "1    {'gamma': 0.0001, 'n_estimators': 85}         0.007350        0.000004\n",
            "2    {'gamma': 0.0001, 'n_estimators': 90}         0.007349        0.000005\n",
            "3    {'gamma': 0.0001, 'n_estimators': 95}         0.007349        0.000004\n",
            "4   {'gamma': 0.0001, 'n_estimators': 100}         0.007349        0.000005\n",
            "5     {'gamma': 0.001, 'n_estimators': 80}         0.007406        0.000004\n",
            "6     {'gamma': 0.001, 'n_estimators': 85}         0.007406        0.000004\n",
            "7     {'gamma': 0.001, 'n_estimators': 90}         0.007406        0.000004\n",
            "8     {'gamma': 0.001, 'n_estimators': 95}         0.007406        0.000004\n",
            "9    {'gamma': 0.001, 'n_estimators': 100}         0.007406        0.000004\n",
            "10     {'gamma': 0.01, 'n_estimators': 80}         0.007723        0.000004\n",
            "11     {'gamma': 0.01, 'n_estimators': 85}         0.007722        0.000004\n",
            "12     {'gamma': 0.01, 'n_estimators': 90}         0.007722        0.000004\n",
            "13     {'gamma': 0.01, 'n_estimators': 95}         0.007722        0.000004\n",
            "14    {'gamma': 0.01, 'n_estimators': 100}         0.007722        0.000004\n",
            "15      {'gamma': 0.1, 'n_estimators': 80}         0.009509        0.000003\n",
            "16      {'gamma': 0.1, 'n_estimators': 85}         0.009508        0.000003\n",
            "17      {'gamma': 0.1, 'n_estimators': 90}         0.009508        0.000003\n",
            "18      {'gamma': 0.1, 'n_estimators': 95}         0.009508        0.000003\n",
            "19     {'gamma': 0.1, 'n_estimators': 100}         0.009508        0.000003\n",
            "20    {'gamma': 1e-11, 'n_estimators': 80}         0.007354        0.000004\n",
            "21    {'gamma': 1e-11, 'n_estimators': 85}         0.007352        0.000004\n",
            "22    {'gamma': 1e-11, 'n_estimators': 90}         0.007356        0.000005\n",
            "23    {'gamma': 1e-11, 'n_estimators': 95}         0.007355        0.000005\n",
            "24   {'gamma': 1e-11, 'n_estimators': 100}         0.007356        0.000005\n"
          ],
          "name": "stdout"
        },
        {
          "output_type": "stream",
          "text": [
            "D:\\Anaconda3\\lib\\site-packages\\sklearn\\utils\\deprecation.py:122: FutureWarning: You are accessing a training score ('split0_train_score'), which will not be available by default any more in 0.21. If you need training scores, please set return_train_score=True\n",
            "  warnings.warn(*warn_args, **warn_kwargs)\n",
            "D:\\Anaconda3\\lib\\site-packages\\sklearn\\utils\\deprecation.py:122: FutureWarning: You are accessing a training score ('split1_train_score'), which will not be available by default any more in 0.21. If you need training scores, please set return_train_score=True\n",
            "  warnings.warn(*warn_args, **warn_kwargs)\n",
            "D:\\Anaconda3\\lib\\site-packages\\sklearn\\utils\\deprecation.py:122: FutureWarning: You are accessing a training score ('split2_train_score'), which will not be available by default any more in 0.21. If you need training scores, please set return_train_score=True\n",
            "  warnings.warn(*warn_args, **warn_kwargs)\n",
            "D:\\Anaconda3\\lib\\site-packages\\sklearn\\utils\\deprecation.py:122: FutureWarning: You are accessing a training score ('split3_train_score'), which will not be available by default any more in 0.21. If you need training scores, please set return_train_score=True\n",
            "  warnings.warn(*warn_args, **warn_kwargs)\n",
            "D:\\Anaconda3\\lib\\site-packages\\sklearn\\utils\\deprecation.py:122: FutureWarning: You are accessing a training score ('split4_train_score'), which will not be available by default any more in 0.21. If you need training scores, please set return_train_score=True\n",
            "  warnings.warn(*warn_args, **warn_kwargs)\n",
            "D:\\Anaconda3\\lib\\site-packages\\sklearn\\utils\\deprecation.py:122: FutureWarning: You are accessing a training score ('mean_train_score'), which will not be available by default any more in 0.21. If you need training scores, please set return_train_score=True\n",
            "  warnings.warn(*warn_args, **warn_kwargs)\n",
            "D:\\Anaconda3\\lib\\site-packages\\sklearn\\utils\\deprecation.py:122: FutureWarning: You are accessing a training score ('std_train_score'), which will not be available by default any more in 0.21. If you need training scores, please set return_train_score=True\n",
            "  warnings.warn(*warn_args, **warn_kwargs)\n"
          ],
          "name": "stderr"
        }
      ]
    },
    {
      "cell_type": "code",
      "metadata": {
        "id": "a8rR6BFeXM5s",
        "colab_type": "code",
        "colab": {
          "base_uri": "https://localhost:8080/",
          "height": 138
        },
        "outputId": "3fa9bb4f-5fcf-4a50-838c-12c6be9ef67b"
      },
      "source": [
        "XGBR=XGBRegressor(gamma=0.0001, n_estimators=90)\n",
        "XGBR.fit(X_train,y_train)"
      ],
      "execution_count": 107,
      "outputs": [
        {
          "output_type": "execute_result",
          "data": {
            "text/plain": [
              "XGBRegressor(base_score=0.5, booster='gbtree', colsample_bylevel=1,\n",
              "       colsample_bytree=1, gamma=0.0001, importance_type='gain',\n",
              "       learning_rate=0.1, max_delta_step=0, max_depth=3,\n",
              "       min_child_weight=1, missing=None, n_estimators=90, n_jobs=1,\n",
              "       nthread=None, objective='reg:linear', random_state=0, reg_alpha=0,\n",
              "       reg_lambda=1, scale_pos_weight=1, seed=None, silent=True,\n",
              "       subsample=1)"
            ]
          },
          "metadata": {
            "tags": []
          },
          "execution_count": 107
        }
      ]
    },
    {
      "cell_type": "code",
      "metadata": {
        "id": "YK4FKm4lXiki",
        "colab_type": "code",
        "colab": {}
      },
      "source": [
        "class AverageWeight(BaseEstimator, RegressorMixin):\n",
        "    def __init__(self,mod,weight):\n",
        "        self.mod = mod\n",
        "        self.weight = weight\n",
        "        \n",
        "    def fit(self,X,y):\n",
        "        self.models_ = [clone(x) for x in self.mod]\n",
        "        for model in self.models_:\n",
        "            model.fit(X,y)\n",
        "        return self\n",
        "    \n",
        "    def predict(self,X):\n",
        "        w = list()\n",
        "        pred = np.array([model.predict(X) for model in self.models_])\n",
        "        # for every data point, single model prediction times weight, then add them together\n",
        "        for data in range(pred.shape[1]):\n",
        "            single = [pred[model,data]*weight for model,weight in zip(range(pred.shape[0]),self.weight)]\n",
        "            w.append(np.sum(single))\n",
        "        return w"
      ],
      "execution_count": 0,
      "outputs": []
    },
    {
      "cell_type": "code",
      "metadata": {
        "id": "GyYkCZ4sXod7",
        "colab_type": "code",
        "colab": {
          "base_uri": "https://localhost:8080/",
          "height": 400
        },
        "outputId": "0e163430-5c76-43b9-ad6e-dd3229576f63"
      },
      "source": [
        "w1 = 0.3\n",
        "w2 = 0.3\n",
        "w3 = 0.4\n",
        "weight_avg = AverageWeight(mod =[GBR,ETR,XGBR],weight=[w1,w2,w3])\n",
        "score = rmse_cv(weight_avg,X_train,y_train)\n",
        "print(score.mean())"
      ],
      "execution_count": 118,
      "outputs": [
        {
          "output_type": "stream",
          "text": [
            "D:\\Anaconda3\\lib\\site-packages\\sklearn\\utils\\validation.py:578: DataConversionWarning: A column-vector y was passed when a 1d array was expected. Please change the shape of y to (n_samples, ), for example using ravel().\n",
            "  y = column_or_1d(y, warn=True)\n",
            "D:\\Anaconda3\\lib\\site-packages\\ipykernel_launcher.py:9: DataConversionWarning: A column-vector y was passed when a 1d array was expected. Please change the shape of y to (n_samples,), for example using ravel().\n",
            "  if __name__ == '__main__':\n",
            "D:\\Anaconda3\\lib\\site-packages\\sklearn\\utils\\validation.py:578: DataConversionWarning: A column-vector y was passed when a 1d array was expected. Please change the shape of y to (n_samples, ), for example using ravel().\n",
            "  y = column_or_1d(y, warn=True)\n",
            "D:\\Anaconda3\\lib\\site-packages\\ipykernel_launcher.py:9: DataConversionWarning: A column-vector y was passed when a 1d array was expected. Please change the shape of y to (n_samples,), for example using ravel().\n",
            "  if __name__ == '__main__':\n",
            "D:\\Anaconda3\\lib\\site-packages\\sklearn\\utils\\validation.py:578: DataConversionWarning: A column-vector y was passed when a 1d array was expected. Please change the shape of y to (n_samples, ), for example using ravel().\n",
            "  y = column_or_1d(y, warn=True)\n",
            "D:\\Anaconda3\\lib\\site-packages\\ipykernel_launcher.py:9: DataConversionWarning: A column-vector y was passed when a 1d array was expected. Please change the shape of y to (n_samples,), for example using ravel().\n",
            "  if __name__ == '__main__':\n",
            "D:\\Anaconda3\\lib\\site-packages\\sklearn\\utils\\validation.py:578: DataConversionWarning: A column-vector y was passed when a 1d array was expected. Please change the shape of y to (n_samples, ), for example using ravel().\n",
            "  y = column_or_1d(y, warn=True)\n",
            "D:\\Anaconda3\\lib\\site-packages\\ipykernel_launcher.py:9: DataConversionWarning: A column-vector y was passed when a 1d array was expected. Please change the shape of y to (n_samples,), for example using ravel().\n",
            "  if __name__ == '__main__':\n",
            "D:\\Anaconda3\\lib\\site-packages\\sklearn\\utils\\validation.py:578: DataConversionWarning: A column-vector y was passed when a 1d array was expected. Please change the shape of y to (n_samples, ), for example using ravel().\n",
            "  y = column_or_1d(y, warn=True)\n",
            "D:\\Anaconda3\\lib\\site-packages\\ipykernel_launcher.py:9: DataConversionWarning: A column-vector y was passed when a 1d array was expected. Please change the shape of y to (n_samples,), for example using ravel().\n",
            "  if __name__ == '__main__':\n"
          ],
          "name": "stderr"
        },
        {
          "output_type": "stream",
          "text": [
            "0.007367476351604657\n"
          ],
          "name": "stdout"
        }
      ]
    },
    {
      "cell_type": "code",
      "metadata": {
        "id": "R93YDk5CX7I7",
        "colab_type": "code",
        "colab": {
          "base_uri": "https://localhost:8080/",
          "height": 245
        },
        "outputId": "d8b0967f-7d0f-4356-e2a8-15974277cfa8"
      },
      "source": [
        "weight_avg.fit(X_train,y_train)"
      ],
      "execution_count": 119,
      "outputs": [
        {
          "output_type": "stream",
          "text": [
            "D:\\Anaconda3\\lib\\site-packages\\sklearn\\utils\\validation.py:578: DataConversionWarning: A column-vector y was passed when a 1d array was expected. Please change the shape of y to (n_samples, ), for example using ravel().\n",
            "  y = column_or_1d(y, warn=True)\n",
            "D:\\Anaconda3\\lib\\site-packages\\ipykernel_launcher.py:9: DataConversionWarning: A column-vector y was passed when a 1d array was expected. Please change the shape of y to (n_samples,), for example using ravel().\n",
            "  if __name__ == '__main__':\n"
          ],
          "name": "stderr"
        },
        {
          "output_type": "execute_result",
          "data": {
            "text/plain": [
              "AverageWeight(mod=[GradientBoostingRegressor(alpha=0.9, criterion='friedman_mse', init=None,\n",
              "             learning_rate=0.1, loss='ls', max_depth=3, max_features=None,\n",
              "             max_leaf_nodes=None, min_impurity_decrease=0.0,\n",
              "             min_impurity_split=None, min_samples_leaf=1,\n",
              "             min_samples_sp..., reg_alpha=0,\n",
              "       reg_lambda=1, scale_pos_weight=1, seed=None, silent=True,\n",
              "       subsample=1)],\n",
              "       weight=[0.3, 0.3, 0.4])"
            ]
          },
          "metadata": {
            "tags": []
          },
          "execution_count": 119
        }
      ]
    },
    {
      "cell_type": "code",
      "metadata": {
        "id": "8nwr50tqYETa",
        "colab_type": "code",
        "colab": {}
      },
      "source": [
        "def compute_rmse(y1, y2):\n",
        "    return np.mean((y1 - y2) ** 2) ** 0.5"
      ],
      "execution_count": 0,
      "outputs": []
    },
    {
      "cell_type": "code",
      "metadata": {
        "id": "Je6iCIPSYMDj",
        "colab_type": "code",
        "colab": {
          "base_uri": "https://localhost:8080/",
          "height": 35
        },
        "outputId": "1a7991f1-3a2e-41f0-f287-9abe1a60ecbc"
      },
      "source": [
        "compute_rmse(np.array(weight_avg.predict(X_test)),np.array(y_test))"
      ],
      "execution_count": 121,
      "outputs": [
        {
          "output_type": "execute_result",
          "data": {
            "text/plain": [
              "0.08856145057974747"
            ]
          },
          "metadata": {
            "tags": []
          },
          "execution_count": 121
        }
      ]
    },
    {
      "cell_type": "code",
      "metadata": {
        "id": "Jp18TNuMYT8S",
        "colab_type": "code",
        "colab": {
          "base_uri": "https://localhost:8080/",
          "height": 298
        },
        "outputId": "c046ef17-125e-40c1-b470-a784f909b1dc"
      },
      "source": [
        "plt.figure()\n",
        "plt.rcParams['font.sans-serif']=['SimHei'] #用来正常显示中文标签\n",
        "plt.rcParams['axes.unicode_minus']=False #用来正常显示负号\n",
        "x = np.linspace(0,1,20)\n",
        "plt.plot(x,np.array(weight_avg.predict(X_test[0:20])),'r.',x,np.array(y_test[0:20]),'b.')"
      ],
      "execution_count": 122,
      "outputs": [
        {
          "output_type": "execute_result",
          "data": {
            "text/plain": [
              "[<matplotlib.lines.Line2D at 0x209a2ec73c8>,\n",
              " <matplotlib.lines.Line2D at 0x209a2ec7518>]"
            ]
          },
          "metadata": {
            "tags": []
          },
          "execution_count": 122
        },
        {
          "output_type": "display_data",
          "data": {
            "text/plain": [
              "<Figure size 432x288 with 1 Axes>"
            ],
            "image/png": "[encoded data removed]"
          },
          "metadata": {
            "tags": []
          }
        }
      ]
    },
    {
      "cell_type": "code",
      "metadata": {
        "id": "BFhNwa8qYwha",
        "colab_type": "code",
        "colab": {}
      },
      "source": [
        "GBR=GradientBoostingRegressor(n_estimators=100)\n",
        "ETR=ExtraTreesRegressor(n_estimators=100,max_features=3)\n",
        "XGBR=XGBRegressor(gamma=1e-11, n_estimators=100)"
      ],
      "execution_count": 0,
      "outputs": []
    },
    {
      "cell_type": "code",
      "metadata": {
        "id": "74QUkRVgamF4",
        "colab_type": "code",
        "colab": {}
      },
      "source": [
        "import numpy as np\n",
        "from sklearn.model_selection import KFold"
      ],
      "execution_count": 0,
      "outputs": []
    },
    {
      "cell_type": "code",
      "metadata": {
        "id": "VXERO8wGamvB",
        "colab_type": "code",
        "colab": {}
      },
      "source": [
        "class stacking(BaseEstimator, RegressorMixin, TransformerMixin):\n",
        "    def __init__(self,mod,meta_model):\n",
        "        self.mod = mod\n",
        "        self.meta_model = meta_model\n",
        "        self.kf = KFold(n_splits=5, random_state=42, shuffle=True)\n",
        "\n",
        "    def fit(self,X,y):\n",
        "        self.saved_model = [list() for i in self.mod]\n",
        "        oof_train = np.zeros((X.shape[0], len(self.mod)))\n",
        "\n",
        "        for i,model in enumerate(self.mod):\n",
        "            for train_index, val_index in self.kf.split(X,y):\n",
        "                renew_model = clone(model)\n",
        "                renew_model.fit(X[train_index], y[train_index])\n",
        "                self.saved_model[i].append(renew_model)\n",
        "                oof_train[val_index,i] = renew_model.predict(X[val_index])\n",
        "\n",
        "        self.meta_model.fit(oof_train,y)\n",
        "        return self\n",
        "\n",
        "    def predict(self,X):\n",
        "        whole_test = np.column_stack([np.column_stack(model.predict(X) for model in single_model).mean(axis=1) \n",
        "                                      for single_model in self.saved_model]) \n",
        "        return self.meta_model.predict(whole_test)\n",
        "\n",
        "    def get_oof(self,X,y,test_X):\n",
        "        oof = np.zeros((X.shape[0],len(self.mod)))\n",
        "        test_single = np.zeros((test_X.shape[0],5))\n",
        "        test_mean = np.zeros((test_X.shape[0],len(self.mod)))\n",
        "        for i,model in enumerate(self.mod):\n",
        "            for j, (train_index,val_index) in enumerate(self.kf.split(X,y)):\n",
        "                clone_model = clone(model)\n",
        "                clone_model.fit(X[train_index],y[train_index])\n",
        "                oof[val_index,i] = clone_model.predict(X[val_index])\n",
        "                test_single[:,j] = clone_model.predict(test_X)\n",
        "            test_mean[:,i] = test_single.mean(axis=1)\n",
        "        return oof, test_mean"
      ],
      "execution_count": 0,
      "outputs": []
    },
    {
      "cell_type": "code",
      "metadata": {
        "id": "4Jt44Ji8ao-h",
        "colab_type": "code",
        "colab": {}
      },
      "source": [
        "a = Imputer().fit_transform(X_train)\n",
        "b = Imputer().fit_transform(y_train.values.reshape(-1,1)).ravel()"
      ],
      "execution_count": 0,
      "outputs": []
    },
    {
      "cell_type": "code",
      "metadata": {
        "id": "EgbIiihXarP5",
        "colab_type": "code",
        "colab": {}
      },
      "source": [
        "stack_model = stacking(mod=[GBR,ETR,XGBR],meta_model=GBR)"
      ],
      "execution_count": 0,
      "outputs": []
    },
    {
      "cell_type": "code",
      "metadata": {
        "id": "0qVFoRmVaxvq",
        "colab_type": "code",
        "colab": {
          "base_uri": "https://localhost:8080/",
          "height": 35
        },
        "outputId": "e0f4e6fd-bd93-430d-8442-6d16b79e44bd"
      },
      "source": [
        "score = rmse_cv(stack_model,a,b)\n",
        "print(score.mean())"
      ],
      "execution_count": 128,
      "outputs": [
        {
          "output_type": "stream",
          "text": [
            "0.007398006221066266\n"
          ],
          "name": "stdout"
        }
      ]
    },
    {
      "cell_type": "code",
      "metadata": {
        "id": "-VSaMfQJa0uq",
        "colab_type": "code",
        "colab": {
          "base_uri": "https://localhost:8080/",
          "height": 259
        },
        "outputId": "ef9df27c-6489-42aa-dd74-41d47ce06b17"
      },
      "source": [
        "stack_model.fit(a,b)"
      ],
      "execution_count": 129,
      "outputs": [
        {
          "output_type": "execute_result",
          "data": {
            "text/plain": [
              "stacking(meta_model=GradientBoostingRegressor(alpha=0.9, criterion='friedman_mse', init=None,\n",
              "             learning_rate=0.1, loss='ls', max_depth=3, max_features=None,\n",
              "             max_leaf_nodes=None, min_impurity_decrease=0.0,\n",
              "             min_impurity_split=None, min_samples_leaf=1,\n",
              "             min_samples_split=2, min_weight_fraction_leaf=0.0,\n",
              "             n_estimators=100, presort='auto', random_state=None,\n",
              "             subsample=1.0, verbose=0, warm_start=False),\n",
              "     mod=[GradientBoostingRegressor(alpha=0.9, criterion='friedman_mse', init=None,\n",
              "             learning_rate=0.1, loss='ls', max_depth=3, max_features=None,\n",
              "             max_leaf_nodes=None, min_impurity_decrease=0.0,\n",
              "             min_impurity_split=None, min_samples_leaf=1,\n",
              "             min_samples_sp..., reg_alpha=0,\n",
              "       reg_lambda=1, scale_pos_weight=1, seed=None, silent=True,\n",
              "       subsample=1)])"
            ]
          },
          "metadata": {
            "tags": []
          },
          "execution_count": 129
        }
      ]
    },
    {
      "cell_type": "code",
      "metadata": {
        "id": "ZB8Mj8Q9a_q5",
        "colab_type": "code",
        "colab": {
          "base_uri": "https://localhost:8080/",
          "height": 69
        },
        "outputId": "5313ce51-a52f-41fb-baeb-a9bf29c37e21"
      },
      "source": [
        "compute_rmse(np.array(stack_model.predict(pd.DataFrame.as_matrix(X_test))),np.array(y_test))"
      ],
      "execution_count": 130,
      "outputs": [
        {
          "output_type": "stream",
          "text": [
            "D:\\Anaconda3\\lib\\site-packages\\ipykernel_launcher.py:1: FutureWarning: Method .as_matrix will be removed in a future version. Use .values instead.\n",
            "  \"\"\"Entry point for launching an IPython kernel.\n"
          ],
          "name": "stderr"
        },
        {
          "output_type": "execute_result",
          "data": {
            "text/plain": [
              "0.08856327141500087"
            ]
          },
          "metadata": {
            "tags": []
          },
          "execution_count": 130
        }
      ]
    },
    {
      "cell_type": "code",
      "metadata": {
        "id": "yT8Nz21wbK3p",
        "colab_type": "code",
        "colab": {
          "base_uri": "https://localhost:8080/",
          "height": 334
        },
        "outputId": "8fc10d81-d85d-481e-caae-66c13173e156"
      },
      "source": [
        "plt.figure()\n",
        "plt.rcParams['font.sans-serif']=['SimHei'] #用来正常显示中文标签\n",
        "plt.rcParams['axes.unicode_minus']=False #用来正常显示负号\n",
        "x = np.linspace(0,1,20)\n",
        "plt.plot(x,np.exp(stack_model.predict(pd.DataFrame.as_matrix(X_test[0:20]))),'r.',x,np.exp(y_test[0:20]),'b.')"
      ],
      "execution_count": 131,
      "outputs": [
        {
          "output_type": "stream",
          "text": [
            "D:\\Anaconda3\\lib\\site-packages\\ipykernel_launcher.py:5: FutureWarning: Method .as_matrix will be removed in a future version. Use .values instead.\n",
            "  \"\"\"\n"
          ],
          "name": "stderr"
        },
        {
          "output_type": "execute_result",
          "data": {
            "text/plain": [
              "[<matplotlib.lines.Line2D at 0x209a62bbf98>,\n",
              " <matplotlib.lines.Line2D at 0x209a62c6128>]"
            ]
          },
          "metadata": {
            "tags": []
          },
          "execution_count": 131
        },
        {
          "output_type": "display_data",
          "data": {
            "text/plain": [
              "<Figure size 432x288 with 1 Axes>"
            ],
            "image/png": "[encoded data removed]"
          },
          "metadata": {
            "tags": []
          }
        }
      ]
    },
    {
      "cell_type": "code",
      "metadata": {
        "id": "gy0TUk3bbYKA",
        "colab_type": "code",
        "colab": {}
      },
      "source": [
        "import os\n",
        "from PIL import Image\n",
        "import numpy as np\n",
        "from keras.utils import np_utils\n",
        "from keras.models import Sequential\n",
        "from keras.layers.core import Dense,Dropout,Activation,Flatten\n",
        "from keras.optimizers import SGD,RMSprop,Adam\n",
        "from keras.layers import Conv2D,MaxPooling2D"
      ],
      "execution_count": 0,
      "outputs": []
    },
    {
      "cell_type": "code",
      "metadata": {
        "id": "bhSamjsZjJaj",
        "colab_type": "code",
        "colab": {
          "base_uri": "https://localhost:8080/",
          "height": 294
        },
        "outputId": "0db0a514-ed2b-4953-c1b4-d7f5b2797f31"
      },
      "source": [
        "model=Sequential()\n",
        "model.add(Dense(3,activation='relu',input_dim=3))\n",
        "#model.add(Dropout(0.5))\n",
        "model.add(Dense(9,activation='softmax'))\n",
        "model.add(Dense(4,activation='softmax'))\n",
        "model.add(Dense(1))\n",
        "print(model.summary())"
      ],
      "execution_count": 133,
      "outputs": [
        {
          "output_type": "stream",
          "text": [
            "_________________________________________________________________\n",
            "Layer (type)                 Output Shape              Param #   \n",
            "=================================================================\n",
            "dense_1 (Dense)              (None, 3)                 12        \n",
            "_________________________________________________________________\n",
            "dense_2 (Dense)              (None, 9)                 36        \n",
            "_________________________________________________________________\n",
            "dense_3 (Dense)              (None, 4)                 40        \n",
            "_________________________________________________________________\n",
            "dense_4 (Dense)              (None, 1)                 5         \n",
            "=================================================================\n",
            "Total params: 93\n",
            "Trainable params: 93\n",
            "Non-trainable params: 0\n",
            "_________________________________________________________________\n",
            "None\n"
          ],
          "name": "stdout"
        }
      ]
    },
    {
      "cell_type": "code",
      "metadata": {
        "id": "O8LlrD7ijpWz",
        "colab_type": "code",
        "colab": {}
      },
      "source": [
        "model.compile(loss='mse',optimizer='adam')"
      ],
      "execution_count": 0,
      "outputs": []
    },
    {
      "cell_type": "code",
      "metadata": {
        "id": "Q9QS_TUYkB1a",
        "colab_type": "code",
        "colab": {
          "base_uri": "https://localhost:8080/",
          "height": 2954
        },
        "outputId": "70f3dbda-a418-451f-ae7e-c37745c0b143"
      },
      "source": [
        "early_stopping=EarlyStopping(monitor='loss',patience=10,verbose=2)\n",
        "train_history=model.fit(X_train,y_train,epochs=1000,batch_size=100,verbose=1,validation_data=[X_test,y_test],callbacks=[early_stopping])"
      ],
      "execution_count": 137,
      "outputs": [
        {
          "output_type": "stream",
          "text": [
            "Train on 8000 samples, validate on 2000 samples\n",
            "Epoch 1/1000\n",
            "8000/8000 [==============================] - 0s 9us/step - loss: 6.2290e-05 - val_loss: 5.9825e-05\n",
            "Epoch 2/1000\n",
            "8000/8000 [==============================] - 0s 7us/step - loss: 6.3568e-05 - val_loss: 5.9036e-05\n",
            "Epoch 3/1000\n",
            "8000/8000 [==============================] - 0s 7us/step - loss: 6.2400e-05 - val_loss: 6.5577e-05\n",
            "Epoch 4/1000\n",
            "8000/8000 [==============================] - 0s 7us/step - loss: 6.2349e-05 - val_loss: 5.9359e-05\n",
            "Epoch 5/1000\n",
            "8000/8000 [==============================] - 0s 7us/step - loss: 6.1464e-05 - val_loss: 6.6683e-05\n",
            "Epoch 6/1000\n",
            "8000/8000 [==============================] - 0s 7us/step - loss: 6.3244e-05 - val_loss: 6.2642e-05\n",
            "Epoch 7/1000\n",
            "8000/8000 [==============================] - 0s 7us/step - loss: 6.1682e-05 - val_loss: 5.8200e-05\n",
            "Epoch 8/1000\n",
            "8000/8000 [==============================] - 0s 7us/step - loss: 6.1318e-05 - val_loss: 5.8280e-05\n",
            "Epoch 9/1000\n",
            "8000/8000 [==============================] - 0s 7us/step - loss: 6.2064e-05 - val_loss: 6.0295e-05\n",
            "Epoch 10/1000\n",
            "8000/8000 [==============================] - 0s 6us/step - loss: 6.0804e-05 - val_loss: 5.7830e-05\n",
            "Epoch 11/1000\n",
            "8000/8000 [==============================] - 0s 7us/step - loss: 6.0895e-05 - val_loss: 5.8080e-05\n",
            "Epoch 12/1000\n",
            "8000/8000 [==============================] - 0s 7us/step - loss: 6.0413e-05 - val_loss: 5.8446e-05\n",
            "Epoch 13/1000\n",
            "8000/8000 [==============================] - 0s 6us/step - loss: 6.0593e-05 - val_loss: 5.7783e-05\n",
            "Epoch 14/1000\n",
            "8000/8000 [==============================] - 0s 7us/step - loss: 6.0176e-05 - val_loss: 5.8134e-05\n",
            "Epoch 15/1000\n",
            "8000/8000 [==============================] - 0s 7us/step - loss: 5.9908e-05 - val_loss: 5.8662e-05\n",
            "Epoch 16/1000\n",
            "8000/8000 [==============================] - 0s 7us/step - loss: 6.0274e-05 - val_loss: 5.8057e-05\n",
            "Epoch 17/1000\n",
            "8000/8000 [==============================] - 0s 7us/step - loss: 5.9890e-05 - val_loss: 5.7359e-05\n",
            "Epoch 18/1000\n",
            "8000/8000 [==============================] - 0s 7us/step - loss: 5.9451e-05 - val_loss: 5.6816e-05\n",
            "Epoch 19/1000\n",
            "8000/8000 [==============================] - 0s 7us/step - loss: 5.9771e-05 - val_loss: 6.1350e-05\n",
            "Epoch 20/1000\n",
            "8000/8000 [==============================] - 0s 7us/step - loss: 5.9752e-05 - val_loss: 5.6734e-05\n",
            "Epoch 21/1000\n",
            "8000/8000 [==============================] - 0s 8us/step - loss: 5.9498e-05 - val_loss: 5.6686e-05\n",
            "Epoch 22/1000\n",
            "8000/8000 [==============================] - 0s 8us/step - loss: 6.0071e-05 - val_loss: 6.0545e-05\n",
            "Epoch 23/1000\n",
            "8000/8000 [==============================] - 0s 7us/step - loss: 5.9681e-05 - val_loss: 5.7527e-05\n",
            "Epoch 24/1000\n",
            "8000/8000 [==============================] - 0s 8us/step - loss: 5.9630e-05 - val_loss: 5.7083e-05\n",
            "Epoch 25/1000\n",
            "8000/8000 [==============================] - 0s 7us/step - loss: 5.9699e-05 - val_loss: 5.8462e-05\n",
            "Epoch 26/1000\n",
            "8000/8000 [==============================] - 0s 8us/step - loss: 5.8816e-05 - val_loss: 5.6321e-05\n",
            "Epoch 27/1000\n",
            "8000/8000 [==============================] - 0s 8us/step - loss: 5.9187e-05 - val_loss: 5.7627e-05\n",
            "Epoch 28/1000\n",
            "8000/8000 [==============================] - 0s 8us/step - loss: 5.9040e-05 - val_loss: 5.5752e-05\n",
            "Epoch 29/1000\n",
            "8000/8000 [==============================] - 0s 7us/step - loss: 5.8515e-05 - val_loss: 5.5674e-05\n",
            "Epoch 30/1000\n",
            "8000/8000 [==============================] - 0s 7us/step - loss: 5.8869e-05 - val_loss: 5.6011e-05\n",
            "Epoch 31/1000\n",
            "8000/8000 [==============================] - 0s 7us/step - loss: 5.8274e-05 - val_loss: 5.5604e-05\n",
            "Epoch 32/1000\n",
            "8000/8000 [==============================] - 0s 7us/step - loss: 5.8336e-05 - val_loss: 5.5660e-05\n",
            "Epoch 33/1000\n",
            "8000/8000 [==============================] - 0s 7us/step - loss: 5.8657e-05 - val_loss: 5.8728e-05\n",
            "Epoch 34/1000\n",
            "8000/8000 [==============================] - 0s 7us/step - loss: 5.8604e-05 - val_loss: 5.6524e-05\n",
            "Epoch 35/1000\n",
            "8000/8000 [==============================] - 0s 7us/step - loss: 5.9000e-05 - val_loss: 5.5894e-05\n",
            "Epoch 36/1000\n",
            "8000/8000 [==============================] - 0s 7us/step - loss: 5.8967e-05 - val_loss: 5.5709e-05\n",
            "Epoch 37/1000\n",
            "8000/8000 [==============================] - 0s 7us/step - loss: 5.8089e-05 - val_loss: 5.6305e-05\n",
            "Epoch 38/1000\n",
            "8000/8000 [==============================] - 0s 7us/step - loss: 5.7962e-05 - val_loss: 5.4987e-05\n",
            "Epoch 39/1000\n",
            "8000/8000 [==============================] - 0s 7us/step - loss: 5.7846e-05 - val_loss: 5.4860e-05\n",
            "Epoch 40/1000\n",
            "8000/8000 [==============================] - 0s 6us/step - loss: 5.7836e-05 - val_loss: 5.6519e-05\n",
            "Epoch 41/1000\n",
            "8000/8000 [==============================] - 0s 7us/step - loss: 5.7525e-05 - val_loss: 5.5013e-05\n",
            "Epoch 42/1000\n",
            "8000/8000 [==============================] - 0s 8us/step - loss: 5.7592e-05 - val_loss: 5.4697e-05\n",
            "Epoch 43/1000\n",
            "8000/8000 [==============================] - 0s 8us/step - loss: 5.7528e-05 - val_loss: 5.6004e-05\n",
            "Epoch 44/1000\n",
            "8000/8000 [==============================] - 0s 8us/step - loss: 5.7364e-05 - val_loss: 5.4700e-05\n",
            "Epoch 45/1000\n",
            "8000/8000 [==============================] - 0s 8us/step - loss: 5.7797e-05 - val_loss: 5.5788e-05\n",
            "Epoch 46/1000\n",
            "8000/8000 [==============================] - 0s 8us/step - loss: 5.8851e-05 - val_loss: 5.6169e-05\n",
            "Epoch 47/1000\n",
            "8000/8000 [==============================] - 0s 8us/step - loss: 5.7976e-05 - val_loss: 5.4925e-05\n",
            "Epoch 48/1000\n",
            "8000/8000 [==============================] - 0s 8us/step - loss: 5.7297e-05 - val_loss: 5.5308e-05\n",
            "Epoch 49/1000\n",
            "8000/8000 [==============================] - 0s 7us/step - loss: 5.7473e-05 - val_loss: 5.8524e-05\n",
            "Epoch 50/1000\n",
            "8000/8000 [==============================] - 0s 7us/step - loss: 5.6981e-05 - val_loss: 5.5087e-05\n",
            "Epoch 51/1000\n",
            "8000/8000 [==============================] - 0s 7us/step - loss: 5.6990e-05 - val_loss: 5.5320e-05\n",
            "Epoch 52/1000\n",
            "8000/8000 [==============================] - 0s 8us/step - loss: 5.8122e-05 - val_loss: 5.5878e-05\n",
            "Epoch 53/1000\n",
            "8000/8000 [==============================] - 0s 7us/step - loss: 5.8587e-05 - val_loss: 5.4054e-05\n",
            "Epoch 54/1000\n",
            "8000/8000 [==============================] - 0s 7us/step - loss: 5.7913e-05 - val_loss: 5.3944e-05\n",
            "Epoch 55/1000\n",
            "8000/8000 [==============================] - 0s 7us/step - loss: 5.6777e-05 - val_loss: 5.5378e-05\n",
            "Epoch 56/1000\n",
            "8000/8000 [==============================] - 0s 7us/step - loss: 5.6978e-05 - val_loss: 5.3886e-05\n",
            "Epoch 57/1000\n",
            "8000/8000 [==============================] - 0s 7us/step - loss: 5.6732e-05 - val_loss: 5.6277e-05\n",
            "Epoch 58/1000\n",
            "8000/8000 [==============================] - 0s 7us/step - loss: 5.6566e-05 - val_loss: 5.5396e-05\n",
            "Epoch 59/1000\n",
            "8000/8000 [==============================] - 0s 7us/step - loss: 5.6682e-05 - val_loss: 5.4418e-05\n",
            "Epoch 60/1000\n",
            "8000/8000 [==============================] - 0s 7us/step - loss: 5.7129e-05 - val_loss: 5.4327e-05\n",
            "Epoch 61/1000\n",
            "8000/8000 [==============================] - 0s 7us/step - loss: 5.7084e-05 - val_loss: 5.3671e-05\n",
            "Epoch 62/1000\n",
            "8000/8000 [==============================] - 0s 7us/step - loss: 5.6754e-05 - val_loss: 5.4149e-05\n",
            "Epoch 63/1000\n",
            "8000/8000 [==============================] - 0s 7us/step - loss: 5.6851e-05 - val_loss: 5.3902e-05\n",
            "Epoch 64/1000\n",
            "8000/8000 [==============================] - 0s 7us/step - loss: 5.6648e-05 - val_loss: 5.3521e-05\n",
            "Epoch 65/1000\n",
            "8000/8000 [==============================] - 0s 8us/step - loss: 5.6899e-05 - val_loss: 5.4568e-05\n",
            "Epoch 66/1000\n",
            "8000/8000 [==============================] - 0s 8us/step - loss: 5.6087e-05 - val_loss: 5.6834e-05\n",
            "Epoch 67/1000\n",
            "8000/8000 [==============================] - 0s 8us/step - loss: 5.6361e-05 - val_loss: 5.4049e-05\n",
            "Epoch 68/1000\n",
            "8000/8000 [==============================] - 0s 7us/step - loss: 5.7054e-05 - val_loss: 5.6989e-05\n",
            "Epoch 69/1000\n",
            "8000/8000 [==============================] - 0s 8us/step - loss: 5.7475e-05 - val_loss: 5.3227e-05\n",
            "Epoch 70/1000\n",
            "8000/8000 [==============================] - 0s 8us/step - loss: 5.6665e-05 - val_loss: 5.3441e-05\n",
            "Epoch 71/1000\n",
            "8000/8000 [==============================] - 0s 7us/step - loss: 5.6279e-05 - val_loss: 5.6328e-05\n",
            "Epoch 72/1000\n",
            "8000/8000 [==============================] - 0s 8us/step - loss: 5.5991e-05 - val_loss: 5.3153e-05\n",
            "Epoch 73/1000\n",
            "8000/8000 [==============================] - 0s 10us/step - loss: 5.6260e-05 - val_loss: 5.3183e-05\n",
            "Epoch 74/1000\n",
            "8000/8000 [==============================] - 0s 8us/step - loss: 5.5702e-05 - val_loss: 5.3131e-05\n",
            "Epoch 75/1000\n",
            "8000/8000 [==============================] - 0s 8us/step - loss: 5.5706e-05 - val_loss: 5.3422e-05\n",
            "Epoch 76/1000\n",
            "8000/8000 [==============================] - 0s 8us/step - loss: 5.6060e-05 - val_loss: 5.4199e-05\n",
            "Epoch 77/1000\n",
            "8000/8000 [==============================] - 0s 8us/step - loss: 5.6066e-05 - val_loss: 5.3920e-05\n",
            "Epoch 78/1000\n",
            "8000/8000 [==============================] - 0s 8us/step - loss: 5.5894e-05 - val_loss: 5.3229e-05\n",
            "Epoch 79/1000\n",
            "8000/8000 [==============================] - 0s 8us/step - loss: 5.5833e-05 - val_loss: 5.3692e-05\n",
            "Epoch 80/1000\n",
            "8000/8000 [==============================] - 0s 8us/step - loss: 5.6453e-05 - val_loss: 5.3004e-05\n",
            "Epoch 81/1000\n",
            "8000/8000 [==============================] - 0s 7us/step - loss: 5.6055e-05 - val_loss: 5.4633e-05\n",
            "Epoch 82/1000\n",
            "8000/8000 [==============================] - 0s 9us/step - loss: 5.6010e-05 - val_loss: 5.3712e-05\n",
            "Epoch 83/1000\n",
            "8000/8000 [==============================] - 0s 8us/step - loss: 5.6672e-05 - val_loss: 5.4122e-05\n",
            "Epoch 84/1000\n",
            "8000/8000 [==============================] - 0s 8us/step - loss: 5.5770e-05 - val_loss: 5.2736e-05\n",
            "Epoch 00084: early stopping\n"
          ],
          "name": "stdout"
        }
      ]
    },
    {
      "cell_type": "code",
      "metadata": {
        "id": "8J_Ed2SdkU6r",
        "colab_type": "code",
        "colab": {
          "base_uri": "https://localhost:8080/",
          "height": 69
        },
        "outputId": "cbf8be46-d989-4ca0-9e30-eda02c005401"
      },
      "source": [
        "compute_rmse(np.array(model.predict(pd.DataFrame.as_matrix(X_test))),np.array(y_test))"
      ],
      "execution_count": 138,
      "outputs": [
        {
          "output_type": "stream",
          "text": [
            "D:\\Anaconda3\\lib\\site-packages\\ipykernel_launcher.py:1: FutureWarning: Method .as_matrix will be removed in a future version. Use .values instead.\n",
            "  \"\"\"Entry point for launching an IPython kernel.\n"
          ],
          "name": "stderr"
        },
        {
          "output_type": "execute_result",
          "data": {
            "text/plain": [
              "0.007261977111652329"
            ]
          },
          "metadata": {
            "tags": []
          },
          "execution_count": 138
        }
      ]
    },
    {
      "cell_type": "code",
      "metadata": {
        "id": "lW3a5GkVkrhq",
        "colab_type": "code",
        "colab": {
          "base_uri": "https://localhost:8080/",
          "height": 333
        },
        "outputId": "09f448ff-e988-4fa4-d3fa-74e160741d77"
      },
      "source": [
        "plt.figure()\n",
        "plt.rcParams['font.sans-serif']=['SimHei'] #用来正常显示中文标签\n",
        "plt.rcParams['axes.unicode_minus']=False #用来正常显示负号\n",
        "x = np.linspace(0,1,40)\n",
        "plt.plot(x,np.array(model.predict(pd.DataFrame.as_matrix(X_test[0:40]))),'r.',x,np.array(y_test[0:40]),'b.')"
      ],
      "execution_count": 141,
      "outputs": [
        {
          "output_type": "stream",
          "text": [
            "D:\\Anaconda3\\lib\\site-packages\\ipykernel_launcher.py:5: FutureWarning: Method .as_matrix will be removed in a future version. Use .values instead.\n",
            "  \"\"\"\n"
          ],
          "name": "stderr"
        },
        {
          "output_type": "execute_result",
          "data": {
            "text/plain": [
              "[<matplotlib.lines.Line2D at 0x209a6a7c128>,\n",
              " <matplotlib.lines.Line2D at 0x209a6a7c278>]"
            ]
          },
          "metadata": {
            "tags": []
          },
          "execution_count": 141
        },
        {
          "output_type": "display_data",
          "data": {
            "text/plain": [
              "<Figure size 432x288 with 1 Axes>"
            ],
            "image/png": "[encoded data removed]"
          },
          "metadata": {
            "tags": []
          }
        }
      ]
    },
    {
      "cell_type": "code",
      "metadata": {
        "id": "nCjmPeQLk6hS",
        "colab_type": "code",
        "colab": {}
      },
      "source": [
        ""
      ],
      "execution_count": 0,
      "outputs": []
    }
  ]
}