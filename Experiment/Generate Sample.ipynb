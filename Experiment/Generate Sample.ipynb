{
 "cells": [
  {
   "cell_type": "markdown",
   "metadata": {},
   "source": [
    "# Generate Clustered Sample using mixture Gaussian"
   ]
  },
  {
   "cell_type": "markdown",
   "metadata": {},
   "source": [
    "Two functions have been written in this page: generate_2d_sample and generate_3d_sample. They are used to generate mixture of Gaussian binary image used for geo ressearch in 2d image and 3d image respectively.\n",
    "\n",
    "In your application, only generate_3d_sample should be used since your image shape is 3d like (20, 20, 20). The reason I also wrote 2d version is that 2d version can be visualized fast."
   ]
  },
  {
   "cell_type": "markdown",
   "metadata": {},
   "source": [
    "## Library"
   ]
  },
  {
   "cell_type": "code",
   "execution_count": 5,
   "metadata": {},
   "outputs": [],
   "source": [
    "import pandas as pd\n",
    "import numpy as np"
   ]
  },
  {
   "cell_type": "markdown",
   "metadata": {},
   "source": [
    "## Generate 2d image"
   ]
  },
  {
   "cell_type": "code",
   "execution_count": 24,
   "metadata": {},
   "outputs": [],
   "source": [
    "def generate_2d_sample(mean_array, num_samples_per_cluster, cov, output_side_length):\n",
    "    y = np.zeros((num_samples_per_cluster * len(mean_array), 2))\n",
    "    for i in range(len(mean_array)):\n",
    "        generated_data = np.floor(np.random.multivariate_normal(mean_array[i], cov, num_samples_per_cluster))\n",
    "        y[(num_samples_per_cluster * i):(num_samples_per_cluster * (i + 1)), :] = generated_data\n",
    "    z = np.zeros((output_side_length,output_side_length))\n",
    "    for i in range(output_side_length):\n",
    "        for j in range(output_side_length):\n",
    "            if (y == [i,j]).all(1).any():\n",
    "                z[i,j] = 1\n",
    "    \n",
    "    return z"
   ]
  },
  {
   "cell_type": "code",
   "execution_count": 142,
   "metadata": {},
   "outputs": [],
   "source": [
    "def generate_2d_sample_fast(mean_array, num_samples_per_cluster, cov, output_side_length):\n",
    "    y = np.zeros((num_samples_per_cluster * len(mean_array), 2))\n",
    "    for i in range(len(mean_array)):\n",
    "        generated_data = np.floor(np.random.multivariate_normal(mean_array[i], cov, num_samples_per_cluster))\n",
    "        y[(num_samples_per_cluster * i):(num_samples_per_cluster * (i + 1)), :] = generated_data\n",
    "    filtered_y = y[np.all(np.logical_and(y>=0, y<output_side_length), axis=1)]\n",
    "    filtered_y = filtered_y.astype(int)\n",
    "    z = np.zeros((output_side_length,output_side_length))\n",
    "    z[filtered_y[:,0], filtered_y[:,1]] = 1\n",
    "    return z"
   ]
  },
  {
   "cell_type": "code",
   "execution_count": 148,
   "metadata": {},
   "outputs": [
    {
     "data": {
      "text/plain": [
       "<matplotlib.collections.PathCollection at 0x117a9b358>"
      ]
     },
     "execution_count": 148,
     "metadata": {},
     "output_type": "execute_result"
    },
    {
     "data": {
      "image/png": "[encoded data removed]",
      "text/plain": [
       "<Figure size 432x288 with 1 Axes>"
      ]
     },
     "metadata": {
      "needs_background": "light"
     },
     "output_type": "display_data"
    }
   ],
   "source": [
    "mean_array = [(2, 5), (6, 18), (14, 2)]\n",
    "num_samples_per_cluster = 50\n",
    "cov = [[1, 0], [0, 1]]\n",
    "output_side_length = 20\n",
    "num_samples_per_cluster_list = []\n",
    "num_dots_list = []\n",
    "for num_samples_per_cluster in range(1, 3000, 20):\n",
    "    z = generate_2d_sample(mean_array, num_samples_per_cluster, cov, output_side_length)\n",
    "    num_samples_per_cluster_list.append(num_samples_per_cluster)\n",
    "    num_dots_list.append(np.sum(z))\n",
    "\n",
    "plt.scatter(num_samples_per_cluster_list, num_dots_list)"
   ]
  },
  {
   "cell_type": "markdown",
   "metadata": {},
   "source": [
    "### Preview"
   ]
  },
  {
   "cell_type": "code",
   "execution_count": 154,
   "metadata": {},
   "outputs": [
    {
     "name": "stdout",
     "output_type": "stream",
     "text": [
      "[[0. 0. 0. 0. 1. 1. 0. 0. 0. 0. 0. 0. 0. 0. 0. 0. 0. 0. 0. 0.]\n",
      " [0. 0. 0. 1. 1. 1. 1. 0. 0. 0. 0. 0. 0. 0. 0. 0. 0. 0. 0. 0.]\n",
      " [0. 0. 0. 1. 1. 1. 1. 0. 0. 0. 0. 0. 0. 0. 0. 0. 0. 0. 0. 0.]\n",
      " [0. 0. 0. 1. 1. 1. 1. 0. 0. 0. 0. 0. 0. 0. 0. 0. 0. 0. 0. 1.]\n",
      " [0. 0. 0. 1. 0. 0. 0. 0. 0. 0. 0. 0. 0. 0. 0. 0. 1. 1. 1. 0.]\n",
      " [0. 0. 0. 0. 0. 0. 0. 0. 0. 0. 0. 0. 0. 0. 0. 0. 1. 1. 1. 1.]\n",
      " [0. 0. 0. 0. 0. 0. 0. 0. 0. 0. 0. 0. 0. 0. 0. 0. 1. 1. 1. 1.]\n",
      " [0. 0. 0. 0. 0. 0. 0. 0. 0. 0. 0. 0. 0. 0. 0. 0. 1. 1. 1. 0.]\n",
      " [0. 0. 0. 0. 0. 0. 0. 0. 0. 0. 0. 0. 0. 0. 0. 0. 0. 0. 0. 0.]\n",
      " [0. 0. 0. 0. 0. 0. 0. 0. 0. 0. 0. 0. 0. 0. 0. 0. 0. 0. 0. 0.]\n",
      " [0. 0. 0. 0. 0. 0. 0. 0. 0. 0. 0. 0. 0. 0. 0. 0. 0. 0. 0. 0.]\n",
      " [0. 0. 1. 0. 0. 0. 0. 0. 0. 0. 0. 0. 0. 0. 0. 0. 0. 0. 0. 0.]\n",
      " [1. 1. 1. 0. 0. 0. 0. 0. 0. 0. 0. 0. 0. 0. 0. 0. 0. 0. 0. 0.]\n",
      " [1. 1. 1. 1. 1. 0. 0. 0. 0. 0. 0. 0. 0. 0. 0. 0. 0. 0. 0. 0.]\n",
      " [1. 1. 1. 1. 0. 0. 0. 0. 0. 0. 0. 0. 0. 0. 0. 0. 0. 0. 0. 0.]\n",
      " [1. 1. 1. 0. 1. 0. 0. 0. 0. 0. 0. 0. 0. 0. 0. 0. 0. 0. 0. 0.]\n",
      " [0. 0. 0. 1. 0. 0. 0. 0. 0. 0. 0. 0. 0. 0. 0. 0. 0. 0. 0. 0.]\n",
      " [0. 1. 0. 0. 0. 0. 0. 0. 0. 0. 0. 0. 0. 0. 0. 0. 0. 0. 0. 0.]\n",
      " [0. 0. 0. 0. 0. 0. 0. 0. 0. 0. 0. 0. 0. 0. 0. 0. 0. 0. 0. 0.]\n",
      " [0. 0. 0. 0. 0. 0. 0. 0. 0. 0. 0. 0. 0. 0. 0. 0. 0. 0. 0. 0.]]\n"
     ]
    }
   ],
   "source": [
    "mean_array = [(2, 5), (6, 18), (14, 2)]\n",
    "num_samples_per_cluster = 50\n",
    "cov = [[1, 0], [0, 1]]\n",
    "output_side_length = 20\n",
    "z = generate_2d_sample_fast(mean_array, num_samples_per_cluster, cov, output_side_length)\n",
    "print(z)"
   ]
  },
  {
   "cell_type": "markdown",
   "metadata": {},
   "source": [
    "## Generate 3d Image"
   ]
  },
  {
   "cell_type": "code",
   "execution_count": 10,
   "metadata": {},
   "outputs": [],
   "source": [
    "def generate_3d_sample(mean_array, num_samples_per_cluster, cov, output_side_length):\n",
    "    y = np.zeros((num_samples_per_cluster * len(mean_array), 3))\n",
    "    for i in range(len(mean_array)):\n",
    "        generated_data = np.floor(np.random.multivariate_normal(mean_array[i], cov, num_samples_per_cluster))\n",
    "        y[(num_samples_per_cluster * i):(num_samples_per_cluster * (i + 1)), :] = generated_data\n",
    "\n",
    "    z = np.zeros((output_side_length,output_side_length, output_side_length))\n",
    "    for i in range(output_side_length):\n",
    "            for j in range(output_side_length):\n",
    "                for k in range(output_side_length):\n",
    "                    if (y == [i,j,k]).all(1).any():\n",
    "                        z[i,j,k] = 1\n",
    "    return z"
   ]
  },
  {
   "cell_type": "code",
   "execution_count": 170,
   "metadata": {},
   "outputs": [],
   "source": [
    "def generate_3d_sample_fast(mean_array, num_samples_per_cluster, cov, output_side_length):\n",
    "    y = np.zeros((num_samples_per_cluster * len(mean_array), 3))\n",
    "    for i in range(len(mean_array)):\n",
    "        generated_data = np.floor(np.random.multivariate_normal(mean_array[i], cov, num_samples_per_cluster))\n",
    "        y[(num_samples_per_cluster * i):(num_samples_per_cluster * (i + 1)), :] = generated_data\n",
    "    filtered_y = y[np.all(np.logical_and(y>=0, y<output_side_length), axis=1)]\n",
    "    filtered_y = filtered_y.astype(int)\n",
    "    z = np.zeros((output_side_length,output_side_length, output_side_length))\n",
    "    z[filtered_y[:,0], filtered_y[:,1], filtered_y[:,2]] = 1\n",
    "    return z"
   ]
  },
  {
   "cell_type": "markdown",
   "metadata": {},
   "source": [
    "### volumn will converge when num_samples_per_cluster goes infinite"
   ]
  },
  {
   "cell_type": "code",
   "execution_count": 175,
   "metadata": {},
   "outputs": [
    {
     "data": {
      "text/plain": [
       "<matplotlib.collections.PathCollection at 0x117b6c7b8>"
      ]
     },
     "execution_count": 175,
     "metadata": {},
     "output_type": "execute_result"
    },
    {
     "data": {
      "image/png": "[encoded data removed]",
      "text/plain": [
       "<Figure size 432x288 with 1 Axes>"
      ]
     },
     "metadata": {
      "needs_background": "light"
     },
     "output_type": "display_data"
    }
   ],
   "source": [
    "mean_array = [(10, 5, 5), (3, 16, 4), (2, 2, 7), (4,4,9)]\n",
    "num_samples_per_cluster = 50\n",
    "cov = [[1, 0, 0], [0, 1, 0], [0, 0, 1]]\n",
    "output_side_length = 20\n",
    "num_samples_per_cluster_list = []\n",
    "num_dots_list = []\n",
    "for num_samples_per_cluster in range(1, 3000, 20):\n",
    "    z = generate_3d_sample_fast(mean_array, num_samples_per_cluster, cov, output_side_length)\n",
    "    num_samples_per_cluster_list.append(num_samples_per_cluster)\n",
    "    num_dots_list.append(np.sum(z))\n",
    "\n",
    "plt.scatter(num_samples_per_cluster_list, num_dots_list)"
   ]
  },
  {
   "cell_type": "markdown",
   "metadata": {},
   "source": [
    "### How to use in your project!!\n",
    "In your application, you only need to adjust the value of mean_array. This are the coordinates of the centers of cluster in your image. \n",
    "Note, if your image size is 20 above, you would better choose mean_array which has values between 0 and 20."
   ]
  },
  {
   "cell_type": "code",
   "execution_count": 172,
   "metadata": {},
   "outputs": [],
   "source": [
    "# example\n",
    "mean_array = [(10, 5, 5), (3, 16, 4), (2, 2, 7), (4,4,9)]\n",
    "num_samples_per_cluster = 50\n",
    "cov = [[1, 0, 0], [0, 1, 0], [0, 0, 1]]\n",
    "output_side_length = 20\n",
    "\n",
    "z = generate_3d_sample_fast(mean_array, num_samples_per_cluster, cov, output_side_length)"
   ]
  },
  {
   "cell_type": "markdown",
   "metadata": {},
   "source": [
    "### Preview "
   ]
  },
  {
   "cell_type": "code",
   "execution_count": 17,
   "metadata": {},
   "outputs": [
    {
     "data": {
      "text/plain": [
       "(20, 20, 20)"
      ]
     },
     "execution_count": 17,
     "metadata": {},
     "output_type": "execute_result"
    }
   ],
   "source": [
    "z.shape"
   ]
  },
  {
   "cell_type": "code",
   "execution_count": 16,
   "metadata": {},
   "outputs": [],
   "source": [
    "from mpl_toolkits.mplot3d import Axes3D\n",
    "import matplotlib.pyplot as plt\n",
    "\n",
    "\n",
    "Axes3D.scatter()"
   ]
  },
  {
   "cell_type": "code",
   "execution_count": null,
   "metadata": {},
   "outputs": [],
   "source": []
  },
  {
   "cell_type": "code",
   "execution_count": null,
   "metadata": {},
   "outputs": [],
   "source": []
  }
 ],
 "metadata": {
  "kernelspec": {
   "display_name": "Python 3",
   "language": "python",
   "name": "python3"
  },
  "language_info": {
   "codemirror_mode": {
    "name": "ipython",
    "version": 3
   },
   "file_extension": ".py",
   "mimetype": "text/x-python",
   "name": "python",
   "nbconvert_exporter": "python",
   "pygments_lexer": "ipython3",
   "version": "3.7.0"
  }
 },
 "nbformat": 4,
 "nbformat_minor": 2
}
